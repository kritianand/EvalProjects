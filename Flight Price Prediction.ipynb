{
 "cells": [
  {
   "cell_type": "code",
   "execution_count": 10,
   "metadata": {},
   "outputs": [],
   "source": [
    "import pandas as pd\n",
    "import numpy as np\n",
    "import seaborn as sns\n",
    "import matplotlib.pyplot as plt\n",
    "%matplotlib inline\n",
    "\n",
    "import warnings\n",
    "warnings.filterwarnings(\"ignore\")"
   ]
  },
  {
   "cell_type": "code",
   "execution_count": 11,
   "metadata": {},
   "outputs": [],
   "source": [
    "df1=pd.read_csv('FlightData_train.csv')"
   ]
  },
  {
   "cell_type": "code",
   "execution_count": 12,
   "metadata": {},
   "outputs": [],
   "source": [
    "df2=pd.read_csv('FlightTest_set.csv')"
   ]
  },
  {
   "cell_type": "code",
   "execution_count": 13,
   "metadata": {},
   "outputs": [
    {
     "data": {
      "text/plain": [
       "(10683, 11)"
      ]
     },
     "execution_count": 13,
     "metadata": {},
     "output_type": "execute_result"
    }
   ],
   "source": [
    "df1.shape"
   ]
  },
  {
   "cell_type": "code",
   "execution_count": 14,
   "metadata": {},
   "outputs": [
    {
     "data": {
      "text/plain": [
       "(2671, 10)"
      ]
     },
     "execution_count": 14,
     "metadata": {},
     "output_type": "execute_result"
    }
   ],
   "source": [
    "df2.shape"
   ]
  },
  {
   "cell_type": "code",
   "execution_count": 15,
   "metadata": {},
   "outputs": [
    {
     "data": {
      "text/html": [
       "<div>\n",
       "<style scoped>\n",
       "    .dataframe tbody tr th:only-of-type {\n",
       "        vertical-align: middle;\n",
       "    }\n",
       "\n",
       "    .dataframe tbody tr th {\n",
       "        vertical-align: top;\n",
       "    }\n",
       "\n",
       "    .dataframe thead th {\n",
       "        text-align: right;\n",
       "    }\n",
       "</style>\n",
       "<table border=\"1\" class=\"dataframe\">\n",
       "  <thead>\n",
       "    <tr style=\"text-align: right;\">\n",
       "      <th></th>\n",
       "      <th>Airline</th>\n",
       "      <th>Date_of_Journey</th>\n",
       "      <th>Source</th>\n",
       "      <th>Destination</th>\n",
       "      <th>Route</th>\n",
       "      <th>Dep_Time</th>\n",
       "      <th>Arrival_Time</th>\n",
       "      <th>Duration</th>\n",
       "      <th>Total_Stops</th>\n",
       "      <th>Additional_Info</th>\n",
       "      <th>Price</th>\n",
       "    </tr>\n",
       "  </thead>\n",
       "  <tbody>\n",
       "    <tr>\n",
       "      <td>0</td>\n",
       "      <td>IndiGo</td>\n",
       "      <td>24/03/2019</td>\n",
       "      <td>Banglore</td>\n",
       "      <td>New Delhi</td>\n",
       "      <td>BLR ? DEL</td>\n",
       "      <td>22:20</td>\n",
       "      <td>01:10 22 Mar</td>\n",
       "      <td>2h 50m</td>\n",
       "      <td>non-stop</td>\n",
       "      <td>No info</td>\n",
       "      <td>3897</td>\n",
       "    </tr>\n",
       "    <tr>\n",
       "      <td>1</td>\n",
       "      <td>Air India</td>\n",
       "      <td>1/05/2019</td>\n",
       "      <td>Kolkata</td>\n",
       "      <td>Banglore</td>\n",
       "      <td>CCU ? IXR ? BBI ? BLR</td>\n",
       "      <td>05:50</td>\n",
       "      <td>13:15</td>\n",
       "      <td>7h 25m</td>\n",
       "      <td>2 stops</td>\n",
       "      <td>No info</td>\n",
       "      <td>7662</td>\n",
       "    </tr>\n",
       "    <tr>\n",
       "      <td>2</td>\n",
       "      <td>Jet Airways</td>\n",
       "      <td>9/06/2019</td>\n",
       "      <td>Delhi</td>\n",
       "      <td>Cochin</td>\n",
       "      <td>DEL ? LKO ? BOM ? COK</td>\n",
       "      <td>09:25</td>\n",
       "      <td>04:25 10 Jun</td>\n",
       "      <td>19h</td>\n",
       "      <td>2 stops</td>\n",
       "      <td>No info</td>\n",
       "      <td>13882</td>\n",
       "    </tr>\n",
       "    <tr>\n",
       "      <td>3</td>\n",
       "      <td>IndiGo</td>\n",
       "      <td>12/05/2019</td>\n",
       "      <td>Kolkata</td>\n",
       "      <td>Banglore</td>\n",
       "      <td>CCU ? NAG ? BLR</td>\n",
       "      <td>18:05</td>\n",
       "      <td>23:30</td>\n",
       "      <td>5h 25m</td>\n",
       "      <td>1 stop</td>\n",
       "      <td>No info</td>\n",
       "      <td>6218</td>\n",
       "    </tr>\n",
       "    <tr>\n",
       "      <td>4</td>\n",
       "      <td>IndiGo</td>\n",
       "      <td>01/03/2019</td>\n",
       "      <td>Banglore</td>\n",
       "      <td>New Delhi</td>\n",
       "      <td>BLR ? NAG ? DEL</td>\n",
       "      <td>16:50</td>\n",
       "      <td>21:35</td>\n",
       "      <td>4h 45m</td>\n",
       "      <td>1 stop</td>\n",
       "      <td>No info</td>\n",
       "      <td>13302</td>\n",
       "    </tr>\n",
       "  </tbody>\n",
       "</table>\n",
       "</div>"
      ],
      "text/plain": [
       "       Airline Date_of_Journey    Source Destination                  Route  \\\n",
       "0       IndiGo      24/03/2019  Banglore   New Delhi              BLR ? DEL   \n",
       "1    Air India       1/05/2019   Kolkata    Banglore  CCU ? IXR ? BBI ? BLR   \n",
       "2  Jet Airways       9/06/2019     Delhi      Cochin  DEL ? LKO ? BOM ? COK   \n",
       "3       IndiGo      12/05/2019   Kolkata    Banglore        CCU ? NAG ? BLR   \n",
       "4       IndiGo      01/03/2019  Banglore   New Delhi        BLR ? NAG ? DEL   \n",
       "\n",
       "  Dep_Time  Arrival_Time Duration Total_Stops Additional_Info  Price  \n",
       "0    22:20  01:10 22 Mar   2h 50m    non-stop         No info   3897  \n",
       "1    05:50         13:15   7h 25m     2 stops         No info   7662  \n",
       "2    09:25  04:25 10 Jun      19h     2 stops         No info  13882  \n",
       "3    18:05         23:30   5h 25m      1 stop         No info   6218  \n",
       "4    16:50         21:35   4h 45m      1 stop         No info  13302  "
      ]
     },
     "execution_count": 15,
     "metadata": {},
     "output_type": "execute_result"
    }
   ],
   "source": [
    "df1.head()"
   ]
  },
  {
   "cell_type": "code",
   "execution_count": 16,
   "metadata": {},
   "outputs": [
    {
     "data": {
      "text/html": [
       "<div>\n",
       "<style scoped>\n",
       "    .dataframe tbody tr th:only-of-type {\n",
       "        vertical-align: middle;\n",
       "    }\n",
       "\n",
       "    .dataframe tbody tr th {\n",
       "        vertical-align: top;\n",
       "    }\n",
       "\n",
       "    .dataframe thead th {\n",
       "        text-align: right;\n",
       "    }\n",
       "</style>\n",
       "<table border=\"1\" class=\"dataframe\">\n",
       "  <thead>\n",
       "    <tr style=\"text-align: right;\">\n",
       "      <th></th>\n",
       "      <th>Airline</th>\n",
       "      <th>Date_of_Journey</th>\n",
       "      <th>Source</th>\n",
       "      <th>Destination</th>\n",
       "      <th>Route</th>\n",
       "      <th>Dep_Time</th>\n",
       "      <th>Arrival_Time</th>\n",
       "      <th>Duration</th>\n",
       "      <th>Total_Stops</th>\n",
       "      <th>Additional_Info</th>\n",
       "    </tr>\n",
       "  </thead>\n",
       "  <tbody>\n",
       "    <tr>\n",
       "      <td>0</td>\n",
       "      <td>Jet Airways</td>\n",
       "      <td>6/06/2019</td>\n",
       "      <td>Delhi</td>\n",
       "      <td>Cochin</td>\n",
       "      <td>DEL ? BOM ? COK</td>\n",
       "      <td>17:30</td>\n",
       "      <td>04:25 07 Jun</td>\n",
       "      <td>10h 55m</td>\n",
       "      <td>1 stop</td>\n",
       "      <td>No info</td>\n",
       "    </tr>\n",
       "    <tr>\n",
       "      <td>1</td>\n",
       "      <td>IndiGo</td>\n",
       "      <td>12/05/2019</td>\n",
       "      <td>Kolkata</td>\n",
       "      <td>Banglore</td>\n",
       "      <td>CCU ? MAA ? BLR</td>\n",
       "      <td>06:20</td>\n",
       "      <td>10:20</td>\n",
       "      <td>4h</td>\n",
       "      <td>1 stop</td>\n",
       "      <td>No info</td>\n",
       "    </tr>\n",
       "    <tr>\n",
       "      <td>2</td>\n",
       "      <td>Jet Airways</td>\n",
       "      <td>21/05/2019</td>\n",
       "      <td>Delhi</td>\n",
       "      <td>Cochin</td>\n",
       "      <td>DEL ? BOM ? COK</td>\n",
       "      <td>19:15</td>\n",
       "      <td>19:00 22 May</td>\n",
       "      <td>23h 45m</td>\n",
       "      <td>1 stop</td>\n",
       "      <td>In-flight meal not included</td>\n",
       "    </tr>\n",
       "    <tr>\n",
       "      <td>3</td>\n",
       "      <td>Multiple carriers</td>\n",
       "      <td>21/05/2019</td>\n",
       "      <td>Delhi</td>\n",
       "      <td>Cochin</td>\n",
       "      <td>DEL ? BOM ? COK</td>\n",
       "      <td>08:00</td>\n",
       "      <td>21:00</td>\n",
       "      <td>13h</td>\n",
       "      <td>1 stop</td>\n",
       "      <td>No info</td>\n",
       "    </tr>\n",
       "    <tr>\n",
       "      <td>4</td>\n",
       "      <td>Air Asia</td>\n",
       "      <td>24/06/2019</td>\n",
       "      <td>Banglore</td>\n",
       "      <td>Delhi</td>\n",
       "      <td>BLR ? DEL</td>\n",
       "      <td>23:55</td>\n",
       "      <td>02:45 25 Jun</td>\n",
       "      <td>2h 50m</td>\n",
       "      <td>non-stop</td>\n",
       "      <td>No info</td>\n",
       "    </tr>\n",
       "  </tbody>\n",
       "</table>\n",
       "</div>"
      ],
      "text/plain": [
       "             Airline Date_of_Journey    Source Destination            Route  \\\n",
       "0        Jet Airways       6/06/2019     Delhi      Cochin  DEL ? BOM ? COK   \n",
       "1             IndiGo      12/05/2019   Kolkata    Banglore  CCU ? MAA ? BLR   \n",
       "2        Jet Airways      21/05/2019     Delhi      Cochin  DEL ? BOM ? COK   \n",
       "3  Multiple carriers      21/05/2019     Delhi      Cochin  DEL ? BOM ? COK   \n",
       "4           Air Asia      24/06/2019  Banglore       Delhi        BLR ? DEL   \n",
       "\n",
       "  Dep_Time  Arrival_Time Duration Total_Stops              Additional_Info  \n",
       "0    17:30  04:25 07 Jun  10h 55m      1 stop                      No info  \n",
       "1    06:20         10:20       4h      1 stop                      No info  \n",
       "2    19:15  19:00 22 May  23h 45m      1 stop  In-flight meal not included  \n",
       "3    08:00         21:00      13h      1 stop                      No info  \n",
       "4    23:55  02:45 25 Jun   2h 50m    non-stop                      No info  "
      ]
     },
     "execution_count": 16,
     "metadata": {},
     "output_type": "execute_result"
    }
   ],
   "source": [
    "df2.head()"
   ]
  },
  {
   "cell_type": "code",
   "execution_count": 17,
   "metadata": {},
   "outputs": [
    {
     "data": {
      "text/plain": [
       "Airline            0\n",
       "Date_of_Journey    0\n",
       "Source             0\n",
       "Destination        0\n",
       "Route              1\n",
       "Dep_Time           0\n",
       "Arrival_Time       0\n",
       "Duration           0\n",
       "Total_Stops        1\n",
       "Additional_Info    0\n",
       "Price              0\n",
       "dtype: int64"
      ]
     },
     "execution_count": 17,
     "metadata": {},
     "output_type": "execute_result"
    }
   ],
   "source": [
    "df1.isnull().sum()"
   ]
  },
  {
   "cell_type": "code",
   "execution_count": 18,
   "metadata": {},
   "outputs": [
    {
     "data": {
      "text/plain": [
       "Airline            0\n",
       "Date_of_Journey    0\n",
       "Source             0\n",
       "Destination        0\n",
       "Route              0\n",
       "Dep_Time           0\n",
       "Arrival_Time       0\n",
       "Duration           0\n",
       "Total_Stops        0\n",
       "Additional_Info    0\n",
       "dtype: int64"
      ]
     },
     "execution_count": 18,
     "metadata": {},
     "output_type": "execute_result"
    }
   ],
   "source": [
    "df2.isnull().sum()"
   ]
  },
  {
   "cell_type": "code",
   "execution_count": 23,
   "metadata": {},
   "outputs": [],
   "source": [
    "df1.dropna(inplace=True)"
   ]
  },
  {
   "cell_type": "code",
   "execution_count": 24,
   "metadata": {},
   "outputs": [
    {
     "data": {
      "text/plain": [
       "Airline            0\n",
       "Date_of_Journey    0\n",
       "Source             0\n",
       "Destination        0\n",
       "Route              0\n",
       "Dep_Time           0\n",
       "Arrival_Time       0\n",
       "Duration           0\n",
       "Total_Stops        0\n",
       "Additional_Info    0\n",
       "Price              0\n",
       "dtype: int64"
      ]
     },
     "execution_count": 24,
     "metadata": {},
     "output_type": "execute_result"
    }
   ],
   "source": [
    "df1.isnull().sum()"
   ]
  },
  {
   "cell_type": "code",
   "execution_count": 25,
   "metadata": {},
   "outputs": [
    {
     "data": {
      "text/plain": [
       "Index(['Airline', 'Date_of_Journey', 'Source', 'Destination', 'Route',\n",
       "       'Dep_Time', 'Arrival_Time', 'Duration', 'Total_Stops',\n",
       "       'Additional_Info', 'Price'],\n",
       "      dtype='object')"
      ]
     },
     "execution_count": 25,
     "metadata": {},
     "output_type": "execute_result"
    }
   ],
   "source": [
    "df1.columns"
   ]
  },
  {
   "cell_type": "code",
   "execution_count": 26,
   "metadata": {},
   "outputs": [
    {
     "data": {
      "text/plain": [
       "Index(['Airline', 'Date_of_Journey', 'Source', 'Destination', 'Route',\n",
       "       'Dep_Time', 'Arrival_Time', 'Duration', 'Total_Stops',\n",
       "       'Additional_Info'],\n",
       "      dtype='object')"
      ]
     },
     "execution_count": 26,
     "metadata": {},
     "output_type": "execute_result"
    }
   ],
   "source": [
    "df2.columns"
   ]
  },
  {
   "cell_type": "code",
   "execution_count": 27,
   "metadata": {},
   "outputs": [
    {
     "data": {
      "text/plain": [
       "Airline            object\n",
       "Date_of_Journey    object\n",
       "Source             object\n",
       "Destination        object\n",
       "Route              object\n",
       "Dep_Time           object\n",
       "Arrival_Time       object\n",
       "Duration           object\n",
       "Total_Stops        object\n",
       "Additional_Info    object\n",
       "Price               int64\n",
       "dtype: object"
      ]
     },
     "execution_count": 27,
     "metadata": {},
     "output_type": "execute_result"
    }
   ],
   "source": [
    "df1.dtypes"
   ]
  },
  {
   "cell_type": "code",
   "execution_count": 28,
   "metadata": {},
   "outputs": [
    {
     "data": {
      "text/plain": [
       "Airline            object\n",
       "Date_of_Journey    object\n",
       "Source             object\n",
       "Destination        object\n",
       "Route              object\n",
       "Dep_Time           object\n",
       "Arrival_Time       object\n",
       "Duration           object\n",
       "Total_Stops        object\n",
       "Additional_Info    object\n",
       "dtype: object"
      ]
     },
     "execution_count": 28,
     "metadata": {},
     "output_type": "execute_result"
    }
   ],
   "source": [
    "df2.dtypes"
   ]
  },
  {
   "cell_type": "code",
   "execution_count": 34,
   "metadata": {},
   "outputs": [
    {
     "data": {
      "text/plain": [
       "Jet Airways                          36.032578\n",
       "IndiGo                               19.219247\n",
       "Air India                            16.392061\n",
       "Multiple carriers                    11.196405\n",
       "SpiceJet                              7.657742\n",
       "Vistara                               4.484179\n",
       "Air Asia                              2.986332\n",
       "GoAir                                 1.816139\n",
       "Multiple carriers Premium economy     0.121700\n",
       "Jet Airways Business                  0.056169\n",
       "Vistara Premium economy               0.028085\n",
       "Trujet                                0.009362\n",
       "Name: Airline, dtype: float64"
      ]
     },
     "execution_count": 34,
     "metadata": {},
     "output_type": "execute_result"
    }
   ],
   "source": [
    "df1['Airline'].value_counts()/len(df1['Airline'])*100"
   ]
  },
  {
   "cell_type": "code",
   "execution_count": 44,
   "metadata": {},
   "outputs": [
    {
     "data": {
      "text/plain": [
       "18/05/2019    4.718218\n",
       "6/06/2019     4.708856\n",
       "21/05/2019    4.652687\n",
       "9/06/2019     4.633964\n",
       "12/06/2019    4.615241\n",
       "9/05/2019     4.530987\n",
       "21/03/2019    3.959933\n",
       "15/05/2019    3.791425\n",
       "27/05/2019    3.576109\n",
       "27/06/2019    3.323348\n",
       "24/06/2019    3.285902\n",
       "1/06/2019     3.201648\n",
       "3/06/2019     3.117394\n",
       "15/06/2019    3.070586\n",
       "24/03/2019    3.023778\n",
       "6/03/2019     2.883355\n",
       "27/03/2019    2.799101\n",
       "24/05/2019    2.677401\n",
       "6/05/2019     2.630594\n",
       "1/05/2019     2.593147\n",
       "12/05/2019    2.424640\n",
       "1/04/2019     2.405916\n",
       "3/03/2019     2.040816\n",
       "9/03/2019     1.872309\n",
       "15/03/2019    1.516570\n",
       "18/03/2019    1.460401\n",
       "01/03/2019    1.422955\n",
       "12/03/2019    1.329339\n",
       "9/04/2019     1.170193\n",
       "3/04/2019     1.029770\n",
       "21/06/2019    1.020408\n",
       "18/06/2019    0.982962\n",
       "09/03/2019    0.954877\n",
       "6/04/2019     0.936154\n",
       "03/03/2019    0.908070\n",
       "06/03/2019    0.889347\n",
       "27/04/2019    0.879985\n",
       "24/04/2019    0.861262\n",
       "3/05/2019     0.842539\n",
       "15/04/2019    0.833177\n",
       "21/04/2019    0.767647\n",
       "18/04/2019    0.627223\n",
       "12/04/2019    0.589777\n",
       "1/03/2019     0.439993\n",
       "Name: Date_of_Journey, dtype: float64"
      ]
     },
     "execution_count": 44,
     "metadata": {},
     "output_type": "execute_result"
    }
   ],
   "source": [
    "df1['Date_of_Journey'].value_counts()/len(df1['Date_of_Journey'])*100"
   ]
  },
  {
   "cell_type": "code",
   "execution_count": 45,
   "metadata": {},
   "outputs": [
    {
     "data": {
      "text/plain": [
       "Delhi       42.463958\n",
       "Kolkata     26.876989\n",
       "Banglore    20.567309\n",
       "Mumbai       6.524995\n",
       "Chennai      3.566748\n",
       "Name: Source, dtype: float64"
      ]
     },
     "execution_count": 45,
     "metadata": {},
     "output_type": "execute_result"
    }
   ],
   "source": [
    "df1['Source'].value_counts()/len(df1['Source'])*100"
   ]
  },
  {
   "cell_type": "code",
   "execution_count": 46,
   "metadata": {},
   "outputs": [
    {
     "data": {
      "text/plain": [
       "Cochin       42.463958\n",
       "Banglore     26.876989\n",
       "Delhi        11.842352\n",
       "New Delhi     8.724958\n",
       "Hyderabad     6.524995\n",
       "Kolkata       3.566748\n",
       "Name: Destination, dtype: float64"
      ]
     },
     "execution_count": 46,
     "metadata": {},
     "output_type": "execute_result"
    }
   ],
   "source": [
    "df1['Destination'].value_counts()/len(df1['Destination'])*100"
   ]
  },
  {
   "cell_type": "code",
   "execution_count": 47,
   "metadata": {},
   "outputs": [
    {
     "data": {
      "text/plain": [
       "DEL ? BOM ? COK                22.243026\n",
       "BLR ? DEL                      14.529114\n",
       "CCU ? BOM ? BLR                 9.164950\n",
       "CCU ? BLR                       6.777757\n",
       "BOM ? HYD                       5.813518\n",
       "                                 ...    \n",
       "BOM ? NDC ? HYD                 0.009362\n",
       "BLR ? HBX ? BOM ? NAG ? DEL     0.009362\n",
       "BLR ? BOM ? IXC ? DEL           0.009362\n",
       "BOM ? COK ? MAA ? HYD           0.009362\n",
       "BOM ? JLR ? HYD                 0.009362\n",
       "Name: Route, Length: 128, dtype: float64"
      ]
     },
     "execution_count": 47,
     "metadata": {},
     "output_type": "execute_result"
    }
   ],
   "source": [
    "df1['Route'].value_counts()/len(df1['Route'])*100"
   ]
  },
  {
   "cell_type": "code",
   "execution_count": 48,
   "metadata": {},
   "outputs": [
    {
     "data": {
      "text/plain": [
       "18:55    2.181239\n",
       "17:00    2.125070\n",
       "07:05    1.919116\n",
       "10:00    1.900393\n",
       "07:10    1.891032\n",
       "           ...   \n",
       "22:25    0.009362\n",
       "21:40    0.009362\n",
       "03:00    0.009362\n",
       "01:35    0.009362\n",
       "04:50    0.009362\n",
       "Name: Dep_Time, Length: 222, dtype: float64"
      ]
     },
     "execution_count": 48,
     "metadata": {},
     "output_type": "execute_result"
    }
   ],
   "source": [
    "df1['Dep_Time'].value_counts()/len(df1['Dep_Time'])*100"
   ]
  },
  {
   "cell_type": "code",
   "execution_count": 49,
   "metadata": {},
   "outputs": [
    {
     "data": {
      "text/plain": [
       "19:00           3.959933\n",
       "21:00           3.370155\n",
       "19:15           3.117394\n",
       "16:10           1.441678\n",
       "12:35           1.142108\n",
       "                  ...   \n",
       "13:20 16 Mar    0.009362\n",
       "19:50 10 Jun    0.009362\n",
       "12:30 13 Jun    0.009362\n",
       "00:50 22 May    0.009362\n",
       "02:20 13 May    0.009362\n",
       "Name: Arrival_Time, Length: 1343, dtype: float64"
      ]
     },
     "execution_count": 49,
     "metadata": {},
     "output_type": "execute_result"
    }
   ],
   "source": [
    "df1['Arrival_Time'].value_counts()/len(df1['Arrival_Time'])*100"
   ]
  },
  {
   "cell_type": "code",
   "execution_count": 51,
   "metadata": {},
   "outputs": [
    {
     "data": {
      "text/plain": [
       "1 stop      52.658678\n",
       "non-stop    32.681146\n",
       "2 stops     14.229545\n",
       "3 stops      0.421269\n",
       "4 stops      0.009362\n",
       "Name: Total_Stops, dtype: float64"
      ]
     },
     "execution_count": 51,
     "metadata": {},
     "output_type": "execute_result"
    }
   ],
   "source": [
    "df1['Total_Stops'].value_counts()/len(df1['Total_Stops'])*100"
   ]
  },
  {
   "cell_type": "code",
   "execution_count": 50,
   "metadata": {},
   "outputs": [
    {
     "data": {
      "text/plain": [
       "2h 50m     5.148849\n",
       "1h 30m     3.613556\n",
       "2h 45m     3.154840\n",
       "2h 55m     3.154840\n",
       "2h 35m     3.079948\n",
       "             ...   \n",
       "4h 10m     0.009362\n",
       "30h 25m    0.009362\n",
       "29h 10m    0.009362\n",
       "31h 50m    0.009362\n",
       "5m         0.009362\n",
       "Name: Duration, Length: 368, dtype: float64"
      ]
     },
     "execution_count": 50,
     "metadata": {},
     "output_type": "execute_result"
    }
   ],
   "source": [
    "df1['Duration'].value_counts()/len(df1['Duration'])*100"
   ]
  },
  {
   "cell_type": "code",
   "execution_count": 52,
   "metadata": {},
   "outputs": [
    {
     "data": {
      "text/plain": [
       "No info                         78.112713\n",
       "In-flight meal not included     18.554578\n",
       "No check-in baggage included     2.995694\n",
       "1 Long layover                   0.177869\n",
       "Change airports                  0.065531\n",
       "Business class                   0.037446\n",
       "No Info                          0.028085\n",
       "Red-eye flight                   0.009362\n",
       "2 Long layover                   0.009362\n",
       "1 Short layover                  0.009362\n",
       "Name: Additional_Info, dtype: float64"
      ]
     },
     "execution_count": 52,
     "metadata": {},
     "output_type": "execute_result"
    }
   ],
   "source": [
    "df1['Additional_Info'].value_counts()/len(df1['Additional_Info']\n",
    "\n"
   ]
  },
  {
   "cell_type": "code",
   "execution_count": 54,
   "metadata": {},
   "outputs": [
    {
     "data": {
      "text/plain": [
       "<matplotlib.axes._subplots.AxesSubplot at 0x1a7a1b751c8>"
      ]
     },
     "execution_count": 54,
     "metadata": {},
     "output_type": "execute_result"
    },
    {
     "data": {
      "image/png": "[encoded data removed]",
      "text/plain": [
       "<Figure size 432x288 with 1 Axes>"
      ]
     },
     "metadata": {
      "needs_background": "light"
     },
     "output_type": "display_data"
    }
   ],
   "source": [
    "#Univariate Outlier Detection\n",
    "\n",
    "df1['Price'].plot.box()"
   ]
  },
  {
   "cell_type": "code",
   "execution_count": 57,
   "metadata": {},
   "outputs": [
    {
     "name": "stdout",
     "output_type": "stream",
     "text": [
      "First Quartile 5277.0\n",
      "Second Quartile 8372.0\n",
      "Third Quartile 12284.0\n",
      "Fourth Quartile 23001.0\n",
      "7007.0\n",
      "LR= -5233.5\n",
      "UR= 22794.5\n"
     ]
    },
    {
     "data": {
      "text/plain": [
       "<matplotlib.axes._subplots.AxesSubplot at 0x1a7a1e98588>"
      ]
     },
     "execution_count": 57,
     "metadata": {},
     "output_type": "execute_result"
    },
    {
     "data": {
      "image/png": "[encoded data removed]",
      "text/plain": [
       "<Figure size 432x288 with 1 Axes>"
      ]
     },
     "metadata": {
      "needs_background": "light"
     },
     "output_type": "display_data"
    }
   ],
   "source": [
    "#Removing Outliers in the variables data. Discarding the values above UR and below LR.\n",
    "\n",
    "Q1=df1['Price'].quantile(0.25)\n",
    "Q2=df1['Price'].quantile(0.50)\n",
    "Q3=df1['Price'].quantile(0.75)\n",
    "Q4=df1['Price'].quantile(1)\n",
    "print(\"First Quartile\",Q1)\n",
    "print(\"Second Quartile\",Q2)\n",
    "print(\"Third Quartile\",Q3)\n",
    "print(\"Fourth Quartile\",Q4)\n",
    "IQR=Q3-Q1\n",
    "print(IQR)\n",
    "LR=Q1-1.5*IQR\n",
    "UR=Q3+1.5*IQR\n",
    "print('LR=',LR)\n",
    "print('UR=',UR)\n",
    "df1.loc[df1['Price']>=UR,'Price']=np.mean(df1['Price'])\n",
    "\n",
    "#Verifying\n",
    "df1['Price'].plot.box()"
   ]
  },
  {
   "cell_type": "code",
   "execution_count": 58,
   "metadata": {},
   "outputs": [
    {
     "data": {
      "text/plain": [
       "array([ 3,  1,  4,  8,  6,  2, 10,  0, 11,  5,  7,  9], dtype=int64)"
      ]
     },
     "execution_count": 58,
     "metadata": {},
     "output_type": "execute_result"
    }
   ],
   "source": [
    "#Using Label Encoding to convert categorical variables into numerical values\n",
    "\n",
    "from sklearn import preprocessing\n",
    "label_encoder=preprocessing.LabelEncoder()\n",
    "df1['Airline']=label_encoder.fit_transform(df1['Airline'])\n",
    "df1['Airline'].unique()"
   ]
  },
  {
   "cell_type": "code",
   "execution_count": 59,
   "metadata": {},
   "outputs": [
    {
     "data": {
      "text/plain": [
       "array([24,  6, 43, 10,  0, 27,  8, 30,  7, 17, 42, 25, 32, 13, 11, 36, 20,\n",
       "       33, 38, 14, 19, 15, 37, 18, 31, 22,  2, 35, 12, 34, 40, 39, 26,  3,\n",
       "        5, 21, 23, 28, 16,  9, 41,  4,  1, 29], dtype=int64)"
      ]
     },
     "execution_count": 59,
     "metadata": {},
     "output_type": "execute_result"
    }
   ],
   "source": [
    "df1['Date_of_Journey']=label_encoder.fit_transform(df1['Date_of_Journey'])\n",
    "df1['Date_of_Journey'].unique()"
   ]
  },
  {
   "cell_type": "code",
   "execution_count": 68,
   "metadata": {},
   "outputs": [
    {
     "data": {
      "text/plain": [
       "array([0, 3, 2, 1, 4], dtype=int64)"
      ]
     },
     "execution_count": 68,
     "metadata": {},
     "output_type": "execute_result"
    }
   ],
   "source": [
    "df1['Source']=label_encoder.fit_transform(df1['Source'])\n",
    "df1['Source'].unique()"
   ]
  },
  {
   "cell_type": "code",
   "execution_count": 69,
   "metadata": {},
   "outputs": [
    {
     "data": {
      "text/plain": [
       "array([5, 0, 1, 4, 2, 3], dtype=int64)"
      ]
     },
     "execution_count": 69,
     "metadata": {},
     "output_type": "execute_result"
    }
   ],
   "source": [
    "df1['Destination']=label_encoder.fit_transform(df1['Destination'])\n",
    "df1['Destination'].unique()"
   ]
  },
  {
   "cell_type": "code",
   "execution_count": 70,
   "metadata": {},
   "outputs": [
    {
     "data": {
      "text/plain": [
       "array([ 18,  84, 118,  91,  29,  64,   5, 104, 103, 127,  66,  97, 123,\n",
       "       105,  17, 113, 119,  78, 122,  90, 111,  80, 106,  73,   3,  45,\n",
       "       121,  48, 102, 116,  99, 117,  61,  28, 108, 101,  87,  60,  24,\n",
       "       125,  85, 115,  82,   9, 126, 112,  67,  15,  68, 124, 110,  72,\n",
       "        93,  16,  74,  30,  51,   4,  98,  27,  77,  46,  65,  63, 107,\n",
       "       120,   0,  33,  88,  59,  95,   6,   1,  20,  36,  44, 114,  92,\n",
       "        12,  62,  10,  13,  19,  39,  53,  25,  89,  70, 100,  34,  52,\n",
       "       109,  94,  96,  76,   7,  75,  43,  55,   2,  71,  69,  38,  42,\n",
       "        32,  26,  86,  79,  47,  40,  54,  11,  57,  35,  22,  81,  56,\n",
       "        21,  49,  41,  31,  83,  50,  58,  23,   8,  14,  37], dtype=int64)"
      ]
     },
     "execution_count": 70,
     "metadata": {},
     "output_type": "execute_result"
    }
   ],
   "source": [
    "df1['Route']=label_encoder.fit_transform(df1['Route'])\n",
    "df1['Route'].unique()"
   ]
  },
  {
   "cell_type": "code",
   "execution_count": 71,
   "metadata": {},
   "outputs": [
    {
     "data": {
      "text/plain": [
       "array([211,  31,  70, 164, 149,  66, 172,  55,  65,  91,  74, 188,  94,\n",
       "       198, 154, 147,  63, 118, 187, 141, 120, 207,  16, 201, 205,  45,\n",
       "        46,  75, 125,  83, 130, 121,  42, 195,  88,  30, 173, 218,  86,\n",
       "        72, 199, 221, 181,  64, 137,  34, 129, 117,  32, 111,  23,  38,\n",
       "       157,  58, 183,  39, 119,   7,  73,  59, 189, 110,   9, 150, 193,\n",
       "        25, 182, 184,  35, 178,  19, 106, 165, 155, 134, 217,  98, 127,\n",
       "        96,  92, 126, 175,  33, 220,  52, 108, 103, 131, 105, 167, 145,\n",
       "         3,  43, 107, 176,   4, 151,  77, 179, 135, 100, 142, 191, 212,\n",
       "       197,  28,  24,  41, 132,   2,  60,  47,  27, 123,  26,  80, 160,\n",
       "       109, 209,  21, 161, 200,  37, 140, 190, 156,  71,  51,  11,  85,\n",
       "       153,  67, 171, 133, 215, 128, 122, 112, 210,  87, 143, 186,  44,\n",
       "       174,  54,  53,  79,  57,  93, 196, 162, 148, 166,  15,  61, 177,\n",
       "       185, 159,  18, 158,  76,  22, 163,  12, 192, 216, 213, 202,  56,\n",
       "       152,  50, 138,  68, 139,  95, 208, 169,   1, 180, 194, 214,  82,\n",
       "       219,  97,  84,  89, 102, 124,  48,   5, 170,  69, 206, 116,   6,\n",
       "         0,  17, 115, 168,  36,   8, 101, 113,  40,  78,  62,  14, 203,\n",
       "       146,  10, 144,  29, 136, 114,  49,  20, 104,  81,  99,  90, 204,\n",
       "        13], dtype=int64)"
      ]
     },
     "execution_count": 71,
     "metadata": {},
     "output_type": "execute_result"
    }
   ],
   "source": [
    "df1['Dep_Time']=label_encoder.fit_transform(df1['Dep_Time'])\n",
    "df1['Dep_Time'].unique()"
   ]
  },
  {
   "cell_type": "code",
   "execution_count": 72,
   "metadata": {},
   "outputs": [
    {
     "data": {
      "text/plain": [
       "array([ 233,  906,  413, ...,  495,   25, 1235], dtype=int64)"
      ]
     },
     "execution_count": 72,
     "metadata": {},
     "output_type": "execute_result"
    }
   ],
   "source": [
    "df1['Arrival_Time']=label_encoder.fit_transform(df1['Arrival_Time'])\n",
    "df1['Arrival_Time'].unique()"
   ]
  },
  {
   "cell_type": "code",
   "execution_count": 73,
   "metadata": {},
   "outputs": [
    {
     "data": {
      "text/plain": [
       "array([240, 336, 106, 311, 303, 235,  65, 145, 185, 341,  38, 237, 233,\n",
       "        25, 198, 300, 151, 156, 128, 308,  63, 241,  39,  61, 315, 317,\n",
       "        40, 146, 312,   4, 309, 236, 322,  22,  23, 349, 155, 239,  24,\n",
       "        83, 116, 282, 183, 280,  74,  71, 325, 191,  28, 206,   2,   5,\n",
       "       121, 120, 197, 335,  41, 307, 117,  57, 238, 147, 362,   0, 137,\n",
       "       103,  27,  95, 358,  88,  78,  26, 337, 168, 354, 333,  53, 245,\n",
       "        60,  32,   1,  64,  59, 125, 157,  96,  72, 234, 344,  82, 281,\n",
       "        48, 165, 141, 136,   9, 346, 350,  21, 209, 348, 132, 304, 345,\n",
       "       172, 162, 188, 193, 222, 182, 359, 357, 288,  17, 361,  89, 318,\n",
       "       189, 123,  36,  99, 169, 305, 186, 323, 102, 110, 226, 367,   8,\n",
       "        19, 154, 274, 187,  46, 351, 161,  30, 170, 119,  12,  14,  54,\n",
       "        34, 356, 339,  20, 178,  94, 231, 148,  55, 334, 124, 130, 204,\n",
       "       173, 127, 313,  56, 314, 306,  70, 340, 218, 298, 285, 353, 164,\n",
       "       176, 140, 355, 324,  69, 196, 177, 192, 167, 342, 195, 158, 310,\n",
       "       295, 364, 347,  87, 343, 265, 331, 316, 332, 299,  44, 108, 150,\n",
       "        76,  45, 214, 216, 302,  67, 301, 100, 276, 326,  29,  15, 338,\n",
       "       228, 202, 163,  33, 365, 144,  10, 135, 129, 242,  37, 352, 321,\n",
       "        91, 142, 287,  86, 247, 138,  31, 174, 107, 152,  58, 134, 328,\n",
       "       221, 363,  79,  75,  80, 118, 330,  16,  51,  35, 179, 217,  92,\n",
       "       126, 224,   3,  50, 266, 268, 199, 215,  52,  47, 273, 270, 190,\n",
       "       269, 114, 213, 293,   6, 122,  73, 277, 320,  81,  49, 159,  90,\n",
       "        18,  98, 327, 250, 175, 230, 219,  85, 153, 184, 143, 259, 244,\n",
       "       284, 210, 246, 104, 211,  62,   7, 194, 271, 201,  68, 113, 149,\n",
       "       112, 180, 200, 275, 297, 181,  97, 329, 166,  93, 160,  84, 171,\n",
       "       220, 205, 109,  66, 360, 139, 263, 101, 229, 203, 232, 207,  77,\n",
       "        13, 223, 225, 262, 248, 249, 257,  11, 267, 258, 252, 115, 261,\n",
       "       243,  43, 111, 251, 264, 212, 278, 292, 296, 279, 286, 319, 256,\n",
       "       254, 260, 208, 105, 366, 290, 133, 253, 291, 283, 272, 227, 255,\n",
       "       131, 289,  42, 294], dtype=int64)"
      ]
     },
     "execution_count": 73,
     "metadata": {},
     "output_type": "execute_result"
    }
   ],
   "source": [
    "df1['Duration']=label_encoder.fit_transform(df1['Duration'])\n",
    "df1['Duration'].unique()"
   ]
  },
  {
   "cell_type": "code",
   "execution_count": 76,
   "metadata": {},
   "outputs": [
    {
     "data": {
      "text/plain": [
       "array([4, 1, 0, 2, 3], dtype=int64)"
      ]
     },
     "execution_count": 76,
     "metadata": {},
     "output_type": "execute_result"
    }
   ],
   "source": [
    "df1['Total_Stops']=label_encoder.fit_transform(df1['Total_Stops'])\n",
    "df1['Total_Stops'].unique()"
   ]
  },
  {
   "cell_type": "code",
   "execution_count": 77,
   "metadata": {},
   "outputs": [
    {
     "data": {
      "text/plain": [
       "array([8, 5, 7, 1, 6, 0, 4, 3, 9, 2], dtype=int64)"
      ]
     },
     "execution_count": 77,
     "metadata": {},
     "output_type": "execute_result"
    }
   ],
   "source": [
    "df1['Additional_Info']=label_encoder.fit_transform(df1['Additional_Info'])\n",
    "df1['Additional_Info'].unique()"
   ]
  },
  {
   "cell_type": "code",
   "execution_count": 78,
   "metadata": {},
   "outputs": [
    {
     "data": {
      "text/html": [
       "<div>\n",
       "<style scoped>\n",
       "    .dataframe tbody tr th:only-of-type {\n",
       "        vertical-align: middle;\n",
       "    }\n",
       "\n",
       "    .dataframe tbody tr th {\n",
       "        vertical-align: top;\n",
       "    }\n",
       "\n",
       "    .dataframe thead th {\n",
       "        text-align: right;\n",
       "    }\n",
       "</style>\n",
       "<table border=\"1\" class=\"dataframe\">\n",
       "  <thead>\n",
       "    <tr style=\"text-align: right;\">\n",
       "      <th></th>\n",
       "      <th>Airline</th>\n",
       "      <th>Date_of_Journey</th>\n",
       "      <th>Source</th>\n",
       "      <th>Destination</th>\n",
       "      <th>Route</th>\n",
       "      <th>Dep_Time</th>\n",
       "      <th>Arrival_Time</th>\n",
       "      <th>Duration</th>\n",
       "      <th>Total_Stops</th>\n",
       "      <th>Additional_Info</th>\n",
       "      <th>Price</th>\n",
       "    </tr>\n",
       "  </thead>\n",
       "  <tbody>\n",
       "    <tr>\n",
       "      <td>0</td>\n",
       "      <td>3</td>\n",
       "      <td>24</td>\n",
       "      <td>0</td>\n",
       "      <td>5</td>\n",
       "      <td>18</td>\n",
       "      <td>211</td>\n",
       "      <td>233</td>\n",
       "      <td>240</td>\n",
       "      <td>4</td>\n",
       "      <td>8</td>\n",
       "      <td>3897.0</td>\n",
       "    </tr>\n",
       "    <tr>\n",
       "      <td>1</td>\n",
       "      <td>1</td>\n",
       "      <td>6</td>\n",
       "      <td>3</td>\n",
       "      <td>0</td>\n",
       "      <td>84</td>\n",
       "      <td>31</td>\n",
       "      <td>906</td>\n",
       "      <td>336</td>\n",
       "      <td>1</td>\n",
       "      <td>8</td>\n",
       "      <td>7662.0</td>\n",
       "    </tr>\n",
       "    <tr>\n",
       "      <td>2</td>\n",
       "      <td>4</td>\n",
       "      <td>43</td>\n",
       "      <td>2</td>\n",
       "      <td>1</td>\n",
       "      <td>118</td>\n",
       "      <td>70</td>\n",
       "      <td>413</td>\n",
       "      <td>106</td>\n",
       "      <td>1</td>\n",
       "      <td>8</td>\n",
       "      <td>13882.0</td>\n",
       "    </tr>\n",
       "    <tr>\n",
       "      <td>3</td>\n",
       "      <td>3</td>\n",
       "      <td>10</td>\n",
       "      <td>3</td>\n",
       "      <td>0</td>\n",
       "      <td>91</td>\n",
       "      <td>164</td>\n",
       "      <td>1324</td>\n",
       "      <td>311</td>\n",
       "      <td>0</td>\n",
       "      <td>8</td>\n",
       "      <td>6218.0</td>\n",
       "    </tr>\n",
       "    <tr>\n",
       "      <td>4</td>\n",
       "      <td>3</td>\n",
       "      <td>0</td>\n",
       "      <td>0</td>\n",
       "      <td>5</td>\n",
       "      <td>29</td>\n",
       "      <td>149</td>\n",
       "      <td>1237</td>\n",
       "      <td>303</td>\n",
       "      <td>0</td>\n",
       "      <td>8</td>\n",
       "      <td>13302.0</td>\n",
       "    </tr>\n",
       "  </tbody>\n",
       "</table>\n",
       "</div>"
      ],
      "text/plain": [
       "   Airline  Date_of_Journey  Source  Destination  Route  Dep_Time  \\\n",
       "0        3               24       0            5     18       211   \n",
       "1        1                6       3            0     84        31   \n",
       "2        4               43       2            1    118        70   \n",
       "3        3               10       3            0     91       164   \n",
       "4        3                0       0            5     29       149   \n",
       "\n",
       "   Arrival_Time  Duration  Total_Stops  Additional_Info    Price  \n",
       "0           233       240            4                8   3897.0  \n",
       "1           906       336            1                8   7662.0  \n",
       "2           413       106            1                8  13882.0  \n",
       "3          1324       311            0                8   6218.0  \n",
       "4          1237       303            0                8  13302.0  "
      ]
     },
     "execution_count": 78,
     "metadata": {},
     "output_type": "execute_result"
    }
   ],
   "source": [
    "#Verifying the data after label encoding\n",
    "\n",
    "df1.head()"
   ]
  },
  {
   "cell_type": "code",
   "execution_count": 79,
   "metadata": {},
   "outputs": [
    {
     "data": {
      "text/plain": [
       "array([ 4,  3,  6,  0,  1,  9,  8, 10,  2,  7,  5], dtype=int64)"
      ]
     },
     "execution_count": 79,
     "metadata": {},
     "output_type": "execute_result"
    }
   ],
   "source": [
    "df2['Airline']=label_encoder.fit_transform(df2['Airline'])\n",
    "df2['Airline'].unique()"
   ]
  },
  {
   "cell_type": "code",
   "execution_count": 80,
   "metadata": {},
   "outputs": [
    {
     "data": {
      "text/plain": [
       "array([39, 10, 22, 27, 11,  8,  6, 12, 18, 20, 15, 14, 35,  2, 24, 36, 42,\n",
       "       16, 37,  7, 32, 28, 43, 34,  5, 19, 13, 38, 40, 33, 31, 23, 21, 17,\n",
       "       41, 26,  0,  3, 30,  1, 29,  4, 25,  9], dtype=int64)"
      ]
     },
     "execution_count": 80,
     "metadata": {},
     "output_type": "execute_result"
    }
   ],
   "source": [
    "df2['Date_of_Journey']=label_encoder.fit_transform(df2['Date_of_Journey'])\n",
    "df2['Date_of_Journey'].unique()"
   ]
  },
  {
   "cell_type": "code",
   "execution_count": 81,
   "metadata": {},
   "outputs": [
    {
     "data": {
      "text/plain": [
       "array([2, 3, 0, 4, 1], dtype=int64)"
      ]
     },
     "execution_count": 81,
     "metadata": {},
     "output_type": "execute_result"
    }
   ],
   "source": [
    "df2['Source']=label_encoder.fit_transform(df2['Source'])\n",
    "df2['Source'].unique()"
   ]
  },
  {
   "cell_type": "code",
   "execution_count": 82,
   "metadata": {},
   "outputs": [
    {
     "data": {
      "text/plain": [
       "array([1, 0, 2, 5, 3, 4], dtype=int64)"
      ]
     },
     "execution_count": 82,
     "metadata": {},
     "output_type": "execute_result"
    }
   ],
   "source": [
    "df2['Destination']=label_encoder.fit_transform(df2['Destination'])\n",
    "df2['Destination'].unique()"
   ]
  },
  {
   "cell_type": "code",
   "execution_count": 83,
   "metadata": {},
   "outputs": [
    {
     "data": {
      "text/plain": [
       "array([76, 65, 16, 24, 57, 43, 45, 92, 83,  5, 51, 88, 74, 33, 68, 99, 46,\n",
       "       75, 84, 93, 60, 50, 78, 62, 91, 58, 77, 56, 15, 10, 40,  0, 30, 80,\n",
       "       87, 82, 52, 18,  4, 85, 70, 96, 94, 67, 20,  8,  6, 69, 39, 21, 61,\n",
       "       47, 72, 25, 73, 19,  3, 79, 71, 48, 23, 64, 97, 14, 98, 29, 44, 89,\n",
       "       95, 81,  7,  2, 36, 55, 11,  1, 37, 54, 90, 63, 66, 35, 13, 27, 49,\n",
       "       31, 34, 53, 17,  9, 86, 41, 26, 22, 38, 28, 12, 42, 59, 32],\n",
       "      dtype=int64)"
      ]
     },
     "execution_count": 83,
     "metadata": {},
     "output_type": "execute_result"
    }
   ],
   "source": [
    "df2['Route']=label_encoder.fit_transform(df2['Route'])\n",
    "df2['Route'].unique()"
   ]
  },
  {
   "cell_type": "code",
   "execution_count": 84,
   "metadata": {},
   "outputs": [
    {
     "data": {
      "text/plain": [
       "array([138,  31, 156,  48, 198, 146,  44, 116,  70, 127, 101,  36,  58,\n",
       "        24, 181,  96,  68, 193,  75, 164,  21, 177, 124, 102, 192, 162,\n",
       "        40,  26, 132, 152,  71, 135,  93, 191, 176, 141,  62, 103,  66,\n",
       "         5,  84, 133,  27,  39, 130, 160,  10, 179,  82,  88, 183,  25,\n",
       "        47,  59,  51,  63,  69, 112, 186,  38, 163, 158, 113,  22,  34,\n",
       "       136, 180,  45,  37, 139,  79, 167, 169,  23, 114, 175, 107, 161,\n",
       "        52, 184, 178,   6,  53, 172, 105, 109,  78, 159, 117,  29, 188,\n",
       "        54, 110,  65,   3,  56, 154,  57,  83,  15, 104,  64, 142, 121,\n",
       "         9,   1, 153, 195,  81,  20,  19,  91,  35, 145,  98,  61,   7,\n",
       "       197,  46,  87, 168,  50, 137,  67, 122,  74, 108,  33,  86, 155,\n",
       "       173, 115, 131, 128,  73,  13,  11,  12, 148, 119, 157,  95,  94,\n",
       "        60, 170,  90,  77,  55,  42, 111,  76,  16, 123, 118, 165, 151,\n",
       "       125, 196, 129,  41,  97,  28, 174,  80,  30, 144, 150,  92,  18,\n",
       "       185,  43,  17, 189,  14, 147, 140,   2,  85, 187, 120, 106, 171,\n",
       "        99,   8, 134, 143, 182, 190,  49,  32, 166, 149, 100,   0,   4,\n",
       "       126,  72,  89, 194], dtype=int64)"
      ]
     },
     "execution_count": 84,
     "metadata": {},
     "output_type": "execute_result"
    }
   ],
   "source": [
    "df2['Dep_Time']=label_encoder.fit_transform(df2['Dep_Time'])\n",
    "df2['Dep_Time'].unique()"
   ]
  },
  {
   "cell_type": "code",
   "execution_count": 85,
   "metadata": {},
   "outputs": [
    {
     "data": {
      "text/plain": [
       "array([150, 353, 566, 633, 135, 432, 662, 620, 442, 554, 488, 577, 355,\n",
       "       428, 258, 661, 657, 157, 263, 119, 344, 287, 555, 702, 161, 516,\n",
       "        87, 122, 427, 674, 274, 678, 410, 598, 111,  32, 230, 125, 610,\n",
       "       548, 481, 663, 455, 603, 499, 399, 408, 527, 240, 570, 419, 549,\n",
       "       318, 660, 659, 485, 218,  34, 546, 449, 565, 647, 484, 366, 398,\n",
       "       421, 190, 517, 347,  83, 289, 107, 363, 261, 267, 535, 578, 624,\n",
       "       220, 158, 211, 539, 350, 120, 600, 345,  68, 640, 324, 658, 590,\n",
       "       538, 109, 151, 619, 357, 461, 276, 611, 431, 507, 597, 138, 440,\n",
       "       493, 189, 379, 667, 403, 323,  36, 504, 177, 266,  16, 607, 412,\n",
       "       634, 482, 518, 278,  62, 510, 508,  30, 143, 365, 542, 621,  64,\n",
       "       648, 382, 103,  65, 316, 474, 581, 460, 390, 162, 249, 377, 509,\n",
       "       395, 381, 255, 224, 506, 116, 104, 483, 650, 334,  85, 606, 144,\n",
       "       254, 137, 616,  75, 388, 467, 685, 106, 329, 115, 148, 595, 639,\n",
       "       437, 463, 282, 141, 622, 127, 438,  40, 691, 194, 464,  74, 495,\n",
       "       147, 310, 614, 675, 327, 340, 268, 459, 309, 519, 284, 409, 394,\n",
       "       701, 112, 295, 465, 511, 281, 501, 226, 153, 445, 405, 352, 564,\n",
       "       380, 215, 533, 690, 585, 201, 452, 536, 560, 668, 108, 696, 642,\n",
       "       291, 273, 231, 166, 556, 101, 145, 568,  78, 550, 243, 206, 270,\n",
       "       458,  96, 217, 118, 264,  51, 524, 146, 358, 698, 699, 569, 173,\n",
       "        69, 433, 360, 429, 471, 596, 167, 152, 453, 203, 515, 159, 315,\n",
       "       684, 551, 302, 219, 692, 652, 110, 451, 349, 423, 512, 528, 237,\n",
       "       351, 497, 325, 591, 525,  55, 646, 626, 645,  31, 436, 530, 123,\n",
       "       204, 601,  47, 643, 492,  12, 222, 594, 563, 117, 447, 312, 486,\n",
       "       331, 232, 416,  84, 277, 553, 299, 683, 322, 303, 523, 385, 552,\n",
       "       181, 154, 180, 100, 372, 602, 163, 209, 448, 544, 234, 262, 383,\n",
       "       682,   4, 490, 113, 687, 221, 537, 500, 387,  11, 644, 589, 156,\n",
       "       478, 197, 239, 306, 250,  67,  95,  89, 514,  50,   9, 417, 534,\n",
       "       450, 582, 168, 384, 688, 599, 401, 406, 369, 335, 477, 195,  76,\n",
       "       443, 411, 435, 454, 386, 175,  63, 227, 418, 233, 185, 279, 669,\n",
       "       164, 317, 526, 170,  15, 121,   2, 247, 557, 588,  79, 700, 294,\n",
       "       256, 235, 176, 155, 342,  82, 632, 130, 502,   6, 114, 571, 338,\n",
       "       574,  81, 397, 225, 271, 330, 183, 415, 296, 300, 586,  22, 562,\n",
       "        90,  43,  23, 293, 126, 532, 561, 393, 520, 476, 359, 192, 321,\n",
       "       314,  71,  61, 305, 193, 609, 404,  59, 627, 308, 304,   8, 188,\n",
       "       400, 424, 320, 223, 292, 260, 498,  13,  39, 697, 252, 625, 689,\n",
       "       513, 608, 179,  18, 462,  48,  56, 105, 592, 456, 182, 580, 430,\n",
       "       703, 241, 613, 307, 200, 184, 656,  28, 346, 202, 695, 579, 311,\n",
       "       629, 333, 573, 413, 666, 301, 567, 676, 392, 457,  20, 494, 172,\n",
       "        27, 142, 543, 664, 178, 272,  70, 654, 402, 251, 677, 328, 337,\n",
       "       434, 364, 198, 313,  94, 641, 214, 605,  60,  25,  14, 426, 628,\n",
       "       259, 636,  53, 326, 468, 638, 343,   7,  77, 265, 446, 649, 673,\n",
       "       396, 472, 285, 693, 470, 319,   3, 186, 165, 631, 174, 129, 637,\n",
       "        33, 371, 480,  92, 615, 420, 583,  41, 653, 479, 288, 496, 373,\n",
       "       391, 205, 280, 290, 283, 378, 375, 102, 216,  99, 473, 489, 593,\n",
       "        45, 134, 370,  49, 236, 671, 286, 576,  86, 354, 545, 332, 348,\n",
       "        93, 361, 339, 238,  10,  58, 604, 208, 612, 244, 522, 529, 212,\n",
       "       367, 680, 681, 487,  97, 503, 196, 207, 665, 124, 572, 547, 491,\n",
       "        46, 275, 623, 362,  66, 133, 253, 297, 139, 199, 531, 374, 505,\n",
       "        91, 635, 128,  19, 630, 389, 132, 559, 670, 229, 149,  80, 521,\n",
       "        52, 140,  38, 414, 469,  26, 651, 213, 257, 228,  35, 541, 575,\n",
       "       441, 136, 336,   5, 587, 356, 269, 191,  24,  29, 694, 686,  88,\n",
       "       672, 466, 368, 298, 679, 376,  72, 475,  98, 618, 422, 169, 407,\n",
       "       341,   0, 187, 171, 210, 425,   1, 246, 439, 540, 248, 131, 558,\n",
       "        73, 444,  57,  17,  54,  44, 655, 584,  21, 245, 160,  42, 242,\n",
       "        37, 617], dtype=int64)"
      ]
     },
     "execution_count": 85,
     "metadata": {},
     "output_type": "execute_result"
    }
   ],
   "source": [
    "df2['Arrival_Time']=label_encoder.fit_transform(df2['Arrival_Time'])\n",
    "df2['Arrival_Time'].unique()"
   ]
  },
  {
   "cell_type": "code",
   "execution_count": 86,
   "metadata": {},
   "outputs": [
    {
     "data": {
      "text/plain": [
       "array([ 10, 248, 148,  36, 216,  93,  69, 261, 215, 283, 202, 311,   2,\n",
       "       254,  83,   9, 310,  26, 309,  55,  57,  18,  41,  28, 212, 168,\n",
       "       102, 284,  19, 295, 241, 110, 214,  90,   7,  29, 111, 147, 210,\n",
       "       146, 191, 199, 267, 179, 266, 209, 217, 289, 262, 172,  38, 178,\n",
       "       263, 304, 287, 122,  70, 293,  81, 269,  44,  22,  39,  92, 197,\n",
       "       259, 143, 108, 109,  40, 274,   1, 253,  12,  27,  59,  99,  43,\n",
       "       317, 213, 286, 141,   4, 270, 137, 303,  17,  65, 294,  33, 167,\n",
       "         3, 301,  32,  25, 135, 292, 129, 277, 211, 171, 230,  16,  60,\n",
       "        51, 296, 123, 183,  79, 319,  78,  14, 139,  88, 142, 166, 149,\n",
       "        50, 161,   5, 104, 275, 188, 312, 260, 291, 278, 201,  52, 106,\n",
       "       236, 255, 276, 127, 246, 257,  71, 280,  20, 272, 134, 100, 152,\n",
       "        53, 118,  72, 298, 300, 151, 103, 165, 125, 256,  94, 258,  77,\n",
       "       196, 162, 282, 299, 175, 308, 121, 144, 190, 126,  63,  47, 200,\n",
       "        54,  13, 113, 154,  24, 114, 192, 119,  23,  30, 164,   0,  98,\n",
       "        97, 307, 251,  56, 140, 316, 173, 174, 249, 314, 184,  21, 290,\n",
       "       265, 264, 233,  82,  66, 243,  74, 170,  31,  34,   6, 225, 120,\n",
       "       237, 160, 112, 157, 232, 145, 273, 313, 306, 181,  64, 268, 116,\n",
       "       150, 132, 115,  45, 244, 229, 169,  89, 153, 205, 195,  62, 242,\n",
       "        42, 305, 279, 219,  68, 130, 182, 235, 204,  46, 206,  11, 252,\n",
       "       124,  37,  86, 231, 281, 176,  76, 234, 245,  49, 133,  84, 224,\n",
       "       163, 117,  95, 177, 222, 218, 187, 159,  61, 285, 198,  48,  96,\n",
       "       193, 297, 240,  73,  35, 101, 207, 186, 223, 208, 228, 226,  58,\n",
       "        67, 136, 105, 221,  91, 203, 156, 315, 158, 128,   8,  87,  75,\n",
       "       194,  80, 302, 180, 220, 189, 185, 131, 107,  15, 247, 138, 227,\n",
       "        85, 288, 250, 155, 239, 318, 238, 271], dtype=int64)"
      ]
     },
     "execution_count": 86,
     "metadata": {},
     "output_type": "execute_result"
    }
   ],
   "source": [
    "df2['Duration']=label_encoder.fit_transform(df2['Duration'])\n",
    "df2['Duration'].unique()"
   ]
  },
  {
   "cell_type": "code",
   "execution_count": 87,
   "metadata": {},
   "outputs": [
    {
     "data": {
      "text/plain": [
       "array([0, 4, 1, 2, 3], dtype=int64)"
      ]
     },
     "execution_count": 87,
     "metadata": {},
     "output_type": "execute_result"
    }
   ],
   "source": [
    "df2['Total_Stops']=label_encoder.fit_transform(df2['Total_Stops'])\n",
    "df2['Total_Stops'].unique()"
   ]
  },
  {
   "cell_type": "code",
   "execution_count": 88,
   "metadata": {},
   "outputs": [
    {
     "data": {
      "text/plain": [
       "array([5, 3, 4, 0, 1, 2], dtype=int64)"
      ]
     },
     "execution_count": 88,
     "metadata": {},
     "output_type": "execute_result"
    }
   ],
   "source": [
    "df2['Additional_Info']=label_encoder.fit_transform(df2['Additional_Info'])\n",
    "df2['Additional_Info'].unique()"
   ]
  },
  {
   "cell_type": "code",
   "execution_count": 89,
   "metadata": {},
   "outputs": [
    {
     "data": {
      "text/html": [
       "<div>\n",
       "<style scoped>\n",
       "    .dataframe tbody tr th:only-of-type {\n",
       "        vertical-align: middle;\n",
       "    }\n",
       "\n",
       "    .dataframe tbody tr th {\n",
       "        vertical-align: top;\n",
       "    }\n",
       "\n",
       "    .dataframe thead th {\n",
       "        text-align: right;\n",
       "    }\n",
       "</style>\n",
       "<table border=\"1\" class=\"dataframe\">\n",
       "  <thead>\n",
       "    <tr style=\"text-align: right;\">\n",
       "      <th></th>\n",
       "      <th>Airline</th>\n",
       "      <th>Date_of_Journey</th>\n",
       "      <th>Source</th>\n",
       "      <th>Destination</th>\n",
       "      <th>Route</th>\n",
       "      <th>Dep_Time</th>\n",
       "      <th>Arrival_Time</th>\n",
       "      <th>Duration</th>\n",
       "      <th>Total_Stops</th>\n",
       "      <th>Additional_Info</th>\n",
       "    </tr>\n",
       "  </thead>\n",
       "  <tbody>\n",
       "    <tr>\n",
       "      <td>0</td>\n",
       "      <td>4</td>\n",
       "      <td>39</td>\n",
       "      <td>2</td>\n",
       "      <td>1</td>\n",
       "      <td>76</td>\n",
       "      <td>138</td>\n",
       "      <td>150</td>\n",
       "      <td>10</td>\n",
       "      <td>0</td>\n",
       "      <td>5</td>\n",
       "    </tr>\n",
       "    <tr>\n",
       "      <td>1</td>\n",
       "      <td>3</td>\n",
       "      <td>10</td>\n",
       "      <td>3</td>\n",
       "      <td>0</td>\n",
       "      <td>65</td>\n",
       "      <td>31</td>\n",
       "      <td>353</td>\n",
       "      <td>248</td>\n",
       "      <td>0</td>\n",
       "      <td>5</td>\n",
       "    </tr>\n",
       "    <tr>\n",
       "      <td>2</td>\n",
       "      <td>4</td>\n",
       "      <td>22</td>\n",
       "      <td>2</td>\n",
       "      <td>1</td>\n",
       "      <td>76</td>\n",
       "      <td>156</td>\n",
       "      <td>566</td>\n",
       "      <td>148</td>\n",
       "      <td>0</td>\n",
       "      <td>3</td>\n",
       "    </tr>\n",
       "    <tr>\n",
       "      <td>3</td>\n",
       "      <td>6</td>\n",
       "      <td>22</td>\n",
       "      <td>2</td>\n",
       "      <td>1</td>\n",
       "      <td>76</td>\n",
       "      <td>48</td>\n",
       "      <td>633</td>\n",
       "      <td>36</td>\n",
       "      <td>0</td>\n",
       "      <td>5</td>\n",
       "    </tr>\n",
       "    <tr>\n",
       "      <td>4</td>\n",
       "      <td>0</td>\n",
       "      <td>27</td>\n",
       "      <td>0</td>\n",
       "      <td>2</td>\n",
       "      <td>16</td>\n",
       "      <td>198</td>\n",
       "      <td>135</td>\n",
       "      <td>216</td>\n",
       "      <td>4</td>\n",
       "      <td>5</td>\n",
       "    </tr>\n",
       "  </tbody>\n",
       "</table>\n",
       "</div>"
      ],
      "text/plain": [
       "   Airline  Date_of_Journey  Source  Destination  Route  Dep_Time  \\\n",
       "0        4               39       2            1     76       138   \n",
       "1        3               10       3            0     65        31   \n",
       "2        4               22       2            1     76       156   \n",
       "3        6               22       2            1     76        48   \n",
       "4        0               27       0            2     16       198   \n",
       "\n",
       "   Arrival_Time  Duration  Total_Stops  Additional_Info  \n",
       "0           150        10            0                5  \n",
       "1           353       248            0                5  \n",
       "2           566       148            0                3  \n",
       "3           633        36            0                5  \n",
       "4           135       216            4                5  "
      ]
     },
     "execution_count": 89,
     "metadata": {},
     "output_type": "execute_result"
    }
   ],
   "source": [
    "#Verifying the data after label encoding\n",
    "\n",
    "df2.head()"
   ]
  },
  {
   "cell_type": "code",
   "execution_count": 90,
   "metadata": {},
   "outputs": [
    {
     "data": {
      "text/plain": [
       "((10682, 10), (10682,))"
      ]
     },
     "execution_count": 90,
     "metadata": {},
     "output_type": "execute_result"
    }
   ],
   "source": [
    "#Separating the data into input and target variable\n",
    "\n",
    "x=df1.drop(['Price'],axis=1)\n",
    "y=df1['Price']\n",
    "x.shape,y.shape"
   ]
  },
  {
   "cell_type": "code",
   "execution_count": 91,
   "metadata": {},
   "outputs": [],
   "source": [
    "#Feauture Scaling using MinMaxScaler technique\n",
    "\n",
    "from sklearn.preprocessing import MinMaxScaler\n",
    "scaler=MinMaxScaler()\n",
    "x_scaled=scaler.fit_transform(x)"
   ]
  },
  {
   "cell_type": "code",
   "execution_count": 92,
   "metadata": {},
   "outputs": [],
   "source": [
    "#Storing the scaled data in a dataframe\n",
    "\n",
    "x=pd.DataFrame(x_scaled,columns=x.columns)"
   ]
  },
  {
   "cell_type": "code",
   "execution_count": 93,
   "metadata": {},
   "outputs": [
    {
     "data": {
      "text/html": [
       "<div>\n",
       "<style scoped>\n",
       "    .dataframe tbody tr th:only-of-type {\n",
       "        vertical-align: middle;\n",
       "    }\n",
       "\n",
       "    .dataframe tbody tr th {\n",
       "        vertical-align: top;\n",
       "    }\n",
       "\n",
       "    .dataframe thead th {\n",
       "        text-align: right;\n",
       "    }\n",
       "</style>\n",
       "<table border=\"1\" class=\"dataframe\">\n",
       "  <thead>\n",
       "    <tr style=\"text-align: right;\">\n",
       "      <th></th>\n",
       "      <th>Airline</th>\n",
       "      <th>Date_of_Journey</th>\n",
       "      <th>Source</th>\n",
       "      <th>Destination</th>\n",
       "      <th>Route</th>\n",
       "      <th>Dep_Time</th>\n",
       "      <th>Arrival_Time</th>\n",
       "      <th>Duration</th>\n",
       "      <th>Total_Stops</th>\n",
       "      <th>Additional_Info</th>\n",
       "    </tr>\n",
       "  </thead>\n",
       "  <tbody>\n",
       "    <tr>\n",
       "      <td>0</td>\n",
       "      <td>0.272727</td>\n",
       "      <td>0.558140</td>\n",
       "      <td>0.00</td>\n",
       "      <td>1.0</td>\n",
       "      <td>0.141732</td>\n",
       "      <td>0.954751</td>\n",
       "      <td>0.173621</td>\n",
       "      <td>0.653951</td>\n",
       "      <td>1.00</td>\n",
       "      <td>0.888889</td>\n",
       "    </tr>\n",
       "    <tr>\n",
       "      <td>1</td>\n",
       "      <td>0.090909</td>\n",
       "      <td>0.139535</td>\n",
       "      <td>0.75</td>\n",
       "      <td>0.0</td>\n",
       "      <td>0.661417</td>\n",
       "      <td>0.140271</td>\n",
       "      <td>0.675112</td>\n",
       "      <td>0.915531</td>\n",
       "      <td>0.25</td>\n",
       "      <td>0.888889</td>\n",
       "    </tr>\n",
       "    <tr>\n",
       "      <td>2</td>\n",
       "      <td>0.363636</td>\n",
       "      <td>1.000000</td>\n",
       "      <td>0.50</td>\n",
       "      <td>0.2</td>\n",
       "      <td>0.929134</td>\n",
       "      <td>0.316742</td>\n",
       "      <td>0.307750</td>\n",
       "      <td>0.288828</td>\n",
       "      <td>0.25</td>\n",
       "      <td>0.888889</td>\n",
       "    </tr>\n",
       "    <tr>\n",
       "      <td>3</td>\n",
       "      <td>0.272727</td>\n",
       "      <td>0.232558</td>\n",
       "      <td>0.75</td>\n",
       "      <td>0.0</td>\n",
       "      <td>0.716535</td>\n",
       "      <td>0.742081</td>\n",
       "      <td>0.986587</td>\n",
       "      <td>0.847411</td>\n",
       "      <td>0.00</td>\n",
       "      <td>0.888889</td>\n",
       "    </tr>\n",
       "    <tr>\n",
       "      <td>4</td>\n",
       "      <td>0.272727</td>\n",
       "      <td>0.000000</td>\n",
       "      <td>0.00</td>\n",
       "      <td>1.0</td>\n",
       "      <td>0.228346</td>\n",
       "      <td>0.674208</td>\n",
       "      <td>0.921759</td>\n",
       "      <td>0.825613</td>\n",
       "      <td>0.00</td>\n",
       "      <td>0.888889</td>\n",
       "    </tr>\n",
       "  </tbody>\n",
       "</table>\n",
       "</div>"
      ],
      "text/plain": [
       "    Airline  Date_of_Journey  Source  Destination     Route  Dep_Time  \\\n",
       "0  0.272727         0.558140    0.00          1.0  0.141732  0.954751   \n",
       "1  0.090909         0.139535    0.75          0.0  0.661417  0.140271   \n",
       "2  0.363636         1.000000    0.50          0.2  0.929134  0.316742   \n",
       "3  0.272727         0.232558    0.75          0.0  0.716535  0.742081   \n",
       "4  0.272727         0.000000    0.00          1.0  0.228346  0.674208   \n",
       "\n",
       "   Arrival_Time  Duration  Total_Stops  Additional_Info  \n",
       "0      0.173621  0.653951         1.00         0.888889  \n",
       "1      0.675112  0.915531         0.25         0.888889  \n",
       "2      0.307750  0.288828         0.25         0.888889  \n",
       "3      0.986587  0.847411         0.00         0.888889  \n",
       "4      0.921759  0.825613         0.00         0.888889  "
      ]
     },
     "execution_count": 93,
     "metadata": {},
     "output_type": "execute_result"
    }
   ],
   "source": [
    "#Verifying the scaled data\n",
    "\n",
    "x.head()"
   ]
  },
  {
   "cell_type": "code",
   "execution_count": 94,
   "metadata": {},
   "outputs": [],
   "source": [
    "#Splitting the data into train set and test set using random state = 56 and test size = 0.25.\n",
    "\n",
    "from sklearn.model_selection import train_test_split\n",
    "train_x,test_x,train_y,test_y=train_test_split(x,y, random_state=56,test_size=0.25)"
   ]
  },
  {
   "cell_type": "code",
   "execution_count": 95,
   "metadata": {},
   "outputs": [],
   "source": [
    "#Importing the KneighborsRegressor model and the evaluation metrics r2_score.\n",
    "\n",
    "from sklearn.neighbors import KNeighborsRegressor as KNN\n",
    "from sklearn.metrics import r2_score"
   ]
  },
  {
   "cell_type": "code",
   "execution_count": 96,
   "metadata": {},
   "outputs": [
    {
     "data": {
      "text/plain": [
       "KNeighborsRegressor(algorithm='auto', leaf_size=30, metric='minkowski',\n",
       "                    metric_params=None, n_jobs=None, n_neighbors=12, p=2,\n",
       "                    weights='uniform')"
      ]
     },
     "execution_count": 96,
     "metadata": {},
     "output_type": "execute_result"
    }
   ],
   "source": [
    "#Creating an instance for KNN model by defining the model with n_neighbors hyperparameter.\n",
    "\n",
    "reg=KNN(n_neighbors=12)\n",
    "\n",
    "#Fitting the model on train set\n",
    "\n",
    "reg.fit(train_x,train_y)\n",
    "\n",
    "#Below output shows the default values of hyperparameters of the KNN Regressor model."
   ]
  },
  {
   "cell_type": "code",
   "execution_count": 97,
   "metadata": {},
   "outputs": [],
   "source": [
    "#Importing the GridSearchCV for searching the best values of hyperparameters of the KNN Regressor model.\n",
    "\n",
    "from sklearn.model_selection import GridSearchCV"
   ]
  },
  {
   "cell_type": "code",
   "execution_count": 98,
   "metadata": {},
   "outputs": [],
   "source": [
    "#Creating an instance for the KNN Regressor model.\n",
    "\n",
    "reg=KNN()"
   ]
  },
  {
   "cell_type": "code",
   "execution_count": 99,
   "metadata": {},
   "outputs": [],
   "source": [
    "#Importing the cross_val_score for the cross validation technique to avoid overfitting and underfitting issues.\n",
    "#Importing the cross_val_predict to find the predictions of the cross validation techniquw.\n",
    "\n",
    "from sklearn.model_selection import cross_val_score\n",
    "from sklearn.model_selection import cross_val_predict\n",
    "from sklearn.metrics import r2_score"
   ]
  },
  {
   "cell_type": "code",
   "execution_count": 106,
   "metadata": {},
   "outputs": [
    {
     "name": "stdout",
     "output_type": "stream",
     "text": [
      "Score: [0.72612785 0.72691996 0.7736358  0.76136272 0.74292834 0.71148574\n",
      " 0.73384221 0.69240602 0.74480055 0.71652949]\n",
      "Mean Scores 0.7330038674766357\n",
      "Standard deviation 0.022716629331859646\n"
     ]
    }
   ],
   "source": [
    "#Finding the mean and the standard deviation of the cross_val_score for the model at some random cv value.\n",
    "\n",
    "score=cross_val_score(reg,x,y,cv=10)\n",
    "print('Score:',score)\n",
    "print('Mean Scores',score.mean())\n",
    "print('Standard deviation',score.std())"
   ]
  },
  {
   "cell_type": "code",
   "execution_count": 107,
   "metadata": {},
   "outputs": [],
   "source": [
    "#Defining the function Val_score() to check the mean and standard deviation of the cross validation score at different values of cv.\n",
    "\n",
    "def Val_score(k):\n",
    "    avg=[]\n",
    "    std=[]\n",
    "    for i in k:\n",
    "        score=cross_val_score(reg,X=train_x,y=train_y,cv=i)\n",
    "        avg.append(score.mean())\n",
    "        std.append(score.std())\n",
    "        return avg, std"
   ]
  },
  {
   "cell_type": "code",
   "execution_count": 108,
   "metadata": {},
   "outputs": [],
   "source": [
    "#Finding the mean and standard deviation of the cross validation score using the user defined function Val_Score to check cv score for a value of cv which falls in the ideal range of 5 to 10.\n",
    "\n",
    "k=range(5,10)\n",
    "mean,std=Val_score(k)"
   ]
  },
  {
   "cell_type": "code",
   "execution_count": 109,
   "metadata": {},
   "outputs": [
    {
     "data": {
      "text/html": [
       "<div>\n",
       "<style scoped>\n",
       "    .dataframe tbody tr th:only-of-type {\n",
       "        vertical-align: middle;\n",
       "    }\n",
       "\n",
       "    .dataframe tbody tr th {\n",
       "        vertical-align: top;\n",
       "    }\n",
       "\n",
       "    .dataframe thead th {\n",
       "        text-align: right;\n",
       "    }\n",
       "</style>\n",
       "<table border=\"1\" class=\"dataframe\">\n",
       "  <thead>\n",
       "    <tr style=\"text-align: right;\">\n",
       "      <th></th>\n",
       "      <th>Avg_cv_score</th>\n",
       "      <th>Std_cv_score</th>\n",
       "    </tr>\n",
       "  </thead>\n",
       "  <tbody>\n",
       "    <tr>\n",
       "      <td>5</td>\n",
       "      <td>0.710591</td>\n",
       "      <td>0.017925</td>\n",
       "    </tr>\n",
       "    <tr>\n",
       "      <td>6</td>\n",
       "      <td>0.710591</td>\n",
       "      <td>0.017925</td>\n",
       "    </tr>\n",
       "    <tr>\n",
       "      <td>7</td>\n",
       "      <td>0.710591</td>\n",
       "      <td>0.017925</td>\n",
       "    </tr>\n",
       "    <tr>\n",
       "      <td>8</td>\n",
       "      <td>0.710591</td>\n",
       "      <td>0.017925</td>\n",
       "    </tr>\n",
       "    <tr>\n",
       "      <td>9</td>\n",
       "      <td>0.710591</td>\n",
       "      <td>0.017925</td>\n",
       "    </tr>\n",
       "  </tbody>\n",
       "</table>\n",
       "</div>"
      ],
      "text/plain": [
       "   Avg_cv_score  Std_cv_score\n",
       "5      0.710591      0.017925\n",
       "6      0.710591      0.017925\n",
       "7      0.710591      0.017925\n",
       "8      0.710591      0.017925\n",
       "9      0.710591      0.017925"
      ]
     },
     "execution_count": 109,
     "metadata": {},
     "output_type": "execute_result"
    }
   ],
   "source": [
    "#Storing the different values of mean and standard deviation of the cross val score at different values of cv in a data frame.\n",
    "\n",
    "score=pd.DataFrame({'Avg_cv_score':mean,'Std_cv_score':std},index=k)\n",
    "score"
   ]
  },
  {
   "cell_type": "code",
   "execution_count": 110,
   "metadata": {},
   "outputs": [],
   "source": [
    "#We can see that at cv=10 we get the maximum cross validation score i.e.0.7330038674766357. \n",
    "#We will define the grid parameters of KNN Regressor model for the grid search cv technique.\n",
    "grid_params={\n",
    "    'metric':['manhattan','euclidean','minkowski','hamming'],\n",
    "    'n_neighbors':[5,6,7,8,9,10,11,12,13,14,15,16,17,18,19,20,21],\n",
    "    'weights':['uniform','distance']\n",
    "\n",
    "}"
   ]
  },
  {
   "cell_type": "code",
   "execution_count": 111,
   "metadata": {},
   "outputs": [],
   "source": [
    "#We will define the model GridSearchCV by giving the parameters estimator = model, param_grid=grid parameters,scoring= r2_score, cv value and n_jobs = -1 to enable all processors to run for smooth output.\n",
    "\n",
    "grid_search=GridSearchCV(estimator=reg,\n",
    "                        param_grid=grid_params,\n",
    "                        cv=10,\n",
    "                        n_jobs=-1)"
   ]
  },
  {
   "cell_type": "code",
   "execution_count": 112,
   "metadata": {},
   "outputs": [],
   "source": [
    "#Use the GridSearchCV on the train data to find the best values of the hyperparameters of KNN Regressor model.\n",
    "\n",
    "grid_search=grid_search.fit(train_x,train_y)"
   ]
  },
  {
   "cell_type": "code",
   "execution_count": 113,
   "metadata": {},
   "outputs": [
    {
     "name": "stdout",
     "output_type": "stream",
     "text": [
      "{'metric': 'hamming', 'n_neighbors': 8, 'weights': 'uniform'}\n"
     ]
    }
   ],
   "source": [
    "best_parameters=grid_search.best_params_\n",
    "\n",
    "print(best_parameters)"
   ]
  },
  {
   "cell_type": "code",
   "execution_count": 114,
   "metadata": {},
   "outputs": [
    {
     "name": "stdout",
     "output_type": "stream",
     "text": [
      "0.8464522831423352\n"
     ]
    }
   ],
   "source": [
    "best_result=grid_search.best_score_\n",
    "print(best_result)"
   ]
  },
  {
   "cell_type": "code",
   "execution_count": 115,
   "metadata": {},
   "outputs": [],
   "source": [
    "reg=KNN(n_neighbors= 8,metric='hamming',weights='uniform')"
   ]
  },
  {
   "cell_type": "code",
   "execution_count": 127,
   "metadata": {},
   "outputs": [],
   "source": [
    "score=cross_val_score(reg,x,y,cv=6)"
   ]
  },
  {
   "cell_type": "code",
   "execution_count": 128,
   "metadata": {},
   "outputs": [
    {
     "name": "stdout",
     "output_type": "stream",
     "text": [
      "Cross Val Score = [0.85327915 0.84723982 0.8611461  0.8416213  0.84065865 0.85149304]\n",
      "Cross Val Score Mean Scores =  0.8492396776787109\n",
      "Cross Val Score Standard deviation =  0.007057277828966636\n",
      "Y Prediction values\n",
      "[ 7062.5    8907.25  13634.375 ...  7524.125  8559.375 12580.   ]\n",
      "Accuracy Score Mean = 0.8495188950299335\n"
     ]
    }
   ],
   "source": [
    "print('Cross Val Score =',score)\n",
    "print('Cross Val Score Mean Scores = ',score.mean())\n",
    "print('Cross Val Score Standard deviation = ',score.std())\n",
    "\n",
    "y_pred=cross_val_predict(reg,x,y,cv=6)\n",
    "print('Y Prediction values')\n",
    "print(y_pred)\n",
    "\n",
    "from sklearn.metrics import accuracy_score\n",
    "score1=r2_score(y,y_pred)\n",
    "print('Accuracy Score Mean =',score1.mean())"
   ]
  },
  {
   "cell_type": "code",
   "execution_count": 129,
   "metadata": {},
   "outputs": [
    {
     "data": {
      "text/plain": [
       "array([ 7062.5  ,  8907.25 , 13634.375, ...,  7524.125,  8559.375,\n",
       "       12580.   ])"
      ]
     },
     "execution_count": 129,
     "metadata": {},
     "output_type": "execute_result"
    }
   ],
   "source": [
    "#We will use cv=6 for which we are getting the maximum Cross Val Score = 0.8492396776787109 and Maximum Accuracy Score = 0.8495188950299335. \n",
    "\n",
    "y_pred"
   ]
  },
  {
   "cell_type": "code",
   "execution_count": 130,
   "metadata": {},
   "outputs": [
    {
     "data": {
      "text/html": [
       "<div>\n",
       "<style scoped>\n",
       "    .dataframe tbody tr th:only-of-type {\n",
       "        vertical-align: middle;\n",
       "    }\n",
       "\n",
       "    .dataframe tbody tr th {\n",
       "        vertical-align: top;\n",
       "    }\n",
       "\n",
       "    .dataframe thead th {\n",
       "        text-align: right;\n",
       "    }\n",
       "</style>\n",
       "<table border=\"1\" class=\"dataframe\">\n",
       "  <thead>\n",
       "    <tr style=\"text-align: right;\">\n",
       "      <th></th>\n",
       "      <th>Prediction Values</th>\n",
       "    </tr>\n",
       "  </thead>\n",
       "  <tbody>\n",
       "    <tr>\n",
       "      <td>0</td>\n",
       "      <td>7062.500000</td>\n",
       "    </tr>\n",
       "    <tr>\n",
       "      <td>1</td>\n",
       "      <td>8907.250000</td>\n",
       "    </tr>\n",
       "    <tr>\n",
       "      <td>2</td>\n",
       "      <td>13634.375000</td>\n",
       "    </tr>\n",
       "    <tr>\n",
       "      <td>3</td>\n",
       "      <td>6031.000000</td>\n",
       "    </tr>\n",
       "    <tr>\n",
       "      <td>4</td>\n",
       "      <td>10597.401821</td>\n",
       "    </tr>\n",
       "    <tr>\n",
       "      <td>...</td>\n",
       "      <td>...</td>\n",
       "    </tr>\n",
       "    <tr>\n",
       "      <td>10677</td>\n",
       "      <td>4520.625000</td>\n",
       "    </tr>\n",
       "    <tr>\n",
       "      <td>10678</td>\n",
       "      <td>4513.125000</td>\n",
       "    </tr>\n",
       "    <tr>\n",
       "      <td>10679</td>\n",
       "      <td>7524.125000</td>\n",
       "    </tr>\n",
       "    <tr>\n",
       "      <td>10680</td>\n",
       "      <td>8559.375000</td>\n",
       "    </tr>\n",
       "    <tr>\n",
       "      <td>10681</td>\n",
       "      <td>12580.000000</td>\n",
       "    </tr>\n",
       "  </tbody>\n",
       "</table>\n",
       "<p>10682 rows × 1 columns</p>\n",
       "</div>"
      ],
      "text/plain": [
       "       Prediction Values\n",
       "0            7062.500000\n",
       "1            8907.250000\n",
       "2           13634.375000\n",
       "3            6031.000000\n",
       "4           10597.401821\n",
       "...                  ...\n",
       "10677        4520.625000\n",
       "10678        4513.125000\n",
       "10679        7524.125000\n",
       "10680        8559.375000\n",
       "10681       12580.000000\n",
       "\n",
       "[10682 rows x 1 columns]"
      ]
     },
     "execution_count": 130,
     "metadata": {},
     "output_type": "execute_result"
    }
   ],
   "source": [
    "prediction=pd.DataFrame({'Prediction Values':y_pred})\n",
    "prediction"
   ]
  },
  {
   "cell_type": "code",
   "execution_count": 131,
   "metadata": {},
   "outputs": [],
   "source": [
    "prediction.to_csv('FlightM1prediction', sep=',')"
   ]
  },
  {
   "cell_type": "code",
   "execution_count": 132,
   "metadata": {},
   "outputs": [],
   "source": [
    "from sklearn.model_selection import train_test_split\n",
    "train_x,test_x,train_y,test_y=train_test_split(x,y, random_state=56,test_size=0.25)"
   ]
  },
  {
   "cell_type": "code",
   "execution_count": 133,
   "metadata": {},
   "outputs": [],
   "source": [
    "from sklearn.tree import DecisionTreeRegressor as DTR\n",
    "from sklearn.metrics import r2_score"
   ]
  },
  {
   "cell_type": "code",
   "execution_count": 134,
   "metadata": {},
   "outputs": [
    {
     "data": {
      "text/plain": [
       "DecisionTreeRegressor(criterion='mse', max_depth=None, max_features=None,\n",
       "                      max_leaf_nodes=None, min_impurity_decrease=0.0,\n",
       "                      min_impurity_split=None, min_samples_leaf=1,\n",
       "                      min_samples_split=2, min_weight_fraction_leaf=0.0,\n",
       "                      presort=False, random_state=None, splitter='best')"
      ]
     },
     "execution_count": 134,
     "metadata": {},
     "output_type": "execute_result"
    }
   ],
   "source": [
    "dt_model=DTR()\n",
    "dt_model.fit(train_x,train_y)"
   ]
  },
  {
   "cell_type": "code",
   "execution_count": 135,
   "metadata": {},
   "outputs": [],
   "source": [
    "from sklearn.model_selection import GridSearchCV"
   ]
  },
  {
   "cell_type": "code",
   "execution_count": 136,
   "metadata": {},
   "outputs": [],
   "source": [
    "from sklearn.model_selection import cross_val_score\n",
    "from sklearn.model_selection import cross_val_predict\n",
    "from sklearn.metrics import r2_score"
   ]
  },
  {
   "cell_type": "code",
   "execution_count": 145,
   "metadata": {},
   "outputs": [
    {
     "name": "stdout",
     "output_type": "stream",
     "text": [
      "Score: [0.82375279 0.83829409 0.84083346 0.85672723 0.85070145 0.81107456\n",
      " 0.81528235 0.81350847 0.84551248 0.78850807]\n",
      "Mean Scores 0.8284194941073479\n",
      "Standard deviation 0.020376622779113382\n"
     ]
    }
   ],
   "source": [
    "score=cross_val_score(dt_model,x,y,cv=10)\n",
    "print('Score:',score)\n",
    "print('Mean Scores',score.mean())\n",
    "print('Standard deviation',score.std())"
   ]
  },
  {
   "cell_type": "code",
   "execution_count": 138,
   "metadata": {},
   "outputs": [],
   "source": [
    "def Val_score(k):\n",
    "    avg=[]\n",
    "    std=[]\n",
    "    for i in k:\n",
    "        score=cross_val_score(dt_model,X=train_x,y=train_y,cv=i)\n",
    "        avg.append(score.mean())\n",
    "        std.append(score.std())\n",
    "        return avg, std"
   ]
  },
  {
   "cell_type": "code",
   "execution_count": 139,
   "metadata": {},
   "outputs": [],
   "source": [
    "k=range(5,10)\n",
    "mean,std=Val_score(k)"
   ]
  },
  {
   "cell_type": "code",
   "execution_count": 140,
   "metadata": {
    "scrolled": true
   },
   "outputs": [
    {
     "data": {
      "text/html": [
       "<div>\n",
       "<style scoped>\n",
       "    .dataframe tbody tr th:only-of-type {\n",
       "        vertical-align: middle;\n",
       "    }\n",
       "\n",
       "    .dataframe tbody tr th {\n",
       "        vertical-align: top;\n",
       "    }\n",
       "\n",
       "    .dataframe thead th {\n",
       "        text-align: right;\n",
       "    }\n",
       "</style>\n",
       "<table border=\"1\" class=\"dataframe\">\n",
       "  <thead>\n",
       "    <tr style=\"text-align: right;\">\n",
       "      <th></th>\n",
       "      <th>Avg_cv_score</th>\n",
       "      <th>Std_cv_score</th>\n",
       "    </tr>\n",
       "  </thead>\n",
       "  <tbody>\n",
       "    <tr>\n",
       "      <td>5</td>\n",
       "      <td>0.798657</td>\n",
       "      <td>0.013122</td>\n",
       "    </tr>\n",
       "    <tr>\n",
       "      <td>6</td>\n",
       "      <td>0.798657</td>\n",
       "      <td>0.013122</td>\n",
       "    </tr>\n",
       "    <tr>\n",
       "      <td>7</td>\n",
       "      <td>0.798657</td>\n",
       "      <td>0.013122</td>\n",
       "    </tr>\n",
       "    <tr>\n",
       "      <td>8</td>\n",
       "      <td>0.798657</td>\n",
       "      <td>0.013122</td>\n",
       "    </tr>\n",
       "    <tr>\n",
       "      <td>9</td>\n",
       "      <td>0.798657</td>\n",
       "      <td>0.013122</td>\n",
       "    </tr>\n",
       "  </tbody>\n",
       "</table>\n",
       "</div>"
      ],
      "text/plain": [
       "   Avg_cv_score  Std_cv_score\n",
       "5      0.798657      0.013122\n",
       "6      0.798657      0.013122\n",
       "7      0.798657      0.013122\n",
       "8      0.798657      0.013122\n",
       "9      0.798657      0.013122"
      ]
     },
     "execution_count": 140,
     "metadata": {},
     "output_type": "execute_result"
    }
   ],
   "source": [
    "score=pd.DataFrame({'Avg_cv_score':mean,'Std_cv_score':std},index=k)\n",
    "score"
   ]
  },
  {
   "cell_type": "code",
   "execution_count": 146,
   "metadata": {},
   "outputs": [],
   "source": [
    "#We can see that at cv=10 we get the maximum cross validation score i.e. 0.8284194941073479.\n",
    "\n",
    "grid_params={\n",
    "    'criterion':['mse','friedman_mse','mae'],\n",
    "    'max_depth':[1,2,3,4,5,6,7,8,9,10,11,12],\n",
    "    'random_state':[25,30,35,40,45,50,55,60,65,70,75,80,85,90,95,100,105,110]\n",
    "}"
   ]
  },
  {
   "cell_type": "code",
   "execution_count": 147,
   "metadata": {},
   "outputs": [],
   "source": [
    "grid_search=GridSearchCV(estimator=dt_model,\n",
    "                        param_grid=grid_params,\n",
    "                        cv=6,\n",
    "                        n_jobs=-1)"
   ]
  },
  {
   "cell_type": "code",
   "execution_count": 148,
   "metadata": {},
   "outputs": [],
   "source": [
    "grid_search=grid_search.fit(train_x,train_y)"
   ]
  },
  {
   "cell_type": "code",
   "execution_count": 149,
   "metadata": {},
   "outputs": [
    {
     "name": "stdout",
     "output_type": "stream",
     "text": [
      "{'criterion': 'mse', 'max_depth': 12, 'random_state': 95}\n"
     ]
    }
   ],
   "source": [
    "best_parameters=grid_search.best_params_\n",
    "\n",
    "print(best_parameters)"
   ]
  },
  {
   "cell_type": "code",
   "execution_count": 150,
   "metadata": {},
   "outputs": [
    {
     "name": "stdout",
     "output_type": "stream",
     "text": [
      "0.8224538394394293\n"
     ]
    }
   ],
   "source": [
    "best_result=grid_search.best_score_\n",
    "print(best_result)"
   ]
  },
  {
   "cell_type": "code",
   "execution_count": 151,
   "metadata": {},
   "outputs": [],
   "source": [
    "dt_model=DTR(max_depth= 12,criterion='mse',random_state=95)"
   ]
  },
  {
   "cell_type": "code",
   "execution_count": 163,
   "metadata": {},
   "outputs": [],
   "source": [
    "score=cross_val_score(dt_model,x,y,cv=10)"
   ]
  },
  {
   "cell_type": "code",
   "execution_count": 164,
   "metadata": {},
   "outputs": [
    {
     "name": "stdout",
     "output_type": "stream",
     "text": [
      "Cross Val Score = [0.83214718 0.85290194 0.82853547 0.84873055 0.84357854 0.82715431\n",
      " 0.83272798 0.8343187  0.84341229 0.83212328]\n",
      "Cross Val Score Mean Scores =  0.83756302389176\n",
      "Cross Val Score Standard deviation =  0.008444286712827867\n",
      "Y Prediction values\n",
      "[ 7609.125  8907.25  13590.    ...  7524.125 10908.75  12501.25 ]\n",
      "Accuracy Score Mean = 0.8517660029574539\n"
     ]
    }
   ],
   "source": [
    "print('Cross Val Score =',score)\n",
    "print('Cross Val Score Mean Scores = ',score.mean())\n",
    "print('Cross Val Score Standard deviation = ',score.std())\n",
    "\n",
    "y_pred1=cross_val_predict(reg,x,y,cv=10)\n",
    "print('Y Prediction values')\n",
    "print(y_pred1)\n",
    "\n",
    "from sklearn.metrics import accuracy_score\n",
    "score1=r2_score(y,y_pred1)\n",
    "print('Accuracy Score Mean =',score1.mean())"
   ]
  },
  {
   "cell_type": "code",
   "execution_count": 165,
   "metadata": {},
   "outputs": [
    {
     "data": {
      "text/plain": [
       "array([ 7609.125,  8907.25 , 13590.   , ...,  7524.125, 10908.75 ,\n",
       "       12501.25 ])"
      ]
     },
     "execution_count": 165,
     "metadata": {},
     "output_type": "execute_result"
    }
   ],
   "source": [
    "#We will use cv=10 for which we are getting the maximum Cross Val Score = 0.83756302389176 and Maximum Accuracy Score = 0.8517660029574539. \n",
    "\n",
    "y_pred1"
   ]
  },
  {
   "cell_type": "code",
   "execution_count": 166,
   "metadata": {},
   "outputs": [
    {
     "data": {
      "text/html": [
       "<div>\n",
       "<style scoped>\n",
       "    .dataframe tbody tr th:only-of-type {\n",
       "        vertical-align: middle;\n",
       "    }\n",
       "\n",
       "    .dataframe tbody tr th {\n",
       "        vertical-align: top;\n",
       "    }\n",
       "\n",
       "    .dataframe thead th {\n",
       "        text-align: right;\n",
       "    }\n",
       "</style>\n",
       "<table border=\"1\" class=\"dataframe\">\n",
       "  <thead>\n",
       "    <tr style=\"text-align: right;\">\n",
       "      <th></th>\n",
       "      <th>Prediction Values</th>\n",
       "    </tr>\n",
       "  </thead>\n",
       "  <tbody>\n",
       "    <tr>\n",
       "      <td>0</td>\n",
       "      <td>7609.125</td>\n",
       "    </tr>\n",
       "    <tr>\n",
       "      <td>1</td>\n",
       "      <td>8907.250</td>\n",
       "    </tr>\n",
       "    <tr>\n",
       "      <td>2</td>\n",
       "      <td>13590.000</td>\n",
       "    </tr>\n",
       "    <tr>\n",
       "      <td>3</td>\n",
       "      <td>6343.375</td>\n",
       "    </tr>\n",
       "    <tr>\n",
       "      <td>4</td>\n",
       "      <td>10435.500</td>\n",
       "    </tr>\n",
       "    <tr>\n",
       "      <td>...</td>\n",
       "      <td>...</td>\n",
       "    </tr>\n",
       "    <tr>\n",
       "      <td>10677</td>\n",
       "      <td>4305.250</td>\n",
       "    </tr>\n",
       "    <tr>\n",
       "      <td>10678</td>\n",
       "      <td>4516.250</td>\n",
       "    </tr>\n",
       "    <tr>\n",
       "      <td>10679</td>\n",
       "      <td>7524.125</td>\n",
       "    </tr>\n",
       "    <tr>\n",
       "      <td>10680</td>\n",
       "      <td>10908.750</td>\n",
       "    </tr>\n",
       "    <tr>\n",
       "      <td>10681</td>\n",
       "      <td>12501.250</td>\n",
       "    </tr>\n",
       "  </tbody>\n",
       "</table>\n",
       "<p>10682 rows × 1 columns</p>\n",
       "</div>"
      ],
      "text/plain": [
       "       Prediction Values\n",
       "0               7609.125\n",
       "1               8907.250\n",
       "2              13590.000\n",
       "3               6343.375\n",
       "4              10435.500\n",
       "...                  ...\n",
       "10677           4305.250\n",
       "10678           4516.250\n",
       "10679           7524.125\n",
       "10680          10908.750\n",
       "10681          12501.250\n",
       "\n",
       "[10682 rows x 1 columns]"
      ]
     },
     "execution_count": 166,
     "metadata": {},
     "output_type": "execute_result"
    }
   ],
   "source": [
    "prediction1=pd.DataFrame({'Prediction Values':y_pred1})\n",
    "prediction1"
   ]
  },
  {
   "cell_type": "code",
   "execution_count": 167,
   "metadata": {},
   "outputs": [],
   "source": [
    "prediction1.to_csv('FlightM2prediction', sep=',')"
   ]
  },
  {
   "cell_type": "code",
   "execution_count": null,
   "metadata": {},
   "outputs": [],
   "source": []
  }
 ],
 "metadata": {
  "kernelspec": {
   "display_name": "Python 3",
   "language": "python",
   "name": "python3"
  },
  "language_info": {
   "codemirror_mode": {
    "name": "ipython",
    "version": 3
   },
   "file_extension": ".py",
   "mimetype": "text/x-python",
   "name": "python",
   "nbconvert_exporter": "python",
   "pygments_lexer": "ipython3",
   "version": "3.7.4"
  }
 },
 "nbformat": 4,
 "nbformat_minor": 2
}
