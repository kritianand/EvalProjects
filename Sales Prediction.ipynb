{
 "cells": [
  {
   "cell_type": "code",
   "execution_count": 22,
   "metadata": {},
   "outputs": [],
   "source": [
    "import pandas as pd\n",
    "import numpy as np\n",
    "import seaborn as sns\n",
    "import matplotlib.pyplot as plt\n",
    "%matplotlib inline\n",
    "\n",
    "import warnings\n",
    "warnings.filterwarnings(\"ignore\")"
   ]
  },
  {
   "cell_type": "code",
   "execution_count": 23,
   "metadata": {},
   "outputs": [],
   "source": [
    "df=pd.read_csv('SalesPred.csv')"
   ]
  },
  {
   "cell_type": "code",
   "execution_count": 3,
   "metadata": {},
   "outputs": [
    {
     "data": {
      "text/plain": [
       "(200, 5)"
      ]
     },
     "execution_count": 3,
     "metadata": {},
     "output_type": "execute_result"
    }
   ],
   "source": [
    "df.shape"
   ]
  },
  {
   "cell_type": "code",
   "execution_count": 4,
   "metadata": {},
   "outputs": [
    {
     "data": {
      "text/html": [
       "<div>\n",
       "<style scoped>\n",
       "    .dataframe tbody tr th:only-of-type {\n",
       "        vertical-align: middle;\n",
       "    }\n",
       "\n",
       "    .dataframe tbody tr th {\n",
       "        vertical-align: top;\n",
       "    }\n",
       "\n",
       "    .dataframe thead th {\n",
       "        text-align: right;\n",
       "    }\n",
       "</style>\n",
       "<table border=\"1\" class=\"dataframe\">\n",
       "  <thead>\n",
       "    <tr style=\"text-align: right;\">\n",
       "      <th></th>\n",
       "      <th>Unnamed: 0</th>\n",
       "      <th>TV</th>\n",
       "      <th>radio</th>\n",
       "      <th>newspaper</th>\n",
       "      <th>sales</th>\n",
       "    </tr>\n",
       "  </thead>\n",
       "  <tbody>\n",
       "    <tr>\n",
       "      <td>0</td>\n",
       "      <td>1</td>\n",
       "      <td>230.1</td>\n",
       "      <td>37.8</td>\n",
       "      <td>69.2</td>\n",
       "      <td>22.1</td>\n",
       "    </tr>\n",
       "    <tr>\n",
       "      <td>1</td>\n",
       "      <td>2</td>\n",
       "      <td>44.5</td>\n",
       "      <td>39.3</td>\n",
       "      <td>45.1</td>\n",
       "      <td>10.4</td>\n",
       "    </tr>\n",
       "    <tr>\n",
       "      <td>2</td>\n",
       "      <td>3</td>\n",
       "      <td>17.2</td>\n",
       "      <td>45.9</td>\n",
       "      <td>69.3</td>\n",
       "      <td>9.3</td>\n",
       "    </tr>\n",
       "    <tr>\n",
       "      <td>3</td>\n",
       "      <td>4</td>\n",
       "      <td>151.5</td>\n",
       "      <td>41.3</td>\n",
       "      <td>58.5</td>\n",
       "      <td>18.5</td>\n",
       "    </tr>\n",
       "    <tr>\n",
       "      <td>4</td>\n",
       "      <td>5</td>\n",
       "      <td>180.8</td>\n",
       "      <td>10.8</td>\n",
       "      <td>58.4</td>\n",
       "      <td>12.9</td>\n",
       "    </tr>\n",
       "  </tbody>\n",
       "</table>\n",
       "</div>"
      ],
      "text/plain": [
       "   Unnamed: 0     TV  radio  newspaper  sales\n",
       "0           1  230.1   37.8       69.2   22.1\n",
       "1           2   44.5   39.3       45.1   10.4\n",
       "2           3   17.2   45.9       69.3    9.3\n",
       "3           4  151.5   41.3       58.5   18.5\n",
       "4           5  180.8   10.8       58.4   12.9"
      ]
     },
     "execution_count": 4,
     "metadata": {},
     "output_type": "execute_result"
    }
   ],
   "source": [
    "df.head()"
   ]
  },
  {
   "cell_type": "code",
   "execution_count": 5,
   "metadata": {},
   "outputs": [
    {
     "data": {
      "text/html": [
       "<div>\n",
       "<style scoped>\n",
       "    .dataframe tbody tr th:only-of-type {\n",
       "        vertical-align: middle;\n",
       "    }\n",
       "\n",
       "    .dataframe tbody tr th {\n",
       "        vertical-align: top;\n",
       "    }\n",
       "\n",
       "    .dataframe thead th {\n",
       "        text-align: right;\n",
       "    }\n",
       "</style>\n",
       "<table border=\"1\" class=\"dataframe\">\n",
       "  <thead>\n",
       "    <tr style=\"text-align: right;\">\n",
       "      <th></th>\n",
       "      <th>Unnamed: 0</th>\n",
       "      <th>TV</th>\n",
       "      <th>radio</th>\n",
       "      <th>newspaper</th>\n",
       "      <th>sales</th>\n",
       "    </tr>\n",
       "  </thead>\n",
       "  <tbody>\n",
       "    <tr>\n",
       "      <td>195</td>\n",
       "      <td>196</td>\n",
       "      <td>38.2</td>\n",
       "      <td>3.7</td>\n",
       "      <td>13.8</td>\n",
       "      <td>7.6</td>\n",
       "    </tr>\n",
       "    <tr>\n",
       "      <td>196</td>\n",
       "      <td>197</td>\n",
       "      <td>94.2</td>\n",
       "      <td>4.9</td>\n",
       "      <td>8.1</td>\n",
       "      <td>9.7</td>\n",
       "    </tr>\n",
       "    <tr>\n",
       "      <td>197</td>\n",
       "      <td>198</td>\n",
       "      <td>177.0</td>\n",
       "      <td>9.3</td>\n",
       "      <td>6.4</td>\n",
       "      <td>12.8</td>\n",
       "    </tr>\n",
       "    <tr>\n",
       "      <td>198</td>\n",
       "      <td>199</td>\n",
       "      <td>283.6</td>\n",
       "      <td>42.0</td>\n",
       "      <td>66.2</td>\n",
       "      <td>25.5</td>\n",
       "    </tr>\n",
       "    <tr>\n",
       "      <td>199</td>\n",
       "      <td>200</td>\n",
       "      <td>232.1</td>\n",
       "      <td>8.6</td>\n",
       "      <td>8.7</td>\n",
       "      <td>13.4</td>\n",
       "    </tr>\n",
       "  </tbody>\n",
       "</table>\n",
       "</div>"
      ],
      "text/plain": [
       "     Unnamed: 0     TV  radio  newspaper  sales\n",
       "195         196   38.2    3.7       13.8    7.6\n",
       "196         197   94.2    4.9        8.1    9.7\n",
       "197         198  177.0    9.3        6.4   12.8\n",
       "198         199  283.6   42.0       66.2   25.5\n",
       "199         200  232.1    8.6        8.7   13.4"
      ]
     },
     "execution_count": 5,
     "metadata": {},
     "output_type": "execute_result"
    }
   ],
   "source": [
    "df.tail()"
   ]
  },
  {
   "cell_type": "code",
   "execution_count": 6,
   "metadata": {},
   "outputs": [
    {
     "data": {
      "text/plain": [
       "Unnamed: 0    0\n",
       "TV            0\n",
       "radio         0\n",
       "newspaper     0\n",
       "sales         0\n",
       "dtype: int64"
      ]
     },
     "execution_count": 6,
     "metadata": {},
     "output_type": "execute_result"
    }
   ],
   "source": [
    "df.isnull().sum()"
   ]
  },
  {
   "cell_type": "code",
   "execution_count": 25,
   "metadata": {},
   "outputs": [
    {
     "data": {
      "text/plain": [
       "Index(['Unnamed: 0', 'TV', 'radio', 'newspaper', 'sales'], dtype='object')"
      ]
     },
     "execution_count": 25,
     "metadata": {},
     "output_type": "execute_result"
    }
   ],
   "source": [
    "df.columns"
   ]
  },
  {
   "cell_type": "code",
   "execution_count": 24,
   "metadata": {},
   "outputs": [
    {
     "data": {
      "text/plain": [
       "Unnamed: 0      int64\n",
       "TV            float64\n",
       "radio         float64\n",
       "newspaper     float64\n",
       "sales         float64\n",
       "dtype: object"
      ]
     },
     "execution_count": 24,
     "metadata": {},
     "output_type": "execute_result"
    }
   ],
   "source": [
    "df.dtypes"
   ]
  },
  {
   "cell_type": "code",
   "execution_count": 9,
   "metadata": {},
   "outputs": [],
   "source": [
    "import seaborn as sns"
   ]
  },
  {
   "cell_type": "code",
   "execution_count": 12,
   "metadata": {},
   "outputs": [
    {
     "data": {
      "text/plain": [
       "<seaborn.axisgrid.PairGrid at 0x20a297cd548>"
      ]
     },
     "execution_count": 12,
     "metadata": {},
     "output_type": "execute_result"
    },
    {
     "data": {
      "image/png": "[encoded data removed]",
      "text/plain": [
       "<Figure size 900x900 with 30 Axes>"
      ]
     },
     "metadata": {
      "needs_background": "light"
     },
     "output_type": "display_data"
    }
   ],
   "source": [
    "sns.pairplot(df)"
   ]
  },
  {
   "cell_type": "code",
   "execution_count": 13,
   "metadata": {},
   "outputs": [
    {
     "data": {
      "text/plain": [
       "<matplotlib.axes._subplots.AxesSubplot at 0x20a293cc848>"
      ]
     },
     "execution_count": 13,
     "metadata": {},
     "output_type": "execute_result"
    },
    {
     "data": {
      "image/png": "[encoded data removed]",
      "text/plain": [
       "<Figure size 432x288 with 1 Axes>"
      ]
     },
     "metadata": {
      "needs_background": "light"
     },
     "output_type": "display_data"
    }
   ],
   "source": [
    "df['TV'].plot.hist()"
   ]
  },
  {
   "cell_type": "code",
   "execution_count": 14,
   "metadata": {},
   "outputs": [
    {
     "data": {
      "text/plain": [
       "<matplotlib.axes._subplots.AxesSubplot at 0x20a2a81f388>"
      ]
     },
     "execution_count": 14,
     "metadata": {},
     "output_type": "execute_result"
    },
    {
     "data": {
      "image/png": "[encoded data removed]",
      "text/plain": [
       "<Figure size 432x288 with 1 Axes>"
      ]
     },
     "metadata": {
      "needs_background": "light"
     },
     "output_type": "display_data"
    }
   ],
   "source": [
    "df['radio'].plot.hist()"
   ]
  },
  {
   "cell_type": "code",
   "execution_count": 26,
   "metadata": {},
   "outputs": [
    {
     "data": {
      "text/plain": [
       "<matplotlib.axes._subplots.AxesSubplot at 0x20a2a985a48>"
      ]
     },
     "execution_count": 26,
     "metadata": {},
     "output_type": "execute_result"
    },
    {
     "data": {
      "image/png": "[encoded data removed]",
      "text/plain": [
       "<Figure size 432x288 with 1 Axes>"
      ]
     },
     "metadata": {
      "needs_background": "light"
     },
     "output_type": "display_data"
    }
   ],
   "source": [
    "df['newspaper'].plot.hist()"
   ]
  },
  {
   "cell_type": "code",
   "execution_count": 16,
   "metadata": {},
   "outputs": [
    {
     "data": {
      "text/plain": [
       "<matplotlib.axes._subplots.AxesSubplot at 0x20a2a9b0808>"
      ]
     },
     "execution_count": 16,
     "metadata": {},
     "output_type": "execute_result"
    },
    {
     "data": {
      "image/png": "[encoded data removed]",
      "text/plain": [
       "<Figure size 432x288 with 1 Axes>"
      ]
     },
     "metadata": {
      "needs_background": "light"
     },
     "output_type": "display_data"
    }
   ],
   "source": [
    "df['sales'].plot.hist()"
   ]
  },
  {
   "cell_type": "code",
   "execution_count": 27,
   "metadata": {},
   "outputs": [
    {
     "data": {
      "text/plain": [
       "<matplotlib.axes._subplots.AxesSubplot at 0x20a2aadf248>"
      ]
     },
     "execution_count": 27,
     "metadata": {},
     "output_type": "execute_result"
    },
    {
     "data": {
      "image/png": "[encoded data removed]",
      "text/plain": [
       "<Figure size 432x288 with 1 Axes>"
      ]
     },
     "metadata": {
      "needs_background": "light"
     },
     "output_type": "display_data"
    }
   ],
   "source": [
    "np.log(df['newspaper']).plot.hist()"
   ]
  },
  {
   "cell_type": "code",
   "execution_count": 28,
   "metadata": {},
   "outputs": [],
   "source": [
    "df['newspaper']=np.log(df['newspaper'])"
   ]
  },
  {
   "cell_type": "code",
   "execution_count": 29,
   "metadata": {},
   "outputs": [
    {
     "data": {
      "text/plain": [
       "<matplotlib.axes._subplots.AxesSubplot at 0x20a2ab10488>"
      ]
     },
     "execution_count": 29,
     "metadata": {},
     "output_type": "execute_result"
    },
    {
     "data": {
      "image/png": "[encoded data removed]",
      "text/plain": [
       "<Figure size 432x288 with 1 Axes>"
      ]
     },
     "metadata": {
      "needs_background": "light"
     },
     "output_type": "display_data"
    }
   ],
   "source": [
    "np.log(df['sales']).plot.hist()"
   ]
  },
  {
   "cell_type": "code",
   "execution_count": 30,
   "metadata": {},
   "outputs": [],
   "source": [
    "df['sales']=np.log(df['sales'])"
   ]
  },
  {
   "cell_type": "code",
   "execution_count": 31,
   "metadata": {},
   "outputs": [
    {
     "data": {
      "text/plain": [
       "<matplotlib.axes._subplots.AxesSubplot at 0x20a2ab3cb48>"
      ]
     },
     "execution_count": 31,
     "metadata": {},
     "output_type": "execute_result"
    },
    {
     "data": {
      "image/png": "[encoded data removed]",
      "text/plain": [
       "<Figure size 432x288 with 1 Axes>"
      ]
     },
     "metadata": {
      "needs_background": "light"
     },
     "output_type": "display_data"
    }
   ],
   "source": [
    "df['TV'].plot.box()"
   ]
  },
  {
   "cell_type": "code",
   "execution_count": 32,
   "metadata": {},
   "outputs": [
    {
     "data": {
      "text/plain": [
       "<matplotlib.axes._subplots.AxesSubplot at 0x20a2bfe9b48>"
      ]
     },
     "execution_count": 32,
     "metadata": {},
     "output_type": "execute_result"
    },
    {
     "data": {
      "image/png": "[encoded data removed]",
      "text/plain": [
       "<Figure size 432x288 with 1 Axes>"
      ]
     },
     "metadata": {
      "needs_background": "light"
     },
     "output_type": "display_data"
    }
   ],
   "source": [
    "df['radio'].plot.box()"
   ]
  },
  {
   "cell_type": "code",
   "execution_count": 33,
   "metadata": {},
   "outputs": [
    {
     "data": {
      "text/plain": [
       "<matplotlib.axes._subplots.AxesSubplot at 0x20a2ab3c6c8>"
      ]
     },
     "execution_count": 33,
     "metadata": {},
     "output_type": "execute_result"
    },
    {
     "data": {
      "image/png": "[encoded data removed]",
      "text/plain": [
       "<Figure size 432x288 with 1 Axes>"
      ]
     },
     "metadata": {
      "needs_background": "light"
     },
     "output_type": "display_data"
    }
   ],
   "source": [
    "df['newspaper'].plot.box()"
   ]
  },
  {
   "cell_type": "code",
   "execution_count": 34,
   "metadata": {},
   "outputs": [
    {
     "data": {
      "text/plain": [
       "<matplotlib.axes._subplots.AxesSubplot at 0x20a2c037508>"
      ]
     },
     "execution_count": 34,
     "metadata": {},
     "output_type": "execute_result"
    },
    {
     "data": {
      "image/png": "[encoded data removed]",
      "text/plain": [
       "<Figure size 432x288 with 1 Axes>"
      ]
     },
     "metadata": {
      "needs_background": "light"
     },
     "output_type": "display_data"
    }
   ],
   "source": [
    "df['sales'].plot.box()"
   ]
  },
  {
   "cell_type": "code",
   "execution_count": 36,
   "metadata": {},
   "outputs": [
    {
     "name": "stdout",
     "output_type": "stream",
     "text": [
      "First Quartile 2.646098621496201\n",
      "Second Quartile 3.2484176600955044\n",
      "Third Quartile 3.8088822465086327\n",
      "Fourth Quartile 4.736198448394496\n",
      "1.1627836250124317\n",
      "LR= 0.9019231839775534\n",
      "UR= 5.55305768402728\n"
     ]
    },
    {
     "data": {
      "text/plain": [
       "<matplotlib.axes._subplots.AxesSubplot at 0x20a2cbce408>"
      ]
     },
     "execution_count": 36,
     "metadata": {},
     "output_type": "execute_result"
    },
    {
     "data": {
      "image/png": "[encoded data removed]",
      "text/plain": [
       "<Figure size 432x288 with 1 Axes>"
      ]
     },
     "metadata": {
      "needs_background": "light"
     },
     "output_type": "display_data"
    }
   ],
   "source": [
    "#Removing Outliers in the variables data. Discarding the values above UR and below LR.\n",
    "\n",
    "Q1=df['newspaper'].quantile(0.25)\n",
    "Q2=df['newspaper'].quantile(0.50)\n",
    "Q3=df['newspaper'].quantile(0.75)\n",
    "Q4=df['newspaper'].quantile(1)\n",
    "print(\"First Quartile\",Q1)\n",
    "print(\"Second Quartile\",Q2)\n",
    "print(\"Third Quartile\",Q3)\n",
    "print(\"Fourth Quartile\",Q4)\n",
    "IQR=Q3-Q1\n",
    "print(IQR)\n",
    "LR=Q1-1.5*IQR\n",
    "UR=Q3+1.5*IQR\n",
    "print('LR=',LR)\n",
    "print('UR=',UR)\n",
    "df.loc[df['newspaper']<=LR,'newspaper']=np.mean(df['newspaper'])\n",
    "\n",
    "#Verifying\n",
    "df['newspaper'].plot.box()"
   ]
  },
  {
   "cell_type": "code",
   "execution_count": 38,
   "metadata": {},
   "outputs": [
    {
     "name": "stdout",
     "output_type": "stream",
     "text": [
      "First Quartile 2.34898289440944\n",
      "Second Quartile 2.5606090142993736\n",
      "Third Quartile 2.856470206220483\n",
      "Fourth Quartile 3.295836866004329\n",
      "0.507487311811043\n",
      "LR= 1.5877519266928757\n",
      "UR= 3.6177011739370477\n"
     ]
    },
    {
     "data": {
      "text/plain": [
       "<matplotlib.axes._subplots.AxesSubplot at 0x20a2cca5208>"
      ]
     },
     "execution_count": 38,
     "metadata": {},
     "output_type": "execute_result"
    },
    {
     "data": {
      "image/png": "[encoded data removed]",
      "text/plain": [
       "<Figure size 432x288 with 1 Axes>"
      ]
     },
     "metadata": {
      "needs_background": "light"
     },
     "output_type": "display_data"
    }
   ],
   "source": [
    "Q1=df['sales'].quantile(0.25)\n",
    "Q2=df['sales'].quantile(0.50)\n",
    "Q3=df['sales'].quantile(0.75)\n",
    "Q4=df['sales'].quantile(1)\n",
    "print(\"First Quartile\",Q1)\n",
    "print(\"Second Quartile\",Q2)\n",
    "print(\"Third Quartile\",Q3)\n",
    "print(\"Fourth Quartile\",Q4)\n",
    "IQR=Q3-Q1\n",
    "print(IQR)\n",
    "LR=Q1-1.5*IQR\n",
    "UR=Q3+1.5*IQR\n",
    "print('LR=',LR)\n",
    "print('UR=',UR)\n",
    "df.loc[df['sales']<=LR,'sales']=np.mean(df['sales'])\n",
    "\n",
    "#Verifying\n",
    "df['sales'].plot.box()"
   ]
  },
  {
   "cell_type": "code",
   "execution_count": 39,
   "metadata": {},
   "outputs": [
    {
     "data": {
      "text/html": [
       "<div>\n",
       "<style scoped>\n",
       "    .dataframe tbody tr th:only-of-type {\n",
       "        vertical-align: middle;\n",
       "    }\n",
       "\n",
       "    .dataframe tbody tr th {\n",
       "        vertical-align: top;\n",
       "    }\n",
       "\n",
       "    .dataframe thead th {\n",
       "        text-align: right;\n",
       "    }\n",
       "</style>\n",
       "<table border=\"1\" class=\"dataframe\">\n",
       "  <thead>\n",
       "    <tr style=\"text-align: right;\">\n",
       "      <th></th>\n",
       "      <th>Unnamed: 0</th>\n",
       "      <th>TV</th>\n",
       "      <th>radio</th>\n",
       "      <th>newspaper</th>\n",
       "      <th>sales</th>\n",
       "    </tr>\n",
       "  </thead>\n",
       "  <tbody>\n",
       "    <tr>\n",
       "      <td>Unnamed: 0</td>\n",
       "      <td>1.000000</td>\n",
       "      <td>0.017715</td>\n",
       "      <td>-0.110680</td>\n",
       "      <td>-0.206612</td>\n",
       "      <td>-0.054375</td>\n",
       "    </tr>\n",
       "    <tr>\n",
       "      <td>TV</td>\n",
       "      <td>0.017715</td>\n",
       "      <td>1.000000</td>\n",
       "      <td>0.054809</td>\n",
       "      <td>0.011620</td>\n",
       "      <td>0.783782</td>\n",
       "    </tr>\n",
       "    <tr>\n",
       "      <td>radio</td>\n",
       "      <td>-0.110680</td>\n",
       "      <td>0.054809</td>\n",
       "      <td>1.000000</td>\n",
       "      <td>0.269031</td>\n",
       "      <td>0.529406</td>\n",
       "    </tr>\n",
       "    <tr>\n",
       "      <td>newspaper</td>\n",
       "      <td>-0.206612</td>\n",
       "      <td>0.011620</td>\n",
       "      <td>0.269031</td>\n",
       "      <td>1.000000</td>\n",
       "      <td>0.094945</td>\n",
       "    </tr>\n",
       "    <tr>\n",
       "      <td>sales</td>\n",
       "      <td>-0.054375</td>\n",
       "      <td>0.783782</td>\n",
       "      <td>0.529406</td>\n",
       "      <td>0.094945</td>\n",
       "      <td>1.000000</td>\n",
       "    </tr>\n",
       "  </tbody>\n",
       "</table>\n",
       "</div>"
      ],
      "text/plain": [
       "            Unnamed: 0        TV     radio  newspaper     sales\n",
       "Unnamed: 0    1.000000  0.017715 -0.110680  -0.206612 -0.054375\n",
       "TV            0.017715  1.000000  0.054809   0.011620  0.783782\n",
       "radio        -0.110680  0.054809  1.000000   0.269031  0.529406\n",
       "newspaper    -0.206612  0.011620  0.269031   1.000000  0.094945\n",
       "sales        -0.054375  0.783782  0.529406   0.094945  1.000000"
      ]
     },
     "execution_count": 39,
     "metadata": {},
     "output_type": "execute_result"
    }
   ],
   "source": [
    "df.corr()"
   ]
  },
  {
   "cell_type": "code",
   "execution_count": 40,
   "metadata": {},
   "outputs": [
    {
     "data": {
      "text/html": [
       "<div>\n",
       "<style scoped>\n",
       "    .dataframe tbody tr th:only-of-type {\n",
       "        vertical-align: middle;\n",
       "    }\n",
       "\n",
       "    .dataframe tbody tr th {\n",
       "        vertical-align: top;\n",
       "    }\n",
       "\n",
       "    .dataframe thead th {\n",
       "        text-align: right;\n",
       "    }\n",
       "</style>\n",
       "<table border=\"1\" class=\"dataframe\">\n",
       "  <thead>\n",
       "    <tr style=\"text-align: right;\">\n",
       "      <th></th>\n",
       "      <th>Unnamed: 0</th>\n",
       "      <th>TV</th>\n",
       "      <th>radio</th>\n",
       "      <th>newspaper</th>\n",
       "      <th>sales</th>\n",
       "    </tr>\n",
       "  </thead>\n",
       "  <tbody>\n",
       "    <tr>\n",
       "      <td>count</td>\n",
       "      <td>200.000000</td>\n",
       "      <td>200.000000</td>\n",
       "      <td>200.000000</td>\n",
       "      <td>200.000000</td>\n",
       "      <td>200.000000</td>\n",
       "    </tr>\n",
       "    <tr>\n",
       "      <td>mean</td>\n",
       "      <td>100.500000</td>\n",
       "      <td>147.042500</td>\n",
       "      <td>23.264000</td>\n",
       "      <td>3.189003</td>\n",
       "      <td>2.586529</td>\n",
       "    </tr>\n",
       "    <tr>\n",
       "      <td>std</td>\n",
       "      <td>57.879185</td>\n",
       "      <td>85.854236</td>\n",
       "      <td>14.846809</td>\n",
       "      <td>0.775518</td>\n",
       "      <td>0.366475</td>\n",
       "    </tr>\n",
       "    <tr>\n",
       "      <td>min</td>\n",
       "      <td>1.000000</td>\n",
       "      <td>0.700000</td>\n",
       "      <td>0.000000</td>\n",
       "      <td>1.163151</td>\n",
       "      <td>1.667707</td>\n",
       "    </tr>\n",
       "    <tr>\n",
       "      <td>25%</td>\n",
       "      <td>50.750000</td>\n",
       "      <td>74.375000</td>\n",
       "      <td>9.975000</td>\n",
       "      <td>2.734110</td>\n",
       "      <td>2.351375</td>\n",
       "    </tr>\n",
       "    <tr>\n",
       "      <td>50%</td>\n",
       "      <td>100.500000</td>\n",
       "      <td>149.750000</td>\n",
       "      <td>22.900000</td>\n",
       "      <td>3.248418</td>\n",
       "      <td>2.563991</td>\n",
       "    </tr>\n",
       "    <tr>\n",
       "      <td>75%</td>\n",
       "      <td>150.250000</td>\n",
       "      <td>218.825000</td>\n",
       "      <td>36.525000</td>\n",
       "      <td>3.808882</td>\n",
       "      <td>2.856470</td>\n",
       "    </tr>\n",
       "    <tr>\n",
       "      <td>max</td>\n",
       "      <td>200.000000</td>\n",
       "      <td>296.400000</td>\n",
       "      <td>49.600000</td>\n",
       "      <td>4.736198</td>\n",
       "      <td>3.295837</td>\n",
       "    </tr>\n",
       "  </tbody>\n",
       "</table>\n",
       "</div>"
      ],
      "text/plain": [
       "       Unnamed: 0          TV       radio   newspaper       sales\n",
       "count  200.000000  200.000000  200.000000  200.000000  200.000000\n",
       "mean   100.500000  147.042500   23.264000    3.189003    2.586529\n",
       "std     57.879185   85.854236   14.846809    0.775518    0.366475\n",
       "min      1.000000    0.700000    0.000000    1.163151    1.667707\n",
       "25%     50.750000   74.375000    9.975000    2.734110    2.351375\n",
       "50%    100.500000  149.750000   22.900000    3.248418    2.563991\n",
       "75%    150.250000  218.825000   36.525000    3.808882    2.856470\n",
       "max    200.000000  296.400000   49.600000    4.736198    3.295837"
      ]
     },
     "execution_count": 40,
     "metadata": {},
     "output_type": "execute_result"
    }
   ],
   "source": [
    "df.describe()"
   ]
  },
  {
   "cell_type": "code",
   "execution_count": 42,
   "metadata": {},
   "outputs": [
    {
     "data": {
      "text/plain": [
       "((200, 3), (200,))"
      ]
     },
     "execution_count": 42,
     "metadata": {},
     "output_type": "execute_result"
    }
   ],
   "source": [
    "#Separating the data into input and target variable\n",
    "\n",
    "x=df.drop(['sales','Unnamed: 0'],axis=1)\n",
    "y=df['sales']\n",
    "x.shape,y.shape"
   ]
  },
  {
   "cell_type": "code",
   "execution_count": 43,
   "metadata": {},
   "outputs": [],
   "source": [
    "#Feauture Scaling using MinMaxScaler technique\n",
    "\n",
    "from sklearn.preprocessing import MinMaxScaler\n",
    "scaler=MinMaxScaler()\n",
    "x_scaled=scaler.fit_transform(x)"
   ]
  },
  {
   "cell_type": "code",
   "execution_count": 44,
   "metadata": {},
   "outputs": [],
   "source": [
    "#Storing the scaled data in a dataframe\n",
    "\n",
    "x=pd.DataFrame(x_scaled,columns=x.columns)"
   ]
  },
  {
   "cell_type": "code",
   "execution_count": 45,
   "metadata": {},
   "outputs": [
    {
     "data": {
      "text/html": [
       "<div>\n",
       "<style scoped>\n",
       "    .dataframe tbody tr th:only-of-type {\n",
       "        vertical-align: middle;\n",
       "    }\n",
       "\n",
       "    .dataframe tbody tr th {\n",
       "        vertical-align: top;\n",
       "    }\n",
       "\n",
       "    .dataframe thead th {\n",
       "        text-align: right;\n",
       "    }\n",
       "</style>\n",
       "<table border=\"1\" class=\"dataframe\">\n",
       "  <thead>\n",
       "    <tr style=\"text-align: right;\">\n",
       "      <th></th>\n",
       "      <th>TV</th>\n",
       "      <th>radio</th>\n",
       "      <th>newspaper</th>\n",
       "    </tr>\n",
       "  </thead>\n",
       "  <tbody>\n",
       "    <tr>\n",
       "      <td>0</td>\n",
       "      <td>0.775786</td>\n",
       "      <td>0.762097</td>\n",
       "      <td>0.860288</td>\n",
       "    </tr>\n",
       "    <tr>\n",
       "      <td>1</td>\n",
       "      <td>0.148123</td>\n",
       "      <td>0.792339</td>\n",
       "      <td>0.740469</td>\n",
       "    </tr>\n",
       "    <tr>\n",
       "      <td>2</td>\n",
       "      <td>0.055800</td>\n",
       "      <td>0.925403</td>\n",
       "      <td>0.860692</td>\n",
       "    </tr>\n",
       "    <tr>\n",
       "      <td>3</td>\n",
       "      <td>0.509976</td>\n",
       "      <td>0.832661</td>\n",
       "      <td>0.813277</td>\n",
       "    </tr>\n",
       "    <tr>\n",
       "      <td>4</td>\n",
       "      <td>0.609063</td>\n",
       "      <td>0.217742</td>\n",
       "      <td>0.812798</td>\n",
       "    </tr>\n",
       "  </tbody>\n",
       "</table>\n",
       "</div>"
      ],
      "text/plain": [
       "         TV     radio  newspaper\n",
       "0  0.775786  0.762097   0.860288\n",
       "1  0.148123  0.792339   0.740469\n",
       "2  0.055800  0.925403   0.860692\n",
       "3  0.509976  0.832661   0.813277\n",
       "4  0.609063  0.217742   0.812798"
      ]
     },
     "execution_count": 45,
     "metadata": {},
     "output_type": "execute_result"
    }
   ],
   "source": [
    "#Verifying the scaled data\n",
    "\n",
    "x.head()"
   ]
  },
  {
   "cell_type": "code",
   "execution_count": 46,
   "metadata": {},
   "outputs": [],
   "source": [
    "#Splitting the data into train set and test set using random state = 56 and test size = 0.25.\n",
    "\n",
    "from sklearn.model_selection import train_test_split\n",
    "train_x,test_x,train_y,test_y=train_test_split(x,y, random_state=56,test_size=0.25)"
   ]
  },
  {
   "cell_type": "code",
   "execution_count": 53,
   "metadata": {},
   "outputs": [],
   "source": [
    "from sklearn.linear_model import LinearRegression"
   ]
  },
  {
   "cell_type": "code",
   "execution_count": 59,
   "metadata": {},
   "outputs": [
    {
     "data": {
      "text/plain": [
       "LinearRegression(copy_X=True, fit_intercept=True, n_jobs=None, normalize=False)"
      ]
     },
     "execution_count": 59,
     "metadata": {},
     "output_type": "execute_result"
    }
   ],
   "source": [
    "#Creating an instance for Linear Regression model as lr.\n",
    "\n",
    "lr=LinearRegression()\n",
    "\n",
    "#Fitting the model on train data\n",
    "\n",
    "lr.fit(train_x,train_y)\n",
    "\n",
    "#Below output shows the default values of hyperparameters of the Linear Regression model."
   ]
  },
  {
   "cell_type": "code",
   "execution_count": 56,
   "metadata": {},
   "outputs": [
    {
     "data": {
      "text/plain": [
       "array([ 0.94896451,  0.622354  , -0.10756587])"
      ]
     },
     "execution_count": 56,
     "metadata": {},
     "output_type": "execute_result"
    }
   ],
   "source": [
    "#Finding the coefficients of the Linear Regression model.\n",
    "\n",
    "lr.coef_"
   ]
  },
  {
   "cell_type": "code",
   "execution_count": 57,
   "metadata": {},
   "outputs": [
    {
     "data": {
      "text/plain": [
       "1.8898584614747318"
      ]
     },
     "execution_count": 57,
     "metadata": {},
     "output_type": "execute_result"
    }
   ],
   "source": [
    "#Finding the intercepts of the Linear Regression model.\n",
    "\n",
    "lr.intercept_"
   ]
  },
  {
   "cell_type": "code",
   "execution_count": 60,
   "metadata": {},
   "outputs": [],
   "source": [
    "#Importing the GridSearchCV for searching the best values of hyperparameters of the Linear Regression model.\n",
    "\n",
    "from sklearn.model_selection import GridSearchCV"
   ]
  },
  {
   "cell_type": "code",
   "execution_count": 61,
   "metadata": {},
   "outputs": [],
   "source": [
    "#Creating an instance for the Linear Regression model.\n",
    "\n",
    "lr=LinearRegression()"
   ]
  },
  {
   "cell_type": "code",
   "execution_count": 62,
   "metadata": {},
   "outputs": [],
   "source": [
    "#Importing the cross_val_score for the cross validation technique to avoid overfitting and underfitting issues.\n",
    "#Importing the cross_val_predict to find the predictions of the cross validation techniquw.\n",
    "\n",
    "from sklearn.model_selection import cross_val_score\n",
    "from sklearn.model_selection import cross_val_predict\n",
    "from sklearn.metrics import r2_score"
   ]
  },
  {
   "cell_type": "code",
   "execution_count": 69,
   "metadata": {},
   "outputs": [
    {
     "name": "stdout",
     "output_type": "stream",
     "text": [
      "Score: [0.74732579 0.86543064 0.92439807 0.76441005 0.91057917]\n",
      "Mean Scores 0.8424287454028325\n",
      "Standard deviation 0.07351738057677065\n"
     ]
    }
   ],
   "source": [
    "#Finding the mean and the standard deviation of the cross_val_score for the model at some random cv value.\n",
    "\n",
    "score=cross_val_score(lr,x,y,cv=5)\n",
    "print('Score:',score)\n",
    "print('Mean Scores',score.mean())\n",
    "print('Standard deviation',score.std())"
   ]
  },
  {
   "cell_type": "code",
   "execution_count": 70,
   "metadata": {},
   "outputs": [],
   "source": [
    "#Defining the function Val_score() to check the mean and standard deviation of the cross validation score at different values of cv.\n",
    "\n",
    "def Val_score(k):\n",
    "    avg=[]\n",
    "    std=[]\n",
    "    for i in k:\n",
    "        score=cross_val_score(lr,X=train_x,y=train_y,cv=i)\n",
    "        avg.append(score.mean())\n",
    "        std.append(score.std())\n",
    "        return avg, std"
   ]
  },
  {
   "cell_type": "code",
   "execution_count": 71,
   "metadata": {},
   "outputs": [],
   "source": [
    "#Finding the mean and standard deviation of the cross validation score using the user defined function Val_Score to check cv score for a value of cv which falls in the ideal range of 5 to 10.\n",
    "\n",
    "k=range(5,10)\n",
    "mean,std=Val_score(k)"
   ]
  },
  {
   "cell_type": "code",
   "execution_count": 72,
   "metadata": {},
   "outputs": [
    {
     "data": {
      "text/html": [
       "<div>\n",
       "<style scoped>\n",
       "    .dataframe tbody tr th:only-of-type {\n",
       "        vertical-align: middle;\n",
       "    }\n",
       "\n",
       "    .dataframe tbody tr th {\n",
       "        vertical-align: top;\n",
       "    }\n",
       "\n",
       "    .dataframe thead th {\n",
       "        text-align: right;\n",
       "    }\n",
       "</style>\n",
       "<table border=\"1\" class=\"dataframe\">\n",
       "  <thead>\n",
       "    <tr style=\"text-align: right;\">\n",
       "      <th></th>\n",
       "      <th>Avg_cv_score</th>\n",
       "      <th>Std_cv_score</th>\n",
       "    </tr>\n",
       "  </thead>\n",
       "  <tbody>\n",
       "    <tr>\n",
       "      <td>5</td>\n",
       "      <td>0.804324</td>\n",
       "      <td>0.121349</td>\n",
       "    </tr>\n",
       "    <tr>\n",
       "      <td>6</td>\n",
       "      <td>0.804324</td>\n",
       "      <td>0.121349</td>\n",
       "    </tr>\n",
       "    <tr>\n",
       "      <td>7</td>\n",
       "      <td>0.804324</td>\n",
       "      <td>0.121349</td>\n",
       "    </tr>\n",
       "    <tr>\n",
       "      <td>8</td>\n",
       "      <td>0.804324</td>\n",
       "      <td>0.121349</td>\n",
       "    </tr>\n",
       "    <tr>\n",
       "      <td>9</td>\n",
       "      <td>0.804324</td>\n",
       "      <td>0.121349</td>\n",
       "    </tr>\n",
       "  </tbody>\n",
       "</table>\n",
       "</div>"
      ],
      "text/plain": [
       "   Avg_cv_score  Std_cv_score\n",
       "5      0.804324      0.121349\n",
       "6      0.804324      0.121349\n",
       "7      0.804324      0.121349\n",
       "8      0.804324      0.121349\n",
       "9      0.804324      0.121349"
      ]
     },
     "execution_count": 72,
     "metadata": {},
     "output_type": "execute_result"
    }
   ],
   "source": [
    "#Storing the different values of mean and standard deviation of the cross val score at different values of cv in a data frame.\n",
    "\n",
    "score=pd.DataFrame({'Avg_cv_score':mean,'Std_cv_score':std},index=k)\n",
    "score"
   ]
  },
  {
   "cell_type": "code",
   "execution_count": 76,
   "metadata": {},
   "outputs": [],
   "source": [
    "#We can see that at cv=5 we get the maximum cross validation score i.e.0.8424287454028325. \n",
    "#We will define the grid parameters of Linear Regression model for the grid search cv technique.\n",
    "grid_params={\n",
    "    'copy_X':[True,False],\n",
    "    'fit_intercept':[True,False],\n",
    "    'normalize':[True,False]\n",
    "\n",
    "}"
   ]
  },
  {
   "cell_type": "code",
   "execution_count": 77,
   "metadata": {},
   "outputs": [],
   "source": [
    "#We will define the model GridSearchCV by giving the parameters estimator = model, param_grid=grid parameters,scoring= r2_score, cv value and n_jobs = -1 to enable all processors to run for smooth output.\n",
    "\n",
    "grid_search=GridSearchCV(estimator=lr,\n",
    "                        param_grid=grid_params,\n",
    "                        cv=5,\n",
    "                        n_jobs=-1)"
   ]
  },
  {
   "cell_type": "code",
   "execution_count": 78,
   "metadata": {},
   "outputs": [],
   "source": [
    "#Use the GridSearchCV on the train data to find the best values of the hyperparameters of Linear Regression model.\n",
    "\n",
    "grid_search=grid_search.fit(train_x,train_y)"
   ]
  },
  {
   "cell_type": "code",
   "execution_count": 79,
   "metadata": {},
   "outputs": [
    {
     "name": "stdout",
     "output_type": "stream",
     "text": [
      "{'copy_X': True, 'fit_intercept': True, 'normalize': True}\n"
     ]
    }
   ],
   "source": [
    "best_parameters=grid_search.best_params_\n",
    "\n",
    "print(best_parameters)"
   ]
  },
  {
   "cell_type": "code",
   "execution_count": 80,
   "metadata": {},
   "outputs": [
    {
     "name": "stdout",
     "output_type": "stream",
     "text": [
      "0.8043236740301636\n"
     ]
    }
   ],
   "source": [
    "best_result=grid_search.best_score_\n",
    "print(best_result)"
   ]
  },
  {
   "cell_type": "code",
   "execution_count": 81,
   "metadata": {},
   "outputs": [],
   "source": [
    "lr=LinearRegression(copy_X=True,fit_intercept=True,normalize=True)"
   ]
  },
  {
   "cell_type": "code",
   "execution_count": 93,
   "metadata": {},
   "outputs": [],
   "source": [
    "score=cross_val_score(lr,x,y,cv=5)"
   ]
  },
  {
   "cell_type": "code",
   "execution_count": 94,
   "metadata": {},
   "outputs": [
    {
     "name": "stdout",
     "output_type": "stream",
     "text": [
      "Cross Val Score = [0.74732579 0.86543064 0.92439807 0.76441005 0.91057917]\n",
      "Cross Val Score Mean Scores =  0.8424287454028325\n",
      "Cross Val Score Standard deviation =  0.07351738057677076\n",
      "Y Prediction values\n",
      "[3.02499786 2.43878085 2.42366372 2.81293538 2.52164667 2.43210934\n",
      " 2.41241581 2.46631024 1.86147066 2.50090425 2.09655576 2.85682656\n",
      " 2.3090475  2.24822193 2.88496862 3.04172261 2.4624859  3.22206097\n",
      " 2.29967576 2.60048875 2.8630273  2.6550238  2.03538433 2.77289976\n",
      " 2.17627803 2.72285323 2.66320362 2.81215682 2.97333543 2.23058077\n",
      " 3.12150892 2.38949683 2.14031061 2.93967077 2.1627778  2.83950014\n",
      " 3.27701994 2.66700608 2.27888996 3.03259252 2.73893188 2.79508769\n",
      " 3.09882786 2.58143909 2.22418604 2.65659668 2.22963952 3.11054584\n",
      " 2.72216078 2.18094735 2.48583225 2.31548856 3.02149032 2.96385852\n",
      " 3.02455103 3.05426513 2.20042315 2.51009549 3.10511825 2.8853938\n",
      " 2.03023911 3.16535816 2.77072657 2.55436507 2.7787087  2.17018091\n",
      " 2.24525586 2.47233114 2.93877079 3.05976153 2.82823287 2.35044617\n",
      " 2.34154426 2.30289956 2.8234439  2.40826365 1.94540638 2.58272923\n",
      " 2.25375838 2.29409726 2.39278461 2.64615007 2.30265673 2.56428215\n",
      " 3.02348995 2.6465757  2.41134358 2.64042366 2.38381133 2.7286633\n",
      " 2.34893382 1.92636297 2.90887862 3.04747753 2.36413439 2.71117389\n",
      " 2.5526766  2.68118373 3.25314885 2.74281195 2.58300483 3.1847758\n",
      " 2.86509351 2.65182013 3.05380946 2.80025218 2.03014405 2.12465085\n",
      " 1.86972286 3.02142239 2.63679422 3.06730615 2.58288682 2.7778081\n",
      " 2.62454709 2.46253249 2.44771579 2.09743109 2.63933562 2.07916991\n",
      " 2.60200805 2.14453221 2.5743356  2.66417721 2.94586438 2.24828916\n",
      " 2.32751374 2.09305342 3.17939127 2.15437488 2.34231446 2.69583239\n",
      " 2.19352491 2.93818591 2.41245965 2.58863821 2.41317096 3.047478\n",
      " 2.28974068 2.97052346 2.28148877 2.87051056 2.93944246 2.22188721\n",
      " 2.30849053 2.30952204 2.69741802 3.20985951 2.46527271 2.2938243\n",
      " 2.8873333  2.30288534 2.75664476 2.86479795 2.70395786 2.00485546\n",
      " 2.66097359 2.31612471 2.31643626 2.46947758 2.61042923 2.52270925\n",
      " 2.66750758 2.84139765 2.43642985 2.61167718 2.34439552 2.58255568\n",
      " 2.7989855  2.93085813 2.14593607 2.60550665 2.1491757  2.49058644\n",
      " 2.62309411 3.30906711 3.01385507 2.4771163  2.77181103 2.50706061\n",
      " 2.41044317 2.61382901 2.08325954 3.25943813 2.91542504 3.04911146\n",
      " 2.31662742 2.811275   2.99051266 2.04270438 2.49261031 2.25067447\n",
      " 1.93478897 2.93352658 2.78768709 2.02153055 2.23385173 2.56379224\n",
      " 3.23670117 2.72768674]\n",
      "Accuracy Score Mean = 0.8459955109137638\n"
     ]
    }
   ],
   "source": [
    "print('Cross Val Score =',score)\n",
    "print('Cross Val Score Mean Scores = ',score.mean())\n",
    "print('Cross Val Score Standard deviation = ',score.std())\n",
    "\n",
    "y_pred=cross_val_predict(lr,x,y,cv=5)\n",
    "print('Y Prediction values')\n",
    "print(y_pred)\n",
    "\n",
    "from sklearn.metrics import accuracy_score\n",
    "score1=r2_score(y,y_pred)\n",
    "print('Accuracy Score Mean =',score1.mean())"
   ]
  },
  {
   "cell_type": "code",
   "execution_count": 95,
   "metadata": {},
   "outputs": [
    {
     "data": {
      "text/plain": [
       "array([3.02499786, 2.43878085, 2.42366372, 2.81293538, 2.52164667,\n",
       "       2.43210934, 2.41241581, 2.46631024, 1.86147066, 2.50090425,\n",
       "       2.09655576, 2.85682656, 2.3090475 , 2.24822193, 2.88496862,\n",
       "       3.04172261, 2.4624859 , 3.22206097, 2.29967576, 2.60048875,\n",
       "       2.8630273 , 2.6550238 , 2.03538433, 2.77289976, 2.17627803,\n",
       "       2.72285323, 2.66320362, 2.81215682, 2.97333543, 2.23058077,\n",
       "       3.12150892, 2.38949683, 2.14031061, 2.93967077, 2.1627778 ,\n",
       "       2.83950014, 3.27701994, 2.66700608, 2.27888996, 3.03259252,\n",
       "       2.73893188, 2.79508769, 3.09882786, 2.58143909, 2.22418604,\n",
       "       2.65659668, 2.22963952, 3.11054584, 2.72216078, 2.18094735,\n",
       "       2.48583225, 2.31548856, 3.02149032, 2.96385852, 3.02455103,\n",
       "       3.05426513, 2.20042315, 2.51009549, 3.10511825, 2.8853938 ,\n",
       "       2.03023911, 3.16535816, 2.77072657, 2.55436507, 2.7787087 ,\n",
       "       2.17018091, 2.24525586, 2.47233114, 2.93877079, 3.05976153,\n",
       "       2.82823287, 2.35044617, 2.34154426, 2.30289956, 2.8234439 ,\n",
       "       2.40826365, 1.94540638, 2.58272923, 2.25375838, 2.29409726,\n",
       "       2.39278461, 2.64615007, 2.30265673, 2.56428215, 3.02348995,\n",
       "       2.6465757 , 2.41134358, 2.64042366, 2.38381133, 2.7286633 ,\n",
       "       2.34893382, 1.92636297, 2.90887862, 3.04747753, 2.36413439,\n",
       "       2.71117389, 2.5526766 , 2.68118373, 3.25314885, 2.74281195,\n",
       "       2.58300483, 3.1847758 , 2.86509351, 2.65182013, 3.05380946,\n",
       "       2.80025218, 2.03014405, 2.12465085, 1.86972286, 3.02142239,\n",
       "       2.63679422, 3.06730615, 2.58288682, 2.7778081 , 2.62454709,\n",
       "       2.46253249, 2.44771579, 2.09743109, 2.63933562, 2.07916991,\n",
       "       2.60200805, 2.14453221, 2.5743356 , 2.66417721, 2.94586438,\n",
       "       2.24828916, 2.32751374, 2.09305342, 3.17939127, 2.15437488,\n",
       "       2.34231446, 2.69583239, 2.19352491, 2.93818591, 2.41245965,\n",
       "       2.58863821, 2.41317096, 3.047478  , 2.28974068, 2.97052346,\n",
       "       2.28148877, 2.87051056, 2.93944246, 2.22188721, 2.30849053,\n",
       "       2.30952204, 2.69741802, 3.20985951, 2.46527271, 2.2938243 ,\n",
       "       2.8873333 , 2.30288534, 2.75664476, 2.86479795, 2.70395786,\n",
       "       2.00485546, 2.66097359, 2.31612471, 2.31643626, 2.46947758,\n",
       "       2.61042923, 2.52270925, 2.66750758, 2.84139765, 2.43642985,\n",
       "       2.61167718, 2.34439552, 2.58255568, 2.7989855 , 2.93085813,\n",
       "       2.14593607, 2.60550665, 2.1491757 , 2.49058644, 2.62309411,\n",
       "       3.30906711, 3.01385507, 2.4771163 , 2.77181103, 2.50706061,\n",
       "       2.41044317, 2.61382901, 2.08325954, 3.25943813, 2.91542504,\n",
       "       3.04911146, 2.31662742, 2.811275  , 2.99051266, 2.04270438,\n",
       "       2.49261031, 2.25067447, 1.93478897, 2.93352658, 2.78768709,\n",
       "       2.02153055, 2.23385173, 2.56379224, 3.23670117, 2.72768674])"
      ]
     },
     "execution_count": 95,
     "metadata": {},
     "output_type": "execute_result"
    }
   ],
   "source": [
    "#We will use cv=5 for which we are getting the maximum Cross Val Score = 0.8424287454028325 and Maximum Accuracy Score = 0.8459955109137638. \n",
    "\n",
    "y_pred"
   ]
  },
  {
   "cell_type": "code",
   "execution_count": 96,
   "metadata": {},
   "outputs": [
    {
     "data": {
      "text/plain": [
       "array([3.02499786, 2.43878085, 2.42366372, 2.81293538, 2.52164667,\n",
       "       2.43210934, 2.41241581, 2.46631024, 1.86147066, 2.50090425,\n",
       "       2.09655576, 2.85682656, 2.3090475 , 2.24822193, 2.88496862,\n",
       "       3.04172261, 2.4624859 , 3.22206097, 2.29967576, 2.60048875,\n",
       "       2.8630273 , 2.6550238 , 2.03538433, 2.77289976, 2.17627803,\n",
       "       2.72285323, 2.66320362, 2.81215682, 2.97333543, 2.23058077,\n",
       "       3.12150892, 2.38949683, 2.14031061, 2.93967077, 2.1627778 ,\n",
       "       2.83950014, 3.27701994, 2.66700608, 2.27888996, 3.03259252,\n",
       "       2.73893188, 2.79508769, 3.09882786, 2.58143909, 2.22418604,\n",
       "       2.65659668, 2.22963952, 3.11054584, 2.72216078, 2.18094735,\n",
       "       2.48583225, 2.31548856, 3.02149032, 2.96385852, 3.02455103,\n",
       "       3.05426513, 2.20042315, 2.51009549, 3.10511825, 2.8853938 ,\n",
       "       2.03023911, 3.16535816, 2.77072657, 2.55436507, 2.7787087 ,\n",
       "       2.17018091, 2.24525586, 2.47233114, 2.93877079, 3.05976153,\n",
       "       2.82823287, 2.35044617, 2.34154426, 2.30289956, 2.8234439 ,\n",
       "       2.40826365, 1.94540638, 2.58272923, 2.25375838, 2.29409726,\n",
       "       2.39278461, 2.64615007, 2.30265673, 2.56428215, 3.02348995,\n",
       "       2.6465757 , 2.41134358, 2.64042366, 2.38381133, 2.7286633 ,\n",
       "       2.34893382, 1.92636297, 2.90887862, 3.04747753, 2.36413439,\n",
       "       2.71117389, 2.5526766 , 2.68118373, 3.25314885, 2.74281195,\n",
       "       2.58300483, 3.1847758 , 2.86509351, 2.65182013, 3.05380946,\n",
       "       2.80025218, 2.03014405, 2.12465085, 1.86972286, 3.02142239,\n",
       "       2.63679422, 3.06730615, 2.58288682, 2.7778081 , 2.62454709,\n",
       "       2.46253249, 2.44771579, 2.09743109, 2.63933562, 2.07916991,\n",
       "       2.60200805, 2.14453221, 2.5743356 , 2.66417721, 2.94586438,\n",
       "       2.24828916, 2.32751374, 2.09305342, 3.17939127, 2.15437488,\n",
       "       2.34231446, 2.69583239, 2.19352491, 2.93818591, 2.41245965,\n",
       "       2.58863821, 2.41317096, 3.047478  , 2.28974068, 2.97052346,\n",
       "       2.28148877, 2.87051056, 2.93944246, 2.22188721, 2.30849053,\n",
       "       2.30952204, 2.69741802, 3.20985951, 2.46527271, 2.2938243 ,\n",
       "       2.8873333 , 2.30288534, 2.75664476, 2.86479795, 2.70395786,\n",
       "       2.00485546, 2.66097359, 2.31612471, 2.31643626, 2.46947758,\n",
       "       2.61042923, 2.52270925, 2.66750758, 2.84139765, 2.43642985,\n",
       "       2.61167718, 2.34439552, 2.58255568, 2.7989855 , 2.93085813,\n",
       "       2.14593607, 2.60550665, 2.1491757 , 2.49058644, 2.62309411,\n",
       "       3.30906711, 3.01385507, 2.4771163 , 2.77181103, 2.50706061,\n",
       "       2.41044317, 2.61382901, 2.08325954, 3.25943813, 2.91542504,\n",
       "       3.04911146, 2.31662742, 2.811275  , 2.99051266, 2.04270438,\n",
       "       2.49261031, 2.25067447, 1.93478897, 2.93352658, 2.78768709,\n",
       "       2.02153055, 2.23385173, 2.56379224, 3.23670117, 2.72768674])"
      ]
     },
     "execution_count": 96,
     "metadata": {},
     "output_type": "execute_result"
    }
   ],
   "source": [
    "y_pred"
   ]
  },
  {
   "cell_type": "code",
   "execution_count": 97,
   "metadata": {},
   "outputs": [],
   "source": [
    "M1Pred=[3.02499786, 2.43878085, 2.42366372, 2.81293538, 2.52164667,\n",
    "       2.43210934, 2.41241581, 2.46631024, 1.86147066, 2.50090425,\n",
    "       2.09655576, 2.85682656, 2.3090475 , 2.24822193, 2.88496862,\n",
    "       3.04172261, 2.4624859 , 3.22206097, 2.29967576, 2.60048875,\n",
    "       2.8630273 , 2.6550238 , 2.03538433, 2.77289976, 2.17627803,\n",
    "       2.72285323, 2.66320362, 2.81215682, 2.97333543, 2.23058077,\n",
    "       3.12150892, 2.38949683, 2.14031061, 2.93967077, 2.1627778 ,\n",
    "       2.83950014, 3.27701994, 2.66700608, 2.27888996, 3.03259252,\n",
    "       2.73893188, 2.79508769, 3.09882786, 2.58143909, 2.22418604,\n",
    "       2.65659668, 2.22963952, 3.11054584, 2.72216078, 2.18094735,\n",
    "       2.48583225, 2.31548856, 3.02149032, 2.96385852, 3.02455103,\n",
    "       3.05426513, 2.20042315, 2.51009549, 3.10511825, 2.8853938 ,\n",
    "       2.03023911, 3.16535816, 2.77072657, 2.55436507, 2.7787087 ,\n",
    "       2.17018091, 2.24525586, 2.47233114, 2.93877079, 3.05976153,\n",
    "       2.82823287, 2.35044617, 2.34154426, 2.30289956, 2.8234439 ,\n",
    "       2.40826365, 1.94540638, 2.58272923, 2.25375838, 2.29409726,\n",
    "       2.39278461, 2.64615007, 2.30265673, 2.56428215, 3.02348995,\n",
    "       2.6465757 , 2.41134358, 2.64042366, 2.38381133, 2.7286633 ,\n",
    "       2.34893382, 1.92636297, 2.90887862, 3.04747753, 2.36413439,\n",
    "       2.71117389, 2.5526766 , 2.68118373, 3.25314885, 2.74281195,\n",
    "       2.58300483, 3.1847758 , 2.86509351, 2.65182013, 3.05380946,\n",
    "       2.80025218, 2.03014405, 2.12465085, 1.86972286, 3.02142239,\n",
    "       2.63679422, 3.06730615, 2.58288682, 2.7778081 , 2.62454709,\n",
    "       2.46253249, 2.44771579, 2.09743109, 2.63933562, 2.07916991,\n",
    "       2.60200805, 2.14453221, 2.5743356 , 2.66417721, 2.94586438,\n",
    "       2.24828916, 2.32751374, 2.09305342, 3.17939127, 2.15437488,\n",
    "       2.34231446, 2.69583239, 2.19352491, 2.93818591, 2.41245965,\n",
    "       2.58863821, 2.41317096, 3.047478  , 2.28974068, 2.97052346,\n",
    "       2.28148877, 2.87051056, 2.93944246, 2.22188721, 2.30849053,\n",
    "       2.30952204, 2.69741802, 3.20985951, 2.46527271, 2.2938243 ,\n",
    "       2.8873333 , 2.30288534, 2.75664476, 2.86479795, 2.70395786,\n",
    "       2.00485546, 2.66097359, 2.31612471, 2.31643626, 2.46947758,\n",
    "       2.61042923, 2.52270925, 2.66750758, 2.84139765, 2.43642985,\n",
    "       2.61167718, 2.34439552, 2.58255568, 2.7989855 , 2.93085813,\n",
    "       2.14593607, 2.60550665, 2.1491757 , 2.49058644, 2.62309411,\n",
    "       3.30906711, 3.01385507, 2.4771163 , 2.77181103, 2.50706061,\n",
    "       2.41044317, 2.61382901, 2.08325954, 3.25943813, 2.91542504,\n",
    "       3.04911146, 2.31662742, 2.811275  , 2.99051266, 2.04270438,\n",
    "       2.49261031, 2.25067447, 1.93478897, 2.93352658, 2.78768709,\n",
    "       2.02153055, 2.23385173, 2.56379224, 3.23670117, 2.72768674]"
   ]
  },
  {
   "cell_type": "code",
   "execution_count": 98,
   "metadata": {},
   "outputs": [],
   "source": [
    "#Splitting the data into train set and test set using random state = 56 and test size = 0.25.\n",
    "\n",
    "from sklearn.model_selection import train_test_split\n",
    "train_x,test_x,train_y,test_y=train_test_split(x,y, random_state=56,test_size=0.25)"
   ]
  },
  {
   "cell_type": "code",
   "execution_count": 99,
   "metadata": {},
   "outputs": [],
   "source": [
    "#Importing the KneighborsRegressor model and the evaluation metrics r2_score.\n",
    "\n",
    "from sklearn.neighbors import KNeighborsRegressor as KNN\n",
    "from sklearn.metrics import r2_score"
   ]
  },
  {
   "cell_type": "code",
   "execution_count": 100,
   "metadata": {},
   "outputs": [
    {
     "data": {
      "text/plain": [
       "KNeighborsRegressor(algorithm='auto', leaf_size=30, metric='minkowski',\n",
       "                    metric_params=None, n_jobs=None, n_neighbors=12, p=2,\n",
       "                    weights='uniform')"
      ]
     },
     "execution_count": 100,
     "metadata": {},
     "output_type": "execute_result"
    }
   ],
   "source": [
    "#Creating an instance for KNN model by defining the model with n_neighbors hyperparameter.\n",
    "\n",
    "reg=KNN(n_neighbors=12)\n",
    "\n",
    "#Fitting the model on train set\n",
    "\n",
    "reg.fit(train_x,train_y)\n",
    "\n",
    "#Below output shows the default values of hyperparameters of the KNN Regressor model."
   ]
  },
  {
   "cell_type": "code",
   "execution_count": 101,
   "metadata": {},
   "outputs": [],
   "source": [
    "#Importing the GridSearchCV for searching the best values of hyperparameters of the KNN Regressor model.\n",
    "\n",
    "from sklearn.model_selection import GridSearchCV"
   ]
  },
  {
   "cell_type": "code",
   "execution_count": 102,
   "metadata": {},
   "outputs": [],
   "source": [
    "#Creating an instance for the KNN Regressor model.\n",
    "\n",
    "reg=KNN()"
   ]
  },
  {
   "cell_type": "code",
   "execution_count": 103,
   "metadata": {},
   "outputs": [],
   "source": [
    "#Importing the cross_val_score for the cross validation technique to avoid overfitting and underfitting issues.\n",
    "#Importing the cross_val_predict to find the predictions of the cross validation techniquw.\n",
    "\n",
    "from sklearn.model_selection import cross_val_score\n",
    "from sklearn.model_selection import cross_val_predict\n",
    "from sklearn.metrics import r2_score"
   ]
  },
  {
   "cell_type": "code",
   "execution_count": 110,
   "metadata": {},
   "outputs": [
    {
     "name": "stdout",
     "output_type": "stream",
     "text": [
      "Score: [0.80209824 0.94329702 0.91149634 0.86662354 0.92573466 0.94490006]\n",
      "Mean Scores 0.8990249769990517\n",
      "Standard deviation 0.050626287908915685\n"
     ]
    }
   ],
   "source": [
    "#Finding the mean and the standard deviation of the cross_val_score for the model at some random cv value.\n",
    "\n",
    "score=cross_val_score(reg,x,y,cv=6)\n",
    "print('Score:',score)\n",
    "print('Mean Scores',score.mean())\n",
    "print('Standard deviation',score.std())"
   ]
  },
  {
   "cell_type": "code",
   "execution_count": 111,
   "metadata": {},
   "outputs": [],
   "source": [
    "#Defining the function Val_score() to check the mean and standard deviation of the cross validation score at different values of cv.\n",
    "\n",
    "def Val_score(k):\n",
    "    avg=[]\n",
    "    std=[]\n",
    "    for i in k:\n",
    "        score=cross_val_score(reg,X=train_x,y=train_y,cv=i)\n",
    "        avg.append(score.mean())\n",
    "        std.append(score.std())\n",
    "        return avg, std"
   ]
  },
  {
   "cell_type": "code",
   "execution_count": 112,
   "metadata": {},
   "outputs": [],
   "source": [
    "#Finding the mean and standard deviation of the cross validation score using the user defined function Val_Score to check cv score for a value of cv which falls in the ideal range of 5 to 10.\n",
    "\n",
    "k=range(5,10)\n",
    "mean,std=Val_score(k)"
   ]
  },
  {
   "cell_type": "code",
   "execution_count": 113,
   "metadata": {},
   "outputs": [
    {
     "data": {
      "text/html": [
       "<div>\n",
       "<style scoped>\n",
       "    .dataframe tbody tr th:only-of-type {\n",
       "        vertical-align: middle;\n",
       "    }\n",
       "\n",
       "    .dataframe tbody tr th {\n",
       "        vertical-align: top;\n",
       "    }\n",
       "\n",
       "    .dataframe thead th {\n",
       "        text-align: right;\n",
       "    }\n",
       "</style>\n",
       "<table border=\"1\" class=\"dataframe\">\n",
       "  <thead>\n",
       "    <tr style=\"text-align: right;\">\n",
       "      <th></th>\n",
       "      <th>Avg_cv_score</th>\n",
       "      <th>Std_cv_score</th>\n",
       "    </tr>\n",
       "  </thead>\n",
       "  <tbody>\n",
       "    <tr>\n",
       "      <td>5</td>\n",
       "      <td>0.851592</td>\n",
       "      <td>0.044554</td>\n",
       "    </tr>\n",
       "    <tr>\n",
       "      <td>6</td>\n",
       "      <td>0.851592</td>\n",
       "      <td>0.044554</td>\n",
       "    </tr>\n",
       "    <tr>\n",
       "      <td>7</td>\n",
       "      <td>0.851592</td>\n",
       "      <td>0.044554</td>\n",
       "    </tr>\n",
       "    <tr>\n",
       "      <td>8</td>\n",
       "      <td>0.851592</td>\n",
       "      <td>0.044554</td>\n",
       "    </tr>\n",
       "    <tr>\n",
       "      <td>9</td>\n",
       "      <td>0.851592</td>\n",
       "      <td>0.044554</td>\n",
       "    </tr>\n",
       "  </tbody>\n",
       "</table>\n",
       "</div>"
      ],
      "text/plain": [
       "   Avg_cv_score  Std_cv_score\n",
       "5      0.851592      0.044554\n",
       "6      0.851592      0.044554\n",
       "7      0.851592      0.044554\n",
       "8      0.851592      0.044554\n",
       "9      0.851592      0.044554"
      ]
     },
     "execution_count": 113,
     "metadata": {},
     "output_type": "execute_result"
    }
   ],
   "source": [
    "#Storing the different values of mean and standard deviation of the cross val score at different values of cv in a data frame.\n",
    "\n",
    "score=pd.DataFrame({'Avg_cv_score':mean,'Std_cv_score':std},index=k)\n",
    "score"
   ]
  },
  {
   "cell_type": "code",
   "execution_count": 114,
   "metadata": {},
   "outputs": [],
   "source": [
    "#We can see that at cv=6 we get the maximum cross validation score i.e.0.8990249769990517. \n",
    "#We will define the grid parameters of KNN Regressor model for the grid search cv technique.\n",
    "grid_params={\n",
    "    'metric':['manhattan','euclidean','minkowski','hamming'],\n",
    "    'n_neighbors':[5,6,7,8,9,10,11,12,13,14,15,16,17,18,19,20,21],\n",
    "    'weights':['uniform','distance']\n",
    "\n",
    "}"
   ]
  },
  {
   "cell_type": "code",
   "execution_count": 115,
   "metadata": {},
   "outputs": [],
   "source": [
    "#We will define the model GridSearchCV by giving the parameters estimator = model, param_grid=grid parameters,scoring= r2_score, cv value and n_jobs = -1 to enable all processors to run for smooth output.\n",
    "\n",
    "grid_search=GridSearchCV(estimator=reg,\n",
    "                        param_grid=grid_params,\n",
    "                        cv=6,\n",
    "                        n_jobs=-1)"
   ]
  },
  {
   "cell_type": "code",
   "execution_count": 116,
   "metadata": {},
   "outputs": [],
   "source": [
    "#Use the GridSearchCV on the train data to find the best values of the hyperparameters of KNN Regressor model.\n",
    "\n",
    "grid_search=grid_search.fit(train_x,train_y)"
   ]
  },
  {
   "cell_type": "code",
   "execution_count": 117,
   "metadata": {},
   "outputs": [
    {
     "name": "stdout",
     "output_type": "stream",
     "text": [
      "{'metric': 'manhattan', 'n_neighbors': 6, 'weights': 'distance'}\n"
     ]
    }
   ],
   "source": [
    "best_parameters=grid_search.best_params_\n",
    "\n",
    "print(best_parameters)"
   ]
  },
  {
   "cell_type": "code",
   "execution_count": 118,
   "metadata": {},
   "outputs": [
    {
     "name": "stdout",
     "output_type": "stream",
     "text": [
      "0.8807312599763497\n"
     ]
    }
   ],
   "source": [
    "best_result=grid_search.best_score_\n",
    "print(best_result)"
   ]
  },
  {
   "cell_type": "code",
   "execution_count": 119,
   "metadata": {},
   "outputs": [],
   "source": [
    "reg=KNN(n_neighbors= 6,metric='manhattan',weights='distance')"
   ]
  },
  {
   "cell_type": "code",
   "execution_count": 135,
   "metadata": {},
   "outputs": [],
   "source": [
    "score=cross_val_score(reg,x,y,cv=10)"
   ]
  },
  {
   "cell_type": "code",
   "execution_count": 136,
   "metadata": {},
   "outputs": [
    {
     "name": "stdout",
     "output_type": "stream",
     "text": [
      "Cross Val Score = [0.70513489 0.93797691 0.94724781 0.87339537 0.97913133 0.91906093\n",
      " 0.83660679 0.92544214 0.95971147 0.95711971]\n",
      "Cross Val Score Mean Scores =  0.9040827351085575\n",
      "Cross Val Score Standard deviation =  0.07765780116227293\n",
      "Y Prediction values\n"
     ]
    },
    {
     "ename": "NameError",
     "evalue": "name 'y_pred1' is not defined",
     "output_type": "error",
     "traceback": [
      "\u001b[1;31m---------------------------------------------------------------------------\u001b[0m",
      "\u001b[1;31mNameError\u001b[0m                                 Traceback (most recent call last)",
      "\u001b[1;32m<ipython-input-136-68d7f11dde9b>\u001b[0m in \u001b[0;36m<module>\u001b[1;34m\u001b[0m\n\u001b[0;32m      5\u001b[0m \u001b[0my_pred\u001b[0m\u001b[1;33m=\u001b[0m\u001b[0mcross_val_predict\u001b[0m\u001b[1;33m(\u001b[0m\u001b[0mreg\u001b[0m\u001b[1;33m,\u001b[0m\u001b[0mx\u001b[0m\u001b[1;33m,\u001b[0m\u001b[0my\u001b[0m\u001b[1;33m,\u001b[0m\u001b[0mcv\u001b[0m\u001b[1;33m=\u001b[0m\u001b[1;36m10\u001b[0m\u001b[1;33m)\u001b[0m\u001b[1;33m\u001b[0m\u001b[1;33m\u001b[0m\u001b[0m\n\u001b[0;32m      6\u001b[0m \u001b[0mprint\u001b[0m\u001b[1;33m(\u001b[0m\u001b[1;34m'Y Prediction values'\u001b[0m\u001b[1;33m)\u001b[0m\u001b[1;33m\u001b[0m\u001b[1;33m\u001b[0m\u001b[0m\n\u001b[1;32m----> 7\u001b[1;33m \u001b[0mprint\u001b[0m\u001b[1;33m(\u001b[0m\u001b[0my_pred1\u001b[0m\u001b[1;33m)\u001b[0m\u001b[1;33m\u001b[0m\u001b[1;33m\u001b[0m\u001b[0m\n\u001b[0m\u001b[0;32m      8\u001b[0m \u001b[1;33m\u001b[0m\u001b[0m\n\u001b[0;32m      9\u001b[0m \u001b[1;32mfrom\u001b[0m \u001b[0msklearn\u001b[0m\u001b[1;33m.\u001b[0m\u001b[0mmetrics\u001b[0m \u001b[1;32mimport\u001b[0m \u001b[0maccuracy_score\u001b[0m\u001b[1;33m\u001b[0m\u001b[1;33m\u001b[0m\u001b[0m\n",
      "\u001b[1;31mNameError\u001b[0m: name 'y_pred1' is not defined"
     ]
    }
   ],
   "source": [
    "print('Cross Val Score =',score)\n",
    "print('Cross Val Score Mean Scores = ',score.mean())\n",
    "print('Cross Val Score Standard deviation = ',score.std())\n",
    "\n",
    "y_pred=cross_val_predict(reg,x,y,cv=10)\n",
    "print('Y Prediction values')\n",
    "print(y_pred1)\n",
    "\n",
    "from sklearn.metrics import accuracy_score\n",
    "score1=r2_score(y,y_pred1)\n",
    "print('Accuracy Score Mean =',score1.mean())"
   ]
  },
  {
   "cell_type": "code",
   "execution_count": null,
   "metadata": {},
   "outputs": [],
   "source": [
    "#We will use cv=10 for which we are getting the maximum Cross Val Score = 0.9040827351085575 and Maximum Accuracy Score = 0.9043371902694769. \n",
    "\n",
    "y_pred"
   ]
  }
 ],
 "metadata": {
  "kernelspec": {
   "display_name": "Python 3",
   "language": "python",
   "name": "python3"
  },
  "language_info": {
   "codemirror_mode": {
    "name": "ipython",
    "version": 3
   },
   "file_extension": ".py",
   "mimetype": "text/x-python",
   "name": "python",
   "nbconvert_exporter": "python",
   "pygments_lexer": "ipython3",
   "version": "3.7.4"
  }
 },
 "nbformat": 4,
 "nbformat_minor": 2
}
