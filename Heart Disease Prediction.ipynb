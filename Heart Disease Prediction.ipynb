{
 "cells": [
  {
   "cell_type": "code",
   "execution_count": 42,
   "metadata": {},
   "outputs": [],
   "source": [
    "import pandas as pd\n",
    "import numpy as np\n",
    "import seaborn as sns\n",
    "import matplotlib.pyplot as plt\n",
    "%matplotlib inline\n",
    "\n",
    "import warnings\n",
    "warnings.filterwarnings(\"ignore\")"
   ]
  },
  {
   "cell_type": "code",
   "execution_count": 43,
   "metadata": {},
   "outputs": [],
   "source": [
    "df=pd.read_csv('HeartDisease.csv')"
   ]
  },
  {
   "cell_type": "code",
   "execution_count": 3,
   "metadata": {},
   "outputs": [
    {
     "data": {
      "text/plain": [
       "(200, 14)"
      ]
     },
     "execution_count": 3,
     "metadata": {},
     "output_type": "execute_result"
    }
   ],
   "source": [
    "df.shape"
   ]
  },
  {
   "cell_type": "code",
   "execution_count": 4,
   "metadata": {},
   "outputs": [
    {
     "data": {
      "text/html": [
       "<div>\n",
       "<style scoped>\n",
       "    .dataframe tbody tr th:only-of-type {\n",
       "        vertical-align: middle;\n",
       "    }\n",
       "\n",
       "    .dataframe tbody tr th {\n",
       "        vertical-align: top;\n",
       "    }\n",
       "\n",
       "    .dataframe thead th {\n",
       "        text-align: right;\n",
       "    }\n",
       "</style>\n",
       "<table border=\"1\" class=\"dataframe\">\n",
       "  <thead>\n",
       "    <tr style=\"text-align: right;\">\n",
       "      <th></th>\n",
       "      <th>Age</th>\n",
       "      <th>sex</th>\n",
       "      <th>cp</th>\n",
       "      <th>trestbps</th>\n",
       "      <th>chol</th>\n",
       "      <th>fbs</th>\n",
       "      <th>restecg</th>\n",
       "      <th>thalach</th>\n",
       "      <th>exang</th>\n",
       "      <th>oldpeak</th>\n",
       "      <th>slope</th>\n",
       "      <th>ca</th>\n",
       "      <th>thal</th>\n",
       "      <th>Pred</th>\n",
       "    </tr>\n",
       "  </thead>\n",
       "  <tbody>\n",
       "    <tr>\n",
       "      <td>0</td>\n",
       "      <td>63</td>\n",
       "      <td>1</td>\n",
       "      <td>4</td>\n",
       "      <td>140</td>\n",
       "      <td>260</td>\n",
       "      <td>0</td>\n",
       "      <td>1</td>\n",
       "      <td>112</td>\n",
       "      <td>1</td>\n",
       "      <td>3</td>\n",
       "      <td>2</td>\n",
       "      <td>?</td>\n",
       "      <td>?</td>\n",
       "      <td>2</td>\n",
       "    </tr>\n",
       "    <tr>\n",
       "      <td>1</td>\n",
       "      <td>44</td>\n",
       "      <td>1</td>\n",
       "      <td>4</td>\n",
       "      <td>130</td>\n",
       "      <td>209</td>\n",
       "      <td>0</td>\n",
       "      <td>1</td>\n",
       "      <td>127</td>\n",
       "      <td>0</td>\n",
       "      <td>0</td>\n",
       "      <td>?</td>\n",
       "      <td>?</td>\n",
       "      <td>?</td>\n",
       "      <td>0</td>\n",
       "    </tr>\n",
       "    <tr>\n",
       "      <td>2</td>\n",
       "      <td>60</td>\n",
       "      <td>1</td>\n",
       "      <td>4</td>\n",
       "      <td>132</td>\n",
       "      <td>218</td>\n",
       "      <td>0</td>\n",
       "      <td>1</td>\n",
       "      <td>140</td>\n",
       "      <td>1</td>\n",
       "      <td>1.5</td>\n",
       "      <td>3</td>\n",
       "      <td>?</td>\n",
       "      <td>?</td>\n",
       "      <td>2</td>\n",
       "    </tr>\n",
       "    <tr>\n",
       "      <td>3</td>\n",
       "      <td>55</td>\n",
       "      <td>1</td>\n",
       "      <td>4</td>\n",
       "      <td>142</td>\n",
       "      <td>228</td>\n",
       "      <td>0</td>\n",
       "      <td>1</td>\n",
       "      <td>149</td>\n",
       "      <td>1</td>\n",
       "      <td>2.5</td>\n",
       "      <td>1</td>\n",
       "      <td>?</td>\n",
       "      <td>?</td>\n",
       "      <td>1</td>\n",
       "    </tr>\n",
       "    <tr>\n",
       "      <td>4</td>\n",
       "      <td>66</td>\n",
       "      <td>1</td>\n",
       "      <td>3</td>\n",
       "      <td>110</td>\n",
       "      <td>213</td>\n",
       "      <td>1</td>\n",
       "      <td>2</td>\n",
       "      <td>99</td>\n",
       "      <td>1</td>\n",
       "      <td>1.3</td>\n",
       "      <td>2</td>\n",
       "      <td>?</td>\n",
       "      <td>?</td>\n",
       "      <td>0</td>\n",
       "    </tr>\n",
       "  </tbody>\n",
       "</table>\n",
       "</div>"
      ],
      "text/plain": [
       "   Age  sex  cp trestbps chol fbs  restecg thalach exang oldpeak slope ca  \\\n",
       "0   63    1   4      140  260   0        1     112     1       3     2  ?   \n",
       "1   44    1   4      130  209   0        1     127     0       0     ?  ?   \n",
       "2   60    1   4      132  218   0        1     140     1     1.5     3  ?   \n",
       "3   55    1   4      142  228   0        1     149     1     2.5     1  ?   \n",
       "4   66    1   3      110  213   1        2      99     1     1.3     2  ?   \n",
       "\n",
       "  thal  Pred  \n",
       "0    ?     2  \n",
       "1    ?     0  \n",
       "2    ?     2  \n",
       "3    ?     1  \n",
       "4    ?     0  "
      ]
     },
     "execution_count": 4,
     "metadata": {},
     "output_type": "execute_result"
    }
   ],
   "source": [
    "df.head()"
   ]
  },
  {
   "cell_type": "code",
   "execution_count": 5,
   "metadata": {},
   "outputs": [
    {
     "data": {
      "text/html": [
       "<div>\n",
       "<style scoped>\n",
       "    .dataframe tbody tr th:only-of-type {\n",
       "        vertical-align: middle;\n",
       "    }\n",
       "\n",
       "    .dataframe tbody tr th {\n",
       "        vertical-align: top;\n",
       "    }\n",
       "\n",
       "    .dataframe thead th {\n",
       "        text-align: right;\n",
       "    }\n",
       "</style>\n",
       "<table border=\"1\" class=\"dataframe\">\n",
       "  <thead>\n",
       "    <tr style=\"text-align: right;\">\n",
       "      <th></th>\n",
       "      <th>Age</th>\n",
       "      <th>sex</th>\n",
       "      <th>cp</th>\n",
       "      <th>trestbps</th>\n",
       "      <th>chol</th>\n",
       "      <th>fbs</th>\n",
       "      <th>restecg</th>\n",
       "      <th>thalach</th>\n",
       "      <th>exang</th>\n",
       "      <th>oldpeak</th>\n",
       "      <th>slope</th>\n",
       "      <th>ca</th>\n",
       "      <th>thal</th>\n",
       "      <th>Pred</th>\n",
       "    </tr>\n",
       "  </thead>\n",
       "  <tbody>\n",
       "    <tr>\n",
       "      <td>195</td>\n",
       "      <td>54</td>\n",
       "      <td>0</td>\n",
       "      <td>4</td>\n",
       "      <td>127</td>\n",
       "      <td>333</td>\n",
       "      <td>1</td>\n",
       "      <td>1</td>\n",
       "      <td>154</td>\n",
       "      <td>0</td>\n",
       "      <td>0</td>\n",
       "      <td>?</td>\n",
       "      <td>?</td>\n",
       "      <td>?</td>\n",
       "      <td>1</td>\n",
       "    </tr>\n",
       "    <tr>\n",
       "      <td>196</td>\n",
       "      <td>62</td>\n",
       "      <td>1</td>\n",
       "      <td>1</td>\n",
       "      <td>?</td>\n",
       "      <td>139</td>\n",
       "      <td>0</td>\n",
       "      <td>1</td>\n",
       "      <td>?</td>\n",
       "      <td>?</td>\n",
       "      <td>?</td>\n",
       "      <td>?</td>\n",
       "      <td>?</td>\n",
       "      <td>?</td>\n",
       "      <td>0</td>\n",
       "    </tr>\n",
       "    <tr>\n",
       "      <td>197</td>\n",
       "      <td>55</td>\n",
       "      <td>1</td>\n",
       "      <td>4</td>\n",
       "      <td>122</td>\n",
       "      <td>223</td>\n",
       "      <td>1</td>\n",
       "      <td>1</td>\n",
       "      <td>100</td>\n",
       "      <td>0</td>\n",
       "      <td>0</td>\n",
       "      <td>?</td>\n",
       "      <td>?</td>\n",
       "      <td>6</td>\n",
       "      <td>2</td>\n",
       "    </tr>\n",
       "    <tr>\n",
       "      <td>198</td>\n",
       "      <td>58</td>\n",
       "      <td>1</td>\n",
       "      <td>4</td>\n",
       "      <td>?</td>\n",
       "      <td>385</td>\n",
       "      <td>1</td>\n",
       "      <td>2</td>\n",
       "      <td>?</td>\n",
       "      <td>?</td>\n",
       "      <td>?</td>\n",
       "      <td>?</td>\n",
       "      <td>?</td>\n",
       "      <td>?</td>\n",
       "      <td>0</td>\n",
       "    </tr>\n",
       "    <tr>\n",
       "      <td>199</td>\n",
       "      <td>62</td>\n",
       "      <td>1</td>\n",
       "      <td>2</td>\n",
       "      <td>120</td>\n",
       "      <td>254</td>\n",
       "      <td>0</td>\n",
       "      <td>2</td>\n",
       "      <td>93</td>\n",
       "      <td>1</td>\n",
       "      <td>0</td>\n",
       "      <td>?</td>\n",
       "      <td>?</td>\n",
       "      <td>?</td>\n",
       "      <td>1</td>\n",
       "    </tr>\n",
       "  </tbody>\n",
       "</table>\n",
       "</div>"
      ],
      "text/plain": [
       "     Age  sex  cp trestbps chol fbs  restecg thalach exang oldpeak slope ca  \\\n",
       "195   54    0   4      127  333   1        1     154     0       0     ?  ?   \n",
       "196   62    1   1        ?  139   0        1       ?     ?       ?     ?  ?   \n",
       "197   55    1   4      122  223   1        1     100     0       0     ?  ?   \n",
       "198   58    1   4        ?  385   1        2       ?     ?       ?     ?  ?   \n",
       "199   62    1   2      120  254   0        2      93     1       0     ?  ?   \n",
       "\n",
       "    thal  Pred  \n",
       "195    ?     1  \n",
       "196    ?     0  \n",
       "197    6     2  \n",
       "198    ?     0  \n",
       "199    ?     1  "
      ]
     },
     "execution_count": 5,
     "metadata": {},
     "output_type": "execute_result"
    }
   ],
   "source": [
    "df.tail()"
   ]
  },
  {
   "cell_type": "code",
   "execution_count": 6,
   "metadata": {},
   "outputs": [
    {
     "data": {
      "text/plain": [
       "Age         0\n",
       "sex         0\n",
       "cp          0\n",
       "trestbps    0\n",
       "chol        0\n",
       "fbs         0\n",
       "restecg     0\n",
       "thalach     0\n",
       "exang       0\n",
       "oldpeak     0\n",
       "slope       0\n",
       "ca          0\n",
       "thal        0\n",
       "Pred        0\n",
       "dtype: int64"
      ]
     },
     "execution_count": 6,
     "metadata": {},
     "output_type": "execute_result"
    }
   ],
   "source": [
    "df.isnull().sum()"
   ]
  },
  {
   "cell_type": "code",
   "execution_count": 57,
   "metadata": {},
   "outputs": [],
   "source": [
    "df['trestbps']=df[['trestbps']].replace('?',0)"
   ]
  },
  {
   "cell_type": "code",
   "execution_count": 58,
   "metadata": {},
   "outputs": [],
   "source": [
    "df['thalach']=df[['thalach']].replace('?',0)"
   ]
  },
  {
   "cell_type": "code",
   "execution_count": 59,
   "metadata": {},
   "outputs": [],
   "source": [
    "df['exang']=df[['exang']].replace('?',0)"
   ]
  },
  {
   "cell_type": "code",
   "execution_count": 60,
   "metadata": {},
   "outputs": [],
   "source": [
    "df['oldpeak']=df[['oldpeak']].replace('?',0)"
   ]
  },
  {
   "cell_type": "code",
   "execution_count": 61,
   "metadata": {},
   "outputs": [],
   "source": [
    "df['slope']=df[['slope']].replace('?',0)"
   ]
  },
  {
   "cell_type": "code",
   "execution_count": 62,
   "metadata": {},
   "outputs": [],
   "source": [
    "df['ca']=df[['ca']].replace('?',0)"
   ]
  },
  {
   "cell_type": "code",
   "execution_count": 63,
   "metadata": {},
   "outputs": [],
   "source": [
    "df['thal']=df[['thal']].replace('?',0)"
   ]
  },
  {
   "cell_type": "code",
   "execution_count": 64,
   "metadata": {},
   "outputs": [],
   "source": [
    "df['Age']=df[['Age']].replace('?',0)"
   ]
  },
  {
   "cell_type": "code",
   "execution_count": 65,
   "metadata": {},
   "outputs": [],
   "source": [
    "df['sex']=df[['sex']].replace('?',0)"
   ]
  },
  {
   "cell_type": "code",
   "execution_count": 66,
   "metadata": {},
   "outputs": [],
   "source": [
    "df['cp']=df[['cp']].replace('?',0)"
   ]
  },
  {
   "cell_type": "code",
   "execution_count": 67,
   "metadata": {},
   "outputs": [],
   "source": [
    "df['chol']=df[['chol']].replace('?',0)"
   ]
  },
  {
   "cell_type": "code",
   "execution_count": 68,
   "metadata": {},
   "outputs": [],
   "source": [
    "df['fbs']=df[['fbs']].replace('?',0)"
   ]
  },
  {
   "cell_type": "code",
   "execution_count": 69,
   "metadata": {},
   "outputs": [],
   "source": [
    "df['restecg']=df[['restecg']].replace('?',0)"
   ]
  },
  {
   "cell_type": "code",
   "execution_count": 70,
   "metadata": {},
   "outputs": [],
   "source": [
    "df['Pred']=df[['Pred']].replace('?',0)"
   ]
  },
  {
   "cell_type": "code",
   "execution_count": 71,
   "metadata": {},
   "outputs": [
    {
     "data": {
      "text/html": [
       "<div>\n",
       "<style scoped>\n",
       "    .dataframe tbody tr th:only-of-type {\n",
       "        vertical-align: middle;\n",
       "    }\n",
       "\n",
       "    .dataframe tbody tr th {\n",
       "        vertical-align: top;\n",
       "    }\n",
       "\n",
       "    .dataframe thead th {\n",
       "        text-align: right;\n",
       "    }\n",
       "</style>\n",
       "<table border=\"1\" class=\"dataframe\">\n",
       "  <thead>\n",
       "    <tr style=\"text-align: right;\">\n",
       "      <th></th>\n",
       "      <th>Age</th>\n",
       "      <th>sex</th>\n",
       "      <th>cp</th>\n",
       "      <th>trestbps</th>\n",
       "      <th>chol</th>\n",
       "      <th>fbs</th>\n",
       "      <th>restecg</th>\n",
       "      <th>thalach</th>\n",
       "      <th>exang</th>\n",
       "      <th>oldpeak</th>\n",
       "      <th>slope</th>\n",
       "      <th>ca</th>\n",
       "      <th>thal</th>\n",
       "      <th>Pred</th>\n",
       "    </tr>\n",
       "  </thead>\n",
       "  <tbody>\n",
       "    <tr>\n",
       "      <td>195</td>\n",
       "      <td>54</td>\n",
       "      <td>0</td>\n",
       "      <td>4</td>\n",
       "      <td>127</td>\n",
       "      <td>333</td>\n",
       "      <td>1</td>\n",
       "      <td>1</td>\n",
       "      <td>154</td>\n",
       "      <td>0</td>\n",
       "      <td>0</td>\n",
       "      <td>0</td>\n",
       "      <td>0</td>\n",
       "      <td>0</td>\n",
       "      <td>1</td>\n",
       "    </tr>\n",
       "    <tr>\n",
       "      <td>196</td>\n",
       "      <td>62</td>\n",
       "      <td>1</td>\n",
       "      <td>1</td>\n",
       "      <td>0</td>\n",
       "      <td>139</td>\n",
       "      <td>0</td>\n",
       "      <td>1</td>\n",
       "      <td>0</td>\n",
       "      <td>0</td>\n",
       "      <td>0</td>\n",
       "      <td>0</td>\n",
       "      <td>0</td>\n",
       "      <td>0</td>\n",
       "      <td>0</td>\n",
       "    </tr>\n",
       "    <tr>\n",
       "      <td>197</td>\n",
       "      <td>55</td>\n",
       "      <td>1</td>\n",
       "      <td>4</td>\n",
       "      <td>122</td>\n",
       "      <td>223</td>\n",
       "      <td>1</td>\n",
       "      <td>1</td>\n",
       "      <td>100</td>\n",
       "      <td>0</td>\n",
       "      <td>0</td>\n",
       "      <td>0</td>\n",
       "      <td>0</td>\n",
       "      <td>6</td>\n",
       "      <td>2</td>\n",
       "    </tr>\n",
       "    <tr>\n",
       "      <td>198</td>\n",
       "      <td>58</td>\n",
       "      <td>1</td>\n",
       "      <td>4</td>\n",
       "      <td>0</td>\n",
       "      <td>385</td>\n",
       "      <td>1</td>\n",
       "      <td>2</td>\n",
       "      <td>0</td>\n",
       "      <td>0</td>\n",
       "      <td>0</td>\n",
       "      <td>0</td>\n",
       "      <td>0</td>\n",
       "      <td>0</td>\n",
       "      <td>0</td>\n",
       "    </tr>\n",
       "    <tr>\n",
       "      <td>199</td>\n",
       "      <td>62</td>\n",
       "      <td>1</td>\n",
       "      <td>2</td>\n",
       "      <td>120</td>\n",
       "      <td>254</td>\n",
       "      <td>0</td>\n",
       "      <td>2</td>\n",
       "      <td>93</td>\n",
       "      <td>1</td>\n",
       "      <td>0</td>\n",
       "      <td>0</td>\n",
       "      <td>0</td>\n",
       "      <td>0</td>\n",
       "      <td>1</td>\n",
       "    </tr>\n",
       "  </tbody>\n",
       "</table>\n",
       "</div>"
      ],
      "text/plain": [
       "     Age  sex  cp trestbps chol fbs  restecg thalach exang oldpeak slope ca  \\\n",
       "195   54    0   4      127  333   1        1     154     0       0     0  0   \n",
       "196   62    1   1        0  139   0        1       0     0       0     0  0   \n",
       "197   55    1   4      122  223   1        1     100     0       0     0  0   \n",
       "198   58    1   4        0  385   1        2       0     0       0     0  0   \n",
       "199   62    1   2      120  254   0        2      93     1       0     0  0   \n",
       "\n",
       "    thal  Pred  \n",
       "195    0     1  \n",
       "196    0     0  \n",
       "197    6     2  \n",
       "198    0     0  \n",
       "199    0     1  "
      ]
     },
     "execution_count": 71,
     "metadata": {},
     "output_type": "execute_result"
    }
   ],
   "source": [
    "df.tail()"
   ]
  },
  {
   "cell_type": "code",
   "execution_count": 30,
   "metadata": {},
   "outputs": [
    {
     "data": {
      "text/plain": [
       "Index(['Age', 'sex', 'cp', 'trestbps', 'chol', 'fbs', 'restecg', 'thalach',\n",
       "       'exang', 'oldpeak', 'slope', 'ca', 'thal', 'Pred'],\n",
       "      dtype='object')"
      ]
     },
     "execution_count": 30,
     "metadata": {},
     "output_type": "execute_result"
    }
   ],
   "source": [
    "df.columns"
   ]
  },
  {
   "cell_type": "code",
   "execution_count": 31,
   "metadata": {},
   "outputs": [
    {
     "data": {
      "text/plain": [
       "Age          int64\n",
       "sex          int64\n",
       "cp           int64\n",
       "trestbps    object\n",
       "chol        object\n",
       "fbs         object\n",
       "restecg      int64\n",
       "thalach     object\n",
       "exang       object\n",
       "oldpeak     object\n",
       "slope       object\n",
       "ca          object\n",
       "thal        object\n",
       "Pred         int64\n",
       "dtype: object"
      ]
     },
     "execution_count": 31,
     "metadata": {},
     "output_type": "execute_result"
    }
   ],
   "source": [
    "df.dtypes"
   ]
  },
  {
   "cell_type": "code",
   "execution_count": 34,
   "metadata": {},
   "outputs": [
    {
     "data": {
      "text/plain": [
       "<matplotlib.axes._subplots.AxesSubplot at 0x1d919ec5988>"
      ]
     },
     "execution_count": 34,
     "metadata": {},
     "output_type": "execute_result"
    },
    {
     "data": {
      "image/png": "[encoded data removed]",
      "text/plain": [
       "<Figure size 432x288 with 1 Axes>"
      ]
     },
     "metadata": {
      "needs_background": "light"
     },
     "output_type": "display_data"
    }
   ],
   "source": [
    "df['Age'].plot.hist()"
   ]
  },
  {
   "cell_type": "code",
   "execution_count": 35,
   "metadata": {},
   "outputs": [
    {
     "data": {
      "text/plain": [
       "<matplotlib.axes._subplots.AxesSubplot at 0x1d91bc2b548>"
      ]
     },
     "execution_count": 35,
     "metadata": {},
     "output_type": "execute_result"
    },
    {
     "data": {
      "image/png": "[encoded data removed]",
      "text/plain": [
       "<Figure size 432x288 with 1 Axes>"
      ]
     },
     "metadata": {
      "needs_background": "light"
     },
     "output_type": "display_data"
    }
   ],
   "source": [
    "df['cp'].plot.hist()"
   ]
  },
  {
   "cell_type": "code",
   "execution_count": 36,
   "metadata": {},
   "outputs": [
    {
     "data": {
      "text/plain": [
       "<matplotlib.axes._subplots.AxesSubplot at 0x1d91bc62b88>"
      ]
     },
     "execution_count": 36,
     "metadata": {},
     "output_type": "execute_result"
    },
    {
     "data": {
      "image/png": "[encoded data removed]",
      "text/plain": [
       "<Figure size 432x288 with 1 Axes>"
      ]
     },
     "metadata": {
      "needs_background": "light"
     },
     "output_type": "display_data"
    }
   ],
   "source": [
    "df['restecg'].plot.hist()"
   ]
  },
  {
   "cell_type": "code",
   "execution_count": 37,
   "metadata": {},
   "outputs": [
    {
     "data": {
      "text/plain": [
       "1    97.0\n",
       "0     3.0\n",
       "Name: sex, dtype: float64"
      ]
     },
     "execution_count": 37,
     "metadata": {},
     "output_type": "execute_result"
    }
   ],
   "source": [
    "df['sex'].value_counts()/len(df['sex'])*100"
   ]
  },
  {
   "cell_type": "code",
   "execution_count": 38,
   "metadata": {},
   "outputs": [
    {
     "data": {
      "text/plain": [
       "0      28.0\n",
       "120     8.0\n",
       "130     7.5\n",
       "140     5.0\n",
       "150     4.5\n",
       "110     4.5\n",
       "160     4.0\n",
       "122     3.0\n",
       "142     2.5\n",
       "126     2.0\n",
       "144     2.0\n",
       "170     2.0\n",
       "124     2.0\n",
       "128     2.0\n",
       "134     2.0\n",
       "136     2.0\n",
       "158     1.5\n",
       "132     1.5\n",
       "112     1.0\n",
       "152     1.0\n",
       "155     1.0\n",
       "116     1.0\n",
       "104     1.0\n",
       "138     1.0\n",
       "125     1.0\n",
       "154     1.0\n",
       "180     1.0\n",
       "100     0.5\n",
       "146     0.5\n",
       "156     0.5\n",
       "0       0.5\n",
       "114     0.5\n",
       "178     0.5\n",
       "190     0.5\n",
       "96      0.5\n",
       "172     0.5\n",
       "118     0.5\n",
       "127     0.5\n",
       "135     0.5\n",
       "102     0.5\n",
       "106     0.5\n",
       "Name: trestbps, dtype: float64"
      ]
     },
     "execution_count": 38,
     "metadata": {},
     "output_type": "execute_result"
    }
   ],
   "source": [
    "df['trestbps'].value_counts()/len(df['trestbps'])*100"
   ]
  },
  {
   "cell_type": "code",
   "execution_count": 39,
   "metadata": {},
   "outputs": [
    {
     "data": {
      "text/plain": [
       "0      24.5\n",
       "?       3.5\n",
       "258     2.0\n",
       "203     2.0\n",
       "220     2.0\n",
       "       ... \n",
       "337     0.5\n",
       "305     0.5\n",
       "384     0.5\n",
       "230     0.5\n",
       "300     0.5\n",
       "Name: chol, Length: 100, dtype: float64"
      ]
     },
     "execution_count": 39,
     "metadata": {},
     "output_type": "execute_result"
    }
   ],
   "source": [
    "df['chol'].value_counts()/len(df['chol'])*100"
   ]
  },
  {
   "cell_type": "code",
   "execution_count": 72,
   "metadata": {},
   "outputs": [],
   "source": [
    "df['chol']=df[['chol']].replace('?',0)"
   ]
  },
  {
   "cell_type": "code",
   "execution_count": 41,
   "metadata": {},
   "outputs": [
    {
     "data": {
      "text/plain": [
       "0      24.5\n",
       "0       3.5\n",
       "258     2.0\n",
       "203     2.0\n",
       "220     2.0\n",
       "       ... \n",
       "305     0.5\n",
       "384     0.5\n",
       "230     0.5\n",
       "458     0.5\n",
       "177     0.5\n",
       "Name: chol, Length: 100, dtype: float64"
      ]
     },
     "execution_count": 41,
     "metadata": {},
     "output_type": "execute_result"
    }
   ],
   "source": [
    "df['chol'].value_counts()/len(df['chol'])*100"
   ]
  },
  {
   "cell_type": "code",
   "execution_count": 42,
   "metadata": {},
   "outputs": [
    {
     "data": {
      "text/plain": [
       "0    62.5\n",
       "1    34.0\n",
       "?     3.5\n",
       "Name: fbs, dtype: float64"
      ]
     },
     "execution_count": 42,
     "metadata": {},
     "output_type": "execute_result"
    }
   ],
   "source": [
    "df['fbs'].value_counts()/len(df['fbs'])*100"
   ]
  },
  {
   "cell_type": "code",
   "execution_count": 73,
   "metadata": {},
   "outputs": [],
   "source": [
    "df['fbs']=df[['fbs']].replace('?',0)"
   ]
  },
  {
   "cell_type": "code",
   "execution_count": 44,
   "metadata": {},
   "outputs": [
    {
     "data": {
      "text/plain": [
       "0    62.5\n",
       "1    34.0\n",
       "0     3.5\n",
       "Name: fbs, dtype: float64"
      ]
     },
     "execution_count": 44,
     "metadata": {},
     "output_type": "execute_result"
    }
   ],
   "source": [
    "df['fbs'].value_counts()/len(df['fbs'])*100"
   ]
  },
  {
   "cell_type": "code",
   "execution_count": 45,
   "metadata": {},
   "outputs": [
    {
     "data": {
      "text/plain": [
       "0      26.5\n",
       "120     6.0\n",
       "140     6.0\n",
       "110     4.0\n",
       "130     3.0\n",
       "112     3.0\n",
       "128     2.0\n",
       "160     2.0\n",
       "105     2.0\n",
       "150     2.0\n",
       "100     2.0\n",
       "118     2.0\n",
       "148     1.5\n",
       "122     1.5\n",
       "106     1.5\n",
       "125     1.5\n",
       "86      1.5\n",
       "102     1.5\n",
       "117     1.5\n",
       "84      1.5\n",
       "108     1.5\n",
       "135     1.5\n",
       "98      1.0\n",
       "165     1.0\n",
       "80      1.0\n",
       "138     1.0\n",
       "180     1.0\n",
       "119     1.0\n",
       "127     1.0\n",
       "96      1.0\n",
       "154     1.0\n",
       "129     1.0\n",
       "111     1.0\n",
       "133     0.5\n",
       "141     0.5\n",
       "69      0.5\n",
       "113     0.5\n",
       "151     0.5\n",
       "124     0.5\n",
       "157     0.5\n",
       "99      0.5\n",
       "144     0.5\n",
       "126     0.5\n",
       "93      0.5\n",
       "132     0.5\n",
       "115     0.5\n",
       "97      0.5\n",
       "159     0.5\n",
       "94      0.5\n",
       "73      0.5\n",
       "161     0.5\n",
       "123     0.5\n",
       "121     0.5\n",
       "145     0.5\n",
       "162     0.5\n",
       "149     0.5\n",
       "88      0.5\n",
       "107     0.5\n",
       "131     0.5\n",
       "155     0.5\n",
       "Name: thalach, dtype: float64"
      ]
     },
     "execution_count": 45,
     "metadata": {},
     "output_type": "execute_result"
    }
   ],
   "source": [
    "df['thalach'].value_counts()/len(df['thalach'])*100"
   ]
  },
  {
   "cell_type": "code",
   "execution_count": 46,
   "metadata": {},
   "outputs": [
    {
     "data": {
      "text/plain": [
       "1    47.5\n",
       "0    26.5\n",
       "0    26.0\n",
       "Name: exang, dtype: float64"
      ]
     },
     "execution_count": 46,
     "metadata": {},
     "output_type": "execute_result"
    }
   ],
   "source": [
    "df['exang'].value_counts()/len(df['exang'])*100"
   ]
  },
  {
   "cell_type": "code",
   "execution_count": 47,
   "metadata": {},
   "outputs": [
    {
     "data": {
      "text/plain": [
       "0       28.0\n",
       "0       20.0\n",
       "2       12.5\n",
       "1.5     10.5\n",
       "1        9.0\n",
       "3        6.5\n",
       "2.5      4.5\n",
       "0.5      3.5\n",
       "4        2.0\n",
       "1.3      1.0\n",
       "-0.5     0.5\n",
       "1.7      0.5\n",
       "0.8      0.5\n",
       "1.6      0.5\n",
       "3.5      0.5\n",
       "Name: oldpeak, dtype: float64"
      ]
     },
     "execution_count": 47,
     "metadata": {},
     "output_type": "execute_result"
    }
   ],
   "source": [
    "df['oldpeak'].value_counts()/len(df['oldpeak'])*100"
   ]
  },
  {
   "cell_type": "code",
   "execution_count": 48,
   "metadata": {},
   "outputs": [
    {
     "data": {
      "text/plain": [
       "0    51.0\n",
       "2    26.5\n",
       "3    14.5\n",
       "1     8.0\n",
       "Name: slope, dtype: float64"
      ]
     },
     "execution_count": 48,
     "metadata": {},
     "output_type": "execute_result"
    }
   ],
   "source": [
    "df['slope'].value_counts()/len(df['slope'])*100"
   ]
  },
  {
   "cell_type": "code",
   "execution_count": 49,
   "metadata": {},
   "outputs": [
    {
     "data": {
      "text/plain": [
       "0    99.0\n",
       "0     1.0\n",
       "Name: ca, dtype: float64"
      ]
     },
     "execution_count": 49,
     "metadata": {},
     "output_type": "execute_result"
    }
   ],
   "source": [
    "df['ca'].value_counts()/len(df['ca'])*100"
   ]
  },
  {
   "cell_type": "code",
   "execution_count": 50,
   "metadata": {},
   "outputs": [
    {
     "data": {
      "text/plain": [
       "0    83.0\n",
       "7    11.0\n",
       "6     4.0\n",
       "3     2.0\n",
       "Name: thal, dtype: float64"
      ]
     },
     "execution_count": 50,
     "metadata": {},
     "output_type": "execute_result"
    }
   ],
   "source": [
    "df['thal'].value_counts()/len(df['thal'])*100"
   ]
  },
  {
   "cell_type": "code",
   "execution_count": 51,
   "metadata": {},
   "outputs": [
    {
     "data": {
      "text/plain": [
       "1    28.0\n",
       "0    25.5\n",
       "3    21.0\n",
       "2    20.5\n",
       "4     5.0\n",
       "Name: Pred, dtype: float64"
      ]
     },
     "execution_count": 51,
     "metadata": {},
     "output_type": "execute_result"
    }
   ],
   "source": [
    "df['Pred'].value_counts()/len(df['Pred'])*100"
   ]
  },
  {
   "cell_type": "code",
   "execution_count": 53,
   "metadata": {},
   "outputs": [
    {
     "data": {
      "text/html": [
       "<div>\n",
       "<style scoped>\n",
       "    .dataframe tbody tr th:only-of-type {\n",
       "        vertical-align: middle;\n",
       "    }\n",
       "\n",
       "    .dataframe tbody tr th {\n",
       "        vertical-align: top;\n",
       "    }\n",
       "\n",
       "    .dataframe thead th {\n",
       "        text-align: right;\n",
       "    }\n",
       "</style>\n",
       "<table border=\"1\" class=\"dataframe\">\n",
       "  <thead>\n",
       "    <tr style=\"text-align: right;\">\n",
       "      <th>Pred</th>\n",
       "      <th>0</th>\n",
       "      <th>1</th>\n",
       "      <th>2</th>\n",
       "      <th>3</th>\n",
       "      <th>4</th>\n",
       "    </tr>\n",
       "    <tr>\n",
       "      <th>sex</th>\n",
       "      <th></th>\n",
       "      <th></th>\n",
       "      <th></th>\n",
       "      <th></th>\n",
       "      <th></th>\n",
       "    </tr>\n",
       "  </thead>\n",
       "  <tbody>\n",
       "    <tr>\n",
       "      <td>0</td>\n",
       "      <td>3</td>\n",
       "      <td>3</td>\n",
       "      <td>0</td>\n",
       "      <td>0</td>\n",
       "      <td>0</td>\n",
       "    </tr>\n",
       "    <tr>\n",
       "      <td>1</td>\n",
       "      <td>48</td>\n",
       "      <td>53</td>\n",
       "      <td>41</td>\n",
       "      <td>42</td>\n",
       "      <td>10</td>\n",
       "    </tr>\n",
       "  </tbody>\n",
       "</table>\n",
       "</div>"
      ],
      "text/plain": [
       "Pred   0   1   2   3   4\n",
       "sex                     \n",
       "0      3   3   0   0   0\n",
       "1     48  53  41  42  10"
      ]
     },
     "execution_count": 53,
     "metadata": {},
     "output_type": "execute_result"
    }
   ],
   "source": [
    "#Categorical-Categorical Bivariate Analysis\n",
    "\n",
    "pd.crosstab(df['sex'],df['Pred'])"
   ]
  },
  {
   "cell_type": "code",
   "execution_count": 54,
   "metadata": {},
   "outputs": [
    {
     "data": {
      "text/html": [
       "<div>\n",
       "<style scoped>\n",
       "    .dataframe tbody tr th:only-of-type {\n",
       "        vertical-align: middle;\n",
       "    }\n",
       "\n",
       "    .dataframe tbody tr th {\n",
       "        vertical-align: top;\n",
       "    }\n",
       "\n",
       "    .dataframe thead th {\n",
       "        text-align: right;\n",
       "    }\n",
       "</style>\n",
       "<table border=\"1\" class=\"dataframe\">\n",
       "  <thead>\n",
       "    <tr style=\"text-align: right;\">\n",
       "      <th>Pred</th>\n",
       "      <th>0</th>\n",
       "      <th>1</th>\n",
       "      <th>2</th>\n",
       "      <th>3</th>\n",
       "      <th>4</th>\n",
       "    </tr>\n",
       "    <tr>\n",
       "      <th>trestbps</th>\n",
       "      <th></th>\n",
       "      <th></th>\n",
       "      <th></th>\n",
       "      <th></th>\n",
       "      <th></th>\n",
       "    </tr>\n",
       "  </thead>\n",
       "  <tbody>\n",
       "    <tr>\n",
       "      <td>0</td>\n",
       "      <td>19</td>\n",
       "      <td>13</td>\n",
       "      <td>8</td>\n",
       "      <td>13</td>\n",
       "      <td>3</td>\n",
       "    </tr>\n",
       "    <tr>\n",
       "      <td>0</td>\n",
       "      <td>0</td>\n",
       "      <td>0</td>\n",
       "      <td>0</td>\n",
       "      <td>1</td>\n",
       "      <td>0</td>\n",
       "    </tr>\n",
       "    <tr>\n",
       "      <td>100</td>\n",
       "      <td>1</td>\n",
       "      <td>0</td>\n",
       "      <td>0</td>\n",
       "      <td>0</td>\n",
       "      <td>0</td>\n",
       "    </tr>\n",
       "    <tr>\n",
       "      <td>102</td>\n",
       "      <td>0</td>\n",
       "      <td>1</td>\n",
       "      <td>0</td>\n",
       "      <td>0</td>\n",
       "      <td>0</td>\n",
       "    </tr>\n",
       "    <tr>\n",
       "      <td>104</td>\n",
       "      <td>1</td>\n",
       "      <td>0</td>\n",
       "      <td>0</td>\n",
       "      <td>0</td>\n",
       "      <td>1</td>\n",
       "    </tr>\n",
       "    <tr>\n",
       "      <td>106</td>\n",
       "      <td>1</td>\n",
       "      <td>0</td>\n",
       "      <td>0</td>\n",
       "      <td>0</td>\n",
       "      <td>0</td>\n",
       "    </tr>\n",
       "    <tr>\n",
       "      <td>110</td>\n",
       "      <td>3</td>\n",
       "      <td>4</td>\n",
       "      <td>2</td>\n",
       "      <td>0</td>\n",
       "      <td>0</td>\n",
       "    </tr>\n",
       "    <tr>\n",
       "      <td>112</td>\n",
       "      <td>0</td>\n",
       "      <td>2</td>\n",
       "      <td>0</td>\n",
       "      <td>0</td>\n",
       "      <td>0</td>\n",
       "    </tr>\n",
       "    <tr>\n",
       "      <td>114</td>\n",
       "      <td>1</td>\n",
       "      <td>0</td>\n",
       "      <td>0</td>\n",
       "      <td>0</td>\n",
       "      <td>0</td>\n",
       "    </tr>\n",
       "    <tr>\n",
       "      <td>116</td>\n",
       "      <td>0</td>\n",
       "      <td>0</td>\n",
       "      <td>2</td>\n",
       "      <td>0</td>\n",
       "      <td>0</td>\n",
       "    </tr>\n",
       "    <tr>\n",
       "      <td>118</td>\n",
       "      <td>1</td>\n",
       "      <td>0</td>\n",
       "      <td>0</td>\n",
       "      <td>0</td>\n",
       "      <td>0</td>\n",
       "    </tr>\n",
       "    <tr>\n",
       "      <td>120</td>\n",
       "      <td>4</td>\n",
       "      <td>6</td>\n",
       "      <td>0</td>\n",
       "      <td>6</td>\n",
       "      <td>0</td>\n",
       "    </tr>\n",
       "    <tr>\n",
       "      <td>122</td>\n",
       "      <td>0</td>\n",
       "      <td>3</td>\n",
       "      <td>3</td>\n",
       "      <td>0</td>\n",
       "      <td>0</td>\n",
       "    </tr>\n",
       "    <tr>\n",
       "      <td>124</td>\n",
       "      <td>1</td>\n",
       "      <td>2</td>\n",
       "      <td>0</td>\n",
       "      <td>1</td>\n",
       "      <td>0</td>\n",
       "    </tr>\n",
       "    <tr>\n",
       "      <td>125</td>\n",
       "      <td>0</td>\n",
       "      <td>1</td>\n",
       "      <td>0</td>\n",
       "      <td>1</td>\n",
       "      <td>0</td>\n",
       "    </tr>\n",
       "    <tr>\n",
       "      <td>126</td>\n",
       "      <td>2</td>\n",
       "      <td>1</td>\n",
       "      <td>1</td>\n",
       "      <td>0</td>\n",
       "      <td>0</td>\n",
       "    </tr>\n",
       "    <tr>\n",
       "      <td>127</td>\n",
       "      <td>0</td>\n",
       "      <td>1</td>\n",
       "      <td>0</td>\n",
       "      <td>0</td>\n",
       "      <td>0</td>\n",
       "    </tr>\n",
       "    <tr>\n",
       "      <td>128</td>\n",
       "      <td>1</td>\n",
       "      <td>1</td>\n",
       "      <td>2</td>\n",
       "      <td>0</td>\n",
       "      <td>0</td>\n",
       "    </tr>\n",
       "    <tr>\n",
       "      <td>130</td>\n",
       "      <td>4</td>\n",
       "      <td>5</td>\n",
       "      <td>4</td>\n",
       "      <td>2</td>\n",
       "      <td>0</td>\n",
       "    </tr>\n",
       "    <tr>\n",
       "      <td>132</td>\n",
       "      <td>1</td>\n",
       "      <td>1</td>\n",
       "      <td>1</td>\n",
       "      <td>0</td>\n",
       "      <td>0</td>\n",
       "    </tr>\n",
       "    <tr>\n",
       "      <td>134</td>\n",
       "      <td>2</td>\n",
       "      <td>0</td>\n",
       "      <td>1</td>\n",
       "      <td>0</td>\n",
       "      <td>1</td>\n",
       "    </tr>\n",
       "    <tr>\n",
       "      <td>135</td>\n",
       "      <td>0</td>\n",
       "      <td>0</td>\n",
       "      <td>1</td>\n",
       "      <td>0</td>\n",
       "      <td>0</td>\n",
       "    </tr>\n",
       "    <tr>\n",
       "      <td>136</td>\n",
       "      <td>0</td>\n",
       "      <td>0</td>\n",
       "      <td>1</td>\n",
       "      <td>2</td>\n",
       "      <td>1</td>\n",
       "    </tr>\n",
       "    <tr>\n",
       "      <td>138</td>\n",
       "      <td>0</td>\n",
       "      <td>1</td>\n",
       "      <td>1</td>\n",
       "      <td>0</td>\n",
       "      <td>0</td>\n",
       "    </tr>\n",
       "    <tr>\n",
       "      <td>140</td>\n",
       "      <td>2</td>\n",
       "      <td>2</td>\n",
       "      <td>3</td>\n",
       "      <td>3</td>\n",
       "      <td>0</td>\n",
       "    </tr>\n",
       "    <tr>\n",
       "      <td>142</td>\n",
       "      <td>0</td>\n",
       "      <td>2</td>\n",
       "      <td>1</td>\n",
       "      <td>2</td>\n",
       "      <td>0</td>\n",
       "    </tr>\n",
       "    <tr>\n",
       "      <td>144</td>\n",
       "      <td>0</td>\n",
       "      <td>1</td>\n",
       "      <td>0</td>\n",
       "      <td>3</td>\n",
       "      <td>0</td>\n",
       "    </tr>\n",
       "    <tr>\n",
       "      <td>146</td>\n",
       "      <td>0</td>\n",
       "      <td>0</td>\n",
       "      <td>1</td>\n",
       "      <td>0</td>\n",
       "      <td>0</td>\n",
       "    </tr>\n",
       "    <tr>\n",
       "      <td>150</td>\n",
       "      <td>2</td>\n",
       "      <td>1</td>\n",
       "      <td>3</td>\n",
       "      <td>3</td>\n",
       "      <td>0</td>\n",
       "    </tr>\n",
       "    <tr>\n",
       "      <td>152</td>\n",
       "      <td>1</td>\n",
       "      <td>0</td>\n",
       "      <td>1</td>\n",
       "      <td>0</td>\n",
       "      <td>0</td>\n",
       "    </tr>\n",
       "    <tr>\n",
       "      <td>154</td>\n",
       "      <td>1</td>\n",
       "      <td>0</td>\n",
       "      <td>1</td>\n",
       "      <td>0</td>\n",
       "      <td>0</td>\n",
       "    </tr>\n",
       "    <tr>\n",
       "      <td>155</td>\n",
       "      <td>1</td>\n",
       "      <td>0</td>\n",
       "      <td>1</td>\n",
       "      <td>0</td>\n",
       "      <td>0</td>\n",
       "    </tr>\n",
       "    <tr>\n",
       "      <td>156</td>\n",
       "      <td>0</td>\n",
       "      <td>0</td>\n",
       "      <td>0</td>\n",
       "      <td>1</td>\n",
       "      <td>0</td>\n",
       "    </tr>\n",
       "    <tr>\n",
       "      <td>158</td>\n",
       "      <td>0</td>\n",
       "      <td>3</td>\n",
       "      <td>0</td>\n",
       "      <td>0</td>\n",
       "      <td>0</td>\n",
       "    </tr>\n",
       "    <tr>\n",
       "      <td>160</td>\n",
       "      <td>1</td>\n",
       "      <td>1</td>\n",
       "      <td>2</td>\n",
       "      <td>3</td>\n",
       "      <td>1</td>\n",
       "    </tr>\n",
       "    <tr>\n",
       "      <td>170</td>\n",
       "      <td>0</td>\n",
       "      <td>1</td>\n",
       "      <td>1</td>\n",
       "      <td>0</td>\n",
       "      <td>2</td>\n",
       "    </tr>\n",
       "    <tr>\n",
       "      <td>172</td>\n",
       "      <td>0</td>\n",
       "      <td>0</td>\n",
       "      <td>0</td>\n",
       "      <td>1</td>\n",
       "      <td>0</td>\n",
       "    </tr>\n",
       "    <tr>\n",
       "      <td>178</td>\n",
       "      <td>0</td>\n",
       "      <td>1</td>\n",
       "      <td>0</td>\n",
       "      <td>0</td>\n",
       "      <td>0</td>\n",
       "    </tr>\n",
       "    <tr>\n",
       "      <td>180</td>\n",
       "      <td>1</td>\n",
       "      <td>1</td>\n",
       "      <td>0</td>\n",
       "      <td>0</td>\n",
       "      <td>0</td>\n",
       "    </tr>\n",
       "    <tr>\n",
       "      <td>190</td>\n",
       "      <td>0</td>\n",
       "      <td>0</td>\n",
       "      <td>0</td>\n",
       "      <td>0</td>\n",
       "      <td>1</td>\n",
       "    </tr>\n",
       "    <tr>\n",
       "      <td>96</td>\n",
       "      <td>0</td>\n",
       "      <td>1</td>\n",
       "      <td>0</td>\n",
       "      <td>0</td>\n",
       "      <td>0</td>\n",
       "    </tr>\n",
       "  </tbody>\n",
       "</table>\n",
       "</div>"
      ],
      "text/plain": [
       "Pred       0   1  2   3  4\n",
       "trestbps                  \n",
       "0         19  13  8  13  3\n",
       "0          0   0  0   1  0\n",
       "100        1   0  0   0  0\n",
       "102        0   1  0   0  0\n",
       "104        1   0  0   0  1\n",
       "106        1   0  0   0  0\n",
       "110        3   4  2   0  0\n",
       "112        0   2  0   0  0\n",
       "114        1   0  0   0  0\n",
       "116        0   0  2   0  0\n",
       "118        1   0  0   0  0\n",
       "120        4   6  0   6  0\n",
       "122        0   3  3   0  0\n",
       "124        1   2  0   1  0\n",
       "125        0   1  0   1  0\n",
       "126        2   1  1   0  0\n",
       "127        0   1  0   0  0\n",
       "128        1   1  2   0  0\n",
       "130        4   5  4   2  0\n",
       "132        1   1  1   0  0\n",
       "134        2   0  1   0  1\n",
       "135        0   0  1   0  0\n",
       "136        0   0  1   2  1\n",
       "138        0   1  1   0  0\n",
       "140        2   2  3   3  0\n",
       "142        0   2  1   2  0\n",
       "144        0   1  0   3  0\n",
       "146        0   0  1   0  0\n",
       "150        2   1  3   3  0\n",
       "152        1   0  1   0  0\n",
       "154        1   0  1   0  0\n",
       "155        1   0  1   0  0\n",
       "156        0   0  0   1  0\n",
       "158        0   3  0   0  0\n",
       "160        1   1  2   3  1\n",
       "170        0   1  1   0  2\n",
       "172        0   0  0   1  0\n",
       "178        0   1  0   0  0\n",
       "180        1   1  0   0  0\n",
       "190        0   0  0   0  1\n",
       "96         0   1  0   0  0"
      ]
     },
     "execution_count": 54,
     "metadata": {},
     "output_type": "execute_result"
    }
   ],
   "source": [
    "pd.crosstab(df['trestbps'],df['Pred'])"
   ]
  },
  {
   "cell_type": "code",
   "execution_count": 55,
   "metadata": {},
   "outputs": [
    {
     "data": {
      "text/html": [
       "<div>\n",
       "<style scoped>\n",
       "    .dataframe tbody tr th:only-of-type {\n",
       "        vertical-align: middle;\n",
       "    }\n",
       "\n",
       "    .dataframe tbody tr th {\n",
       "        vertical-align: top;\n",
       "    }\n",
       "\n",
       "    .dataframe thead th {\n",
       "        text-align: right;\n",
       "    }\n",
       "</style>\n",
       "<table border=\"1\" class=\"dataframe\">\n",
       "  <thead>\n",
       "    <tr style=\"text-align: right;\">\n",
       "      <th>Pred</th>\n",
       "      <th>0</th>\n",
       "      <th>1</th>\n",
       "      <th>2</th>\n",
       "      <th>3</th>\n",
       "      <th>4</th>\n",
       "    </tr>\n",
       "    <tr>\n",
       "      <th>chol</th>\n",
       "      <th></th>\n",
       "      <th></th>\n",
       "      <th></th>\n",
       "      <th></th>\n",
       "      <th></th>\n",
       "    </tr>\n",
       "  </thead>\n",
       "  <tbody>\n",
       "    <tr>\n",
       "      <td>0</td>\n",
       "      <td>1</td>\n",
       "      <td>2</td>\n",
       "      <td>2</td>\n",
       "      <td>1</td>\n",
       "      <td>1</td>\n",
       "    </tr>\n",
       "    <tr>\n",
       "      <td>0</td>\n",
       "      <td>12</td>\n",
       "      <td>14</td>\n",
       "      <td>14</td>\n",
       "      <td>8</td>\n",
       "      <td>1</td>\n",
       "    </tr>\n",
       "    <tr>\n",
       "      <td>100</td>\n",
       "      <td>0</td>\n",
       "      <td>1</td>\n",
       "      <td>0</td>\n",
       "      <td>0</td>\n",
       "      <td>0</td>\n",
       "    </tr>\n",
       "    <tr>\n",
       "      <td>139</td>\n",
       "      <td>1</td>\n",
       "      <td>0</td>\n",
       "      <td>0</td>\n",
       "      <td>0</td>\n",
       "      <td>0</td>\n",
       "    </tr>\n",
       "    <tr>\n",
       "      <td>142</td>\n",
       "      <td>0</td>\n",
       "      <td>0</td>\n",
       "      <td>0</td>\n",
       "      <td>1</td>\n",
       "      <td>0</td>\n",
       "    </tr>\n",
       "    <tr>\n",
       "      <td>...</td>\n",
       "      <td>...</td>\n",
       "      <td>...</td>\n",
       "      <td>...</td>\n",
       "      <td>...</td>\n",
       "      <td>...</td>\n",
       "    </tr>\n",
       "    <tr>\n",
       "      <td>349</td>\n",
       "      <td>0</td>\n",
       "      <td>1</td>\n",
       "      <td>0</td>\n",
       "      <td>0</td>\n",
       "      <td>0</td>\n",
       "    </tr>\n",
       "    <tr>\n",
       "      <td>369</td>\n",
       "      <td>0</td>\n",
       "      <td>0</td>\n",
       "      <td>0</td>\n",
       "      <td>1</td>\n",
       "      <td>0</td>\n",
       "    </tr>\n",
       "    <tr>\n",
       "      <td>384</td>\n",
       "      <td>0</td>\n",
       "      <td>0</td>\n",
       "      <td>1</td>\n",
       "      <td>0</td>\n",
       "      <td>0</td>\n",
       "    </tr>\n",
       "    <tr>\n",
       "      <td>385</td>\n",
       "      <td>1</td>\n",
       "      <td>0</td>\n",
       "      <td>0</td>\n",
       "      <td>0</td>\n",
       "      <td>0</td>\n",
       "    </tr>\n",
       "    <tr>\n",
       "      <td>458</td>\n",
       "      <td>1</td>\n",
       "      <td>0</td>\n",
       "      <td>0</td>\n",
       "      <td>0</td>\n",
       "      <td>0</td>\n",
       "    </tr>\n",
       "  </tbody>\n",
       "</table>\n",
       "<p>100 rows × 5 columns</p>\n",
       "</div>"
      ],
      "text/plain": [
       "Pred   0   1   2  3  4\n",
       "chol                  \n",
       "0      1   2   2  1  1\n",
       "0     12  14  14  8  1\n",
       "100    0   1   0  0  0\n",
       "139    1   0   0  0  0\n",
       "142    0   0   0  1  0\n",
       "...   ..  ..  .. .. ..\n",
       "349    0   1   0  0  0\n",
       "369    0   0   0  1  0\n",
       "384    0   0   1  0  0\n",
       "385    1   0   0  0  0\n",
       "458    1   0   0  0  0\n",
       "\n",
       "[100 rows x 5 columns]"
      ]
     },
     "execution_count": 55,
     "metadata": {},
     "output_type": "execute_result"
    }
   ],
   "source": [
    "pd.crosstab(df['chol'],df['Pred'])"
   ]
  },
  {
   "cell_type": "code",
   "execution_count": 58,
   "metadata": {},
   "outputs": [
    {
     "data": {
      "text/html": [
       "<div>\n",
       "<style scoped>\n",
       "    .dataframe tbody tr th:only-of-type {\n",
       "        vertical-align: middle;\n",
       "    }\n",
       "\n",
       "    .dataframe tbody tr th {\n",
       "        vertical-align: top;\n",
       "    }\n",
       "\n",
       "    .dataframe thead th {\n",
       "        text-align: right;\n",
       "    }\n",
       "</style>\n",
       "<table border=\"1\" class=\"dataframe\">\n",
       "  <thead>\n",
       "    <tr style=\"text-align: right;\">\n",
       "      <th>Pred</th>\n",
       "      <th>0</th>\n",
       "      <th>1</th>\n",
       "      <th>2</th>\n",
       "      <th>3</th>\n",
       "      <th>4</th>\n",
       "    </tr>\n",
       "    <tr>\n",
       "      <th>fbs</th>\n",
       "      <th></th>\n",
       "      <th></th>\n",
       "      <th></th>\n",
       "      <th></th>\n",
       "      <th></th>\n",
       "    </tr>\n",
       "  </thead>\n",
       "  <tbody>\n",
       "    <tr>\n",
       "      <td>0</td>\n",
       "      <td>1</td>\n",
       "      <td>2</td>\n",
       "      <td>3</td>\n",
       "      <td>1</td>\n",
       "      <td>0</td>\n",
       "    </tr>\n",
       "    <tr>\n",
       "      <td>0</td>\n",
       "      <td>36</td>\n",
       "      <td>32</td>\n",
       "      <td>25</td>\n",
       "      <td>26</td>\n",
       "      <td>6</td>\n",
       "    </tr>\n",
       "    <tr>\n",
       "      <td>1</td>\n",
       "      <td>14</td>\n",
       "      <td>22</td>\n",
       "      <td>13</td>\n",
       "      <td>15</td>\n",
       "      <td>4</td>\n",
       "    </tr>\n",
       "  </tbody>\n",
       "</table>\n",
       "</div>"
      ],
      "text/plain": [
       "Pred   0   1   2   3  4\n",
       "fbs                    \n",
       "0      1   2   3   1  0\n",
       "0     36  32  25  26  6\n",
       "1     14  22  13  15  4"
      ]
     },
     "execution_count": 58,
     "metadata": {},
     "output_type": "execute_result"
    }
   ],
   "source": [
    "pd.crosstab(df['fbs'],df['Pred'])"
   ]
  },
  {
   "cell_type": "code",
   "execution_count": 59,
   "metadata": {},
   "outputs": [
    {
     "data": {
      "text/html": [
       "<div>\n",
       "<style scoped>\n",
       "    .dataframe tbody tr th:only-of-type {\n",
       "        vertical-align: middle;\n",
       "    }\n",
       "\n",
       "    .dataframe tbody tr th {\n",
       "        vertical-align: top;\n",
       "    }\n",
       "\n",
       "    .dataframe thead th {\n",
       "        text-align: right;\n",
       "    }\n",
       "</style>\n",
       "<table border=\"1\" class=\"dataframe\">\n",
       "  <thead>\n",
       "    <tr style=\"text-align: right;\">\n",
       "      <th>Pred</th>\n",
       "      <th>0</th>\n",
       "      <th>1</th>\n",
       "      <th>2</th>\n",
       "      <th>3</th>\n",
       "      <th>4</th>\n",
       "    </tr>\n",
       "    <tr>\n",
       "      <th>thalach</th>\n",
       "      <th></th>\n",
       "      <th></th>\n",
       "      <th></th>\n",
       "      <th></th>\n",
       "      <th></th>\n",
       "    </tr>\n",
       "  </thead>\n",
       "  <tbody>\n",
       "    <tr>\n",
       "      <td>0</td>\n",
       "      <td>19</td>\n",
       "      <td>13</td>\n",
       "      <td>7</td>\n",
       "      <td>12</td>\n",
       "      <td>2</td>\n",
       "    </tr>\n",
       "    <tr>\n",
       "      <td>100</td>\n",
       "      <td>1</td>\n",
       "      <td>1</td>\n",
       "      <td>1</td>\n",
       "      <td>1</td>\n",
       "      <td>0</td>\n",
       "    </tr>\n",
       "    <tr>\n",
       "      <td>102</td>\n",
       "      <td>0</td>\n",
       "      <td>0</td>\n",
       "      <td>1</td>\n",
       "      <td>1</td>\n",
       "      <td>1</td>\n",
       "    </tr>\n",
       "    <tr>\n",
       "      <td>105</td>\n",
       "      <td>0</td>\n",
       "      <td>2</td>\n",
       "      <td>0</td>\n",
       "      <td>2</td>\n",
       "      <td>0</td>\n",
       "    </tr>\n",
       "    <tr>\n",
       "      <td>106</td>\n",
       "      <td>0</td>\n",
       "      <td>3</td>\n",
       "      <td>0</td>\n",
       "      <td>0</td>\n",
       "      <td>0</td>\n",
       "    </tr>\n",
       "    <tr>\n",
       "      <td>107</td>\n",
       "      <td>1</td>\n",
       "      <td>0</td>\n",
       "      <td>0</td>\n",
       "      <td>0</td>\n",
       "      <td>0</td>\n",
       "    </tr>\n",
       "    <tr>\n",
       "      <td>108</td>\n",
       "      <td>0</td>\n",
       "      <td>1</td>\n",
       "      <td>1</td>\n",
       "      <td>0</td>\n",
       "      <td>1</td>\n",
       "    </tr>\n",
       "    <tr>\n",
       "      <td>110</td>\n",
       "      <td>1</td>\n",
       "      <td>3</td>\n",
       "      <td>3</td>\n",
       "      <td>1</td>\n",
       "      <td>0</td>\n",
       "    </tr>\n",
       "    <tr>\n",
       "      <td>111</td>\n",
       "      <td>1</td>\n",
       "      <td>0</td>\n",
       "      <td>0</td>\n",
       "      <td>1</td>\n",
       "      <td>0</td>\n",
       "    </tr>\n",
       "    <tr>\n",
       "      <td>112</td>\n",
       "      <td>1</td>\n",
       "      <td>2</td>\n",
       "      <td>2</td>\n",
       "      <td>1</td>\n",
       "      <td>0</td>\n",
       "    </tr>\n",
       "    <tr>\n",
       "      <td>113</td>\n",
       "      <td>0</td>\n",
       "      <td>0</td>\n",
       "      <td>0</td>\n",
       "      <td>1</td>\n",
       "      <td>0</td>\n",
       "    </tr>\n",
       "    <tr>\n",
       "      <td>115</td>\n",
       "      <td>0</td>\n",
       "      <td>0</td>\n",
       "      <td>0</td>\n",
       "      <td>1</td>\n",
       "      <td>0</td>\n",
       "    </tr>\n",
       "    <tr>\n",
       "      <td>117</td>\n",
       "      <td>0</td>\n",
       "      <td>3</td>\n",
       "      <td>0</td>\n",
       "      <td>0</td>\n",
       "      <td>0</td>\n",
       "    </tr>\n",
       "    <tr>\n",
       "      <td>118</td>\n",
       "      <td>1</td>\n",
       "      <td>0</td>\n",
       "      <td>3</td>\n",
       "      <td>0</td>\n",
       "      <td>0</td>\n",
       "    </tr>\n",
       "    <tr>\n",
       "      <td>119</td>\n",
       "      <td>0</td>\n",
       "      <td>0</td>\n",
       "      <td>1</td>\n",
       "      <td>1</td>\n",
       "      <td>0</td>\n",
       "    </tr>\n",
       "    <tr>\n",
       "      <td>120</td>\n",
       "      <td>3</td>\n",
       "      <td>6</td>\n",
       "      <td>0</td>\n",
       "      <td>1</td>\n",
       "      <td>2</td>\n",
       "    </tr>\n",
       "    <tr>\n",
       "      <td>121</td>\n",
       "      <td>0</td>\n",
       "      <td>1</td>\n",
       "      <td>0</td>\n",
       "      <td>0</td>\n",
       "      <td>0</td>\n",
       "    </tr>\n",
       "    <tr>\n",
       "      <td>122</td>\n",
       "      <td>0</td>\n",
       "      <td>1</td>\n",
       "      <td>0</td>\n",
       "      <td>2</td>\n",
       "      <td>0</td>\n",
       "    </tr>\n",
       "    <tr>\n",
       "      <td>123</td>\n",
       "      <td>0</td>\n",
       "      <td>0</td>\n",
       "      <td>0</td>\n",
       "      <td>0</td>\n",
       "      <td>1</td>\n",
       "    </tr>\n",
       "    <tr>\n",
       "      <td>124</td>\n",
       "      <td>0</td>\n",
       "      <td>0</td>\n",
       "      <td>1</td>\n",
       "      <td>0</td>\n",
       "      <td>0</td>\n",
       "    </tr>\n",
       "    <tr>\n",
       "      <td>125</td>\n",
       "      <td>0</td>\n",
       "      <td>2</td>\n",
       "      <td>0</td>\n",
       "      <td>1</td>\n",
       "      <td>0</td>\n",
       "    </tr>\n",
       "    <tr>\n",
       "      <td>126</td>\n",
       "      <td>0</td>\n",
       "      <td>0</td>\n",
       "      <td>1</td>\n",
       "      <td>0</td>\n",
       "      <td>0</td>\n",
       "    </tr>\n",
       "    <tr>\n",
       "      <td>127</td>\n",
       "      <td>1</td>\n",
       "      <td>1</td>\n",
       "      <td>0</td>\n",
       "      <td>0</td>\n",
       "      <td>0</td>\n",
       "    </tr>\n",
       "    <tr>\n",
       "      <td>128</td>\n",
       "      <td>2</td>\n",
       "      <td>0</td>\n",
       "      <td>1</td>\n",
       "      <td>1</td>\n",
       "      <td>0</td>\n",
       "    </tr>\n",
       "    <tr>\n",
       "      <td>129</td>\n",
       "      <td>0</td>\n",
       "      <td>0</td>\n",
       "      <td>2</td>\n",
       "      <td>0</td>\n",
       "      <td>0</td>\n",
       "    </tr>\n",
       "    <tr>\n",
       "      <td>130</td>\n",
       "      <td>0</td>\n",
       "      <td>0</td>\n",
       "      <td>5</td>\n",
       "      <td>1</td>\n",
       "      <td>0</td>\n",
       "    </tr>\n",
       "    <tr>\n",
       "      <td>131</td>\n",
       "      <td>1</td>\n",
       "      <td>0</td>\n",
       "      <td>0</td>\n",
       "      <td>0</td>\n",
       "      <td>0</td>\n",
       "    </tr>\n",
       "    <tr>\n",
       "      <td>132</td>\n",
       "      <td>0</td>\n",
       "      <td>1</td>\n",
       "      <td>0</td>\n",
       "      <td>0</td>\n",
       "      <td>0</td>\n",
       "    </tr>\n",
       "    <tr>\n",
       "      <td>133</td>\n",
       "      <td>1</td>\n",
       "      <td>0</td>\n",
       "      <td>0</td>\n",
       "      <td>0</td>\n",
       "      <td>0</td>\n",
       "    </tr>\n",
       "    <tr>\n",
       "      <td>135</td>\n",
       "      <td>0</td>\n",
       "      <td>0</td>\n",
       "      <td>1</td>\n",
       "      <td>2</td>\n",
       "      <td>0</td>\n",
       "    </tr>\n",
       "    <tr>\n",
       "      <td>138</td>\n",
       "      <td>0</td>\n",
       "      <td>1</td>\n",
       "      <td>1</td>\n",
       "      <td>0</td>\n",
       "      <td>0</td>\n",
       "    </tr>\n",
       "    <tr>\n",
       "      <td>140</td>\n",
       "      <td>2</td>\n",
       "      <td>4</td>\n",
       "      <td>3</td>\n",
       "      <td>2</td>\n",
       "      <td>1</td>\n",
       "    </tr>\n",
       "    <tr>\n",
       "      <td>141</td>\n",
       "      <td>0</td>\n",
       "      <td>0</td>\n",
       "      <td>0</td>\n",
       "      <td>1</td>\n",
       "      <td>0</td>\n",
       "    </tr>\n",
       "    <tr>\n",
       "      <td>144</td>\n",
       "      <td>0</td>\n",
       "      <td>0</td>\n",
       "      <td>1</td>\n",
       "      <td>0</td>\n",
       "      <td>0</td>\n",
       "    </tr>\n",
       "    <tr>\n",
       "      <td>145</td>\n",
       "      <td>0</td>\n",
       "      <td>0</td>\n",
       "      <td>1</td>\n",
       "      <td>0</td>\n",
       "      <td>0</td>\n",
       "    </tr>\n",
       "    <tr>\n",
       "      <td>148</td>\n",
       "      <td>0</td>\n",
       "      <td>2</td>\n",
       "      <td>1</td>\n",
       "      <td>0</td>\n",
       "      <td>0</td>\n",
       "    </tr>\n",
       "    <tr>\n",
       "      <td>149</td>\n",
       "      <td>0</td>\n",
       "      <td>1</td>\n",
       "      <td>0</td>\n",
       "      <td>0</td>\n",
       "      <td>0</td>\n",
       "    </tr>\n",
       "    <tr>\n",
       "      <td>150</td>\n",
       "      <td>1</td>\n",
       "      <td>1</td>\n",
       "      <td>0</td>\n",
       "      <td>1</td>\n",
       "      <td>1</td>\n",
       "    </tr>\n",
       "    <tr>\n",
       "      <td>151</td>\n",
       "      <td>1</td>\n",
       "      <td>0</td>\n",
       "      <td>0</td>\n",
       "      <td>0</td>\n",
       "      <td>0</td>\n",
       "    </tr>\n",
       "    <tr>\n",
       "      <td>154</td>\n",
       "      <td>1</td>\n",
       "      <td>1</td>\n",
       "      <td>0</td>\n",
       "      <td>0</td>\n",
       "      <td>0</td>\n",
       "    </tr>\n",
       "    <tr>\n",
       "      <td>155</td>\n",
       "      <td>0</td>\n",
       "      <td>0</td>\n",
       "      <td>0</td>\n",
       "      <td>1</td>\n",
       "      <td>0</td>\n",
       "    </tr>\n",
       "    <tr>\n",
       "      <td>157</td>\n",
       "      <td>0</td>\n",
       "      <td>1</td>\n",
       "      <td>0</td>\n",
       "      <td>0</td>\n",
       "      <td>0</td>\n",
       "    </tr>\n",
       "    <tr>\n",
       "      <td>159</td>\n",
       "      <td>0</td>\n",
       "      <td>0</td>\n",
       "      <td>0</td>\n",
       "      <td>1</td>\n",
       "      <td>0</td>\n",
       "    </tr>\n",
       "    <tr>\n",
       "      <td>160</td>\n",
       "      <td>3</td>\n",
       "      <td>0</td>\n",
       "      <td>0</td>\n",
       "      <td>1</td>\n",
       "      <td>0</td>\n",
       "    </tr>\n",
       "    <tr>\n",
       "      <td>161</td>\n",
       "      <td>1</td>\n",
       "      <td>0</td>\n",
       "      <td>0</td>\n",
       "      <td>0</td>\n",
       "      <td>0</td>\n",
       "    </tr>\n",
       "    <tr>\n",
       "      <td>162</td>\n",
       "      <td>0</td>\n",
       "      <td>1</td>\n",
       "      <td>0</td>\n",
       "      <td>0</td>\n",
       "      <td>0</td>\n",
       "    </tr>\n",
       "    <tr>\n",
       "      <td>165</td>\n",
       "      <td>1</td>\n",
       "      <td>1</td>\n",
       "      <td>0</td>\n",
       "      <td>0</td>\n",
       "      <td>0</td>\n",
       "    </tr>\n",
       "    <tr>\n",
       "      <td>180</td>\n",
       "      <td>1</td>\n",
       "      <td>0</td>\n",
       "      <td>1</td>\n",
       "      <td>0</td>\n",
       "      <td>0</td>\n",
       "    </tr>\n",
       "    <tr>\n",
       "      <td>69</td>\n",
       "      <td>1</td>\n",
       "      <td>0</td>\n",
       "      <td>0</td>\n",
       "      <td>0</td>\n",
       "      <td>0</td>\n",
       "    </tr>\n",
       "    <tr>\n",
       "      <td>73</td>\n",
       "      <td>0</td>\n",
       "      <td>0</td>\n",
       "      <td>0</td>\n",
       "      <td>1</td>\n",
       "      <td>0</td>\n",
       "    </tr>\n",
       "    <tr>\n",
       "      <td>80</td>\n",
       "      <td>1</td>\n",
       "      <td>0</td>\n",
       "      <td>0</td>\n",
       "      <td>1</td>\n",
       "      <td>0</td>\n",
       "    </tr>\n",
       "    <tr>\n",
       "      <td>84</td>\n",
       "      <td>0</td>\n",
       "      <td>0</td>\n",
       "      <td>2</td>\n",
       "      <td>0</td>\n",
       "      <td>1</td>\n",
       "    </tr>\n",
       "    <tr>\n",
       "      <td>86</td>\n",
       "      <td>2</td>\n",
       "      <td>0</td>\n",
       "      <td>0</td>\n",
       "      <td>1</td>\n",
       "      <td>0</td>\n",
       "    </tr>\n",
       "    <tr>\n",
       "      <td>88</td>\n",
       "      <td>0</td>\n",
       "      <td>0</td>\n",
       "      <td>0</td>\n",
       "      <td>1</td>\n",
       "      <td>0</td>\n",
       "    </tr>\n",
       "    <tr>\n",
       "      <td>93</td>\n",
       "      <td>0</td>\n",
       "      <td>1</td>\n",
       "      <td>0</td>\n",
       "      <td>0</td>\n",
       "      <td>0</td>\n",
       "    </tr>\n",
       "    <tr>\n",
       "      <td>94</td>\n",
       "      <td>0</td>\n",
       "      <td>1</td>\n",
       "      <td>0</td>\n",
       "      <td>0</td>\n",
       "      <td>0</td>\n",
       "    </tr>\n",
       "    <tr>\n",
       "      <td>96</td>\n",
       "      <td>2</td>\n",
       "      <td>0</td>\n",
       "      <td>0</td>\n",
       "      <td>0</td>\n",
       "      <td>0</td>\n",
       "    </tr>\n",
       "    <tr>\n",
       "      <td>97</td>\n",
       "      <td>0</td>\n",
       "      <td>0</td>\n",
       "      <td>1</td>\n",
       "      <td>0</td>\n",
       "      <td>0</td>\n",
       "    </tr>\n",
       "    <tr>\n",
       "      <td>98</td>\n",
       "      <td>0</td>\n",
       "      <td>1</td>\n",
       "      <td>0</td>\n",
       "      <td>1</td>\n",
       "      <td>0</td>\n",
       "    </tr>\n",
       "    <tr>\n",
       "      <td>99</td>\n",
       "      <td>1</td>\n",
       "      <td>0</td>\n",
       "      <td>0</td>\n",
       "      <td>0</td>\n",
       "      <td>0</td>\n",
       "    </tr>\n",
       "  </tbody>\n",
       "</table>\n",
       "</div>"
      ],
      "text/plain": [
       "Pred      0   1  2   3  4\n",
       "thalach                  \n",
       "0        19  13  7  12  2\n",
       "100       1   1  1   1  0\n",
       "102       0   0  1   1  1\n",
       "105       0   2  0   2  0\n",
       "106       0   3  0   0  0\n",
       "107       1   0  0   0  0\n",
       "108       0   1  1   0  1\n",
       "110       1   3  3   1  0\n",
       "111       1   0  0   1  0\n",
       "112       1   2  2   1  0\n",
       "113       0   0  0   1  0\n",
       "115       0   0  0   1  0\n",
       "117       0   3  0   0  0\n",
       "118       1   0  3   0  0\n",
       "119       0   0  1   1  0\n",
       "120       3   6  0   1  2\n",
       "121       0   1  0   0  0\n",
       "122       0   1  0   2  0\n",
       "123       0   0  0   0  1\n",
       "124       0   0  1   0  0\n",
       "125       0   2  0   1  0\n",
       "126       0   0  1   0  0\n",
       "127       1   1  0   0  0\n",
       "128       2   0  1   1  0\n",
       "129       0   0  2   0  0\n",
       "130       0   0  5   1  0\n",
       "131       1   0  0   0  0\n",
       "132       0   1  0   0  0\n",
       "133       1   0  0   0  0\n",
       "135       0   0  1   2  0\n",
       "138       0   1  1   0  0\n",
       "140       2   4  3   2  1\n",
       "141       0   0  0   1  0\n",
       "144       0   0  1   0  0\n",
       "145       0   0  1   0  0\n",
       "148       0   2  1   0  0\n",
       "149       0   1  0   0  0\n",
       "150       1   1  0   1  1\n",
       "151       1   0  0   0  0\n",
       "154       1   1  0   0  0\n",
       "155       0   0  0   1  0\n",
       "157       0   1  0   0  0\n",
       "159       0   0  0   1  0\n",
       "160       3   0  0   1  0\n",
       "161       1   0  0   0  0\n",
       "162       0   1  0   0  0\n",
       "165       1   1  0   0  0\n",
       "180       1   0  1   0  0\n",
       "69        1   0  0   0  0\n",
       "73        0   0  0   1  0\n",
       "80        1   0  0   1  0\n",
       "84        0   0  2   0  1\n",
       "86        2   0  0   1  0\n",
       "88        0   0  0   1  0\n",
       "93        0   1  0   0  0\n",
       "94        0   1  0   0  0\n",
       "96        2   0  0   0  0\n",
       "97        0   0  1   0  0\n",
       "98        0   1  0   1  0\n",
       "99        1   0  0   0  0"
      ]
     },
     "execution_count": 59,
     "metadata": {},
     "output_type": "execute_result"
    }
   ],
   "source": [
    "pd.crosstab(df['thalach'],df['Pred'])"
   ]
  },
  {
   "cell_type": "code",
   "execution_count": 60,
   "metadata": {},
   "outputs": [
    {
     "data": {
      "text/html": [
       "<div>\n",
       "<style scoped>\n",
       "    .dataframe tbody tr th:only-of-type {\n",
       "        vertical-align: middle;\n",
       "    }\n",
       "\n",
       "    .dataframe tbody tr th {\n",
       "        vertical-align: top;\n",
       "    }\n",
       "\n",
       "    .dataframe thead th {\n",
       "        text-align: right;\n",
       "    }\n",
       "</style>\n",
       "<table border=\"1\" class=\"dataframe\">\n",
       "  <thead>\n",
       "    <tr style=\"text-align: right;\">\n",
       "      <th>Pred</th>\n",
       "      <th>0</th>\n",
       "      <th>1</th>\n",
       "      <th>2</th>\n",
       "      <th>3</th>\n",
       "      <th>4</th>\n",
       "    </tr>\n",
       "    <tr>\n",
       "      <th>exang</th>\n",
       "      <th></th>\n",
       "      <th></th>\n",
       "      <th></th>\n",
       "      <th></th>\n",
       "      <th></th>\n",
       "    </tr>\n",
       "  </thead>\n",
       "  <tbody>\n",
       "    <tr>\n",
       "      <td>0</td>\n",
       "      <td>19</td>\n",
       "      <td>13</td>\n",
       "      <td>7</td>\n",
       "      <td>12</td>\n",
       "      <td>2</td>\n",
       "    </tr>\n",
       "    <tr>\n",
       "      <td>0</td>\n",
       "      <td>20</td>\n",
       "      <td>15</td>\n",
       "      <td>10</td>\n",
       "      <td>6</td>\n",
       "      <td>1</td>\n",
       "    </tr>\n",
       "    <tr>\n",
       "      <td>1</td>\n",
       "      <td>12</td>\n",
       "      <td>28</td>\n",
       "      <td>24</td>\n",
       "      <td>24</td>\n",
       "      <td>7</td>\n",
       "    </tr>\n",
       "  </tbody>\n",
       "</table>\n",
       "</div>"
      ],
      "text/plain": [
       "Pred    0   1   2   3  4\n",
       "exang                   \n",
       "0      19  13   7  12  2\n",
       "0      20  15  10   6  1\n",
       "1      12  28  24  24  7"
      ]
     },
     "execution_count": 60,
     "metadata": {},
     "output_type": "execute_result"
    }
   ],
   "source": [
    "pd.crosstab(df['exang'],df['Pred'])"
   ]
  },
  {
   "cell_type": "code",
   "execution_count": 61,
   "metadata": {},
   "outputs": [
    {
     "data": {
      "text/html": [
       "<div>\n",
       "<style scoped>\n",
       "    .dataframe tbody tr th:only-of-type {\n",
       "        vertical-align: middle;\n",
       "    }\n",
       "\n",
       "    .dataframe tbody tr th {\n",
       "        vertical-align: top;\n",
       "    }\n",
       "\n",
       "    .dataframe thead th {\n",
       "        text-align: right;\n",
       "    }\n",
       "</style>\n",
       "<table border=\"1\" class=\"dataframe\">\n",
       "  <thead>\n",
       "    <tr style=\"text-align: right;\">\n",
       "      <th>Pred</th>\n",
       "      <th>0</th>\n",
       "      <th>1</th>\n",
       "      <th>2</th>\n",
       "      <th>3</th>\n",
       "      <th>4</th>\n",
       "    </tr>\n",
       "    <tr>\n",
       "      <th>oldpeak</th>\n",
       "      <th></th>\n",
       "      <th></th>\n",
       "      <th></th>\n",
       "      <th></th>\n",
       "      <th></th>\n",
       "    </tr>\n",
       "  </thead>\n",
       "  <tbody>\n",
       "    <tr>\n",
       "      <td>0</td>\n",
       "      <td>21</td>\n",
       "      <td>14</td>\n",
       "      <td>7</td>\n",
       "      <td>12</td>\n",
       "      <td>2</td>\n",
       "    </tr>\n",
       "    <tr>\n",
       "      <td>-0.5</td>\n",
       "      <td>1</td>\n",
       "      <td>0</td>\n",
       "      <td>0</td>\n",
       "      <td>0</td>\n",
       "      <td>0</td>\n",
       "    </tr>\n",
       "    <tr>\n",
       "      <td>0</td>\n",
       "      <td>14</td>\n",
       "      <td>12</td>\n",
       "      <td>9</td>\n",
       "      <td>5</td>\n",
       "      <td>0</td>\n",
       "    </tr>\n",
       "    <tr>\n",
       "      <td>0.5</td>\n",
       "      <td>1</td>\n",
       "      <td>5</td>\n",
       "      <td>1</td>\n",
       "      <td>0</td>\n",
       "      <td>0</td>\n",
       "    </tr>\n",
       "    <tr>\n",
       "      <td>0.8</td>\n",
       "      <td>0</td>\n",
       "      <td>1</td>\n",
       "      <td>0</td>\n",
       "      <td>0</td>\n",
       "      <td>0</td>\n",
       "    </tr>\n",
       "    <tr>\n",
       "      <td>1</td>\n",
       "      <td>4</td>\n",
       "      <td>7</td>\n",
       "      <td>3</td>\n",
       "      <td>4</td>\n",
       "      <td>0</td>\n",
       "    </tr>\n",
       "    <tr>\n",
       "      <td>1.3</td>\n",
       "      <td>1</td>\n",
       "      <td>1</td>\n",
       "      <td>0</td>\n",
       "      <td>0</td>\n",
       "      <td>0</td>\n",
       "    </tr>\n",
       "    <tr>\n",
       "      <td>1.5</td>\n",
       "      <td>4</td>\n",
       "      <td>6</td>\n",
       "      <td>4</td>\n",
       "      <td>7</td>\n",
       "      <td>0</td>\n",
       "    </tr>\n",
       "    <tr>\n",
       "      <td>1.6</td>\n",
       "      <td>0</td>\n",
       "      <td>0</td>\n",
       "      <td>1</td>\n",
       "      <td>0</td>\n",
       "      <td>0</td>\n",
       "    </tr>\n",
       "    <tr>\n",
       "      <td>1.7</td>\n",
       "      <td>0</td>\n",
       "      <td>1</td>\n",
       "      <td>0</td>\n",
       "      <td>0</td>\n",
       "      <td>0</td>\n",
       "    </tr>\n",
       "    <tr>\n",
       "      <td>2</td>\n",
       "      <td>4</td>\n",
       "      <td>5</td>\n",
       "      <td>8</td>\n",
       "      <td>7</td>\n",
       "      <td>1</td>\n",
       "    </tr>\n",
       "    <tr>\n",
       "      <td>2.5</td>\n",
       "      <td>0</td>\n",
       "      <td>3</td>\n",
       "      <td>2</td>\n",
       "      <td>2</td>\n",
       "      <td>2</td>\n",
       "    </tr>\n",
       "    <tr>\n",
       "      <td>3</td>\n",
       "      <td>1</td>\n",
       "      <td>1</td>\n",
       "      <td>6</td>\n",
       "      <td>3</td>\n",
       "      <td>2</td>\n",
       "    </tr>\n",
       "    <tr>\n",
       "      <td>3.5</td>\n",
       "      <td>0</td>\n",
       "      <td>0</td>\n",
       "      <td>0</td>\n",
       "      <td>0</td>\n",
       "      <td>1</td>\n",
       "    </tr>\n",
       "    <tr>\n",
       "      <td>4</td>\n",
       "      <td>0</td>\n",
       "      <td>0</td>\n",
       "      <td>0</td>\n",
       "      <td>2</td>\n",
       "      <td>2</td>\n",
       "    </tr>\n",
       "  </tbody>\n",
       "</table>\n",
       "</div>"
      ],
      "text/plain": [
       "Pred      0   1  2   3  4\n",
       "oldpeak                  \n",
       "0        21  14  7  12  2\n",
       "-0.5      1   0  0   0  0\n",
       "0        14  12  9   5  0\n",
       "0.5       1   5  1   0  0\n",
       "0.8       0   1  0   0  0\n",
       "1         4   7  3   4  0\n",
       "1.3       1   1  0   0  0\n",
       "1.5       4   6  4   7  0\n",
       "1.6       0   0  1   0  0\n",
       "1.7       0   1  0   0  0\n",
       "2         4   5  8   7  1\n",
       "2.5       0   3  2   2  2\n",
       "3         1   1  6   3  2\n",
       "3.5       0   0  0   0  1\n",
       "4         0   0  0   2  2"
      ]
     },
     "execution_count": 61,
     "metadata": {},
     "output_type": "execute_result"
    }
   ],
   "source": [
    "pd.crosstab(df['oldpeak'],df['Pred'])"
   ]
  },
  {
   "cell_type": "code",
   "execution_count": 62,
   "metadata": {},
   "outputs": [
    {
     "data": {
      "text/html": [
       "<div>\n",
       "<style scoped>\n",
       "    .dataframe tbody tr th:only-of-type {\n",
       "        vertical-align: middle;\n",
       "    }\n",
       "\n",
       "    .dataframe tbody tr th {\n",
       "        vertical-align: top;\n",
       "    }\n",
       "\n",
       "    .dataframe thead th {\n",
       "        text-align: right;\n",
       "    }\n",
       "</style>\n",
       "<table border=\"1\" class=\"dataframe\">\n",
       "  <thead>\n",
       "    <tr style=\"text-align: right;\">\n",
       "      <th>Pred</th>\n",
       "      <th>0</th>\n",
       "      <th>1</th>\n",
       "      <th>2</th>\n",
       "      <th>3</th>\n",
       "      <th>4</th>\n",
       "    </tr>\n",
       "    <tr>\n",
       "      <th>slope</th>\n",
       "      <th></th>\n",
       "      <th></th>\n",
       "      <th></th>\n",
       "      <th></th>\n",
       "      <th></th>\n",
       "    </tr>\n",
       "  </thead>\n",
       "  <tbody>\n",
       "    <tr>\n",
       "      <td>0</td>\n",
       "      <td>36</td>\n",
       "      <td>27</td>\n",
       "      <td>16</td>\n",
       "      <td>19</td>\n",
       "      <td>4</td>\n",
       "    </tr>\n",
       "    <tr>\n",
       "      <td>1</td>\n",
       "      <td>3</td>\n",
       "      <td>5</td>\n",
       "      <td>3</td>\n",
       "      <td>5</td>\n",
       "      <td>0</td>\n",
       "    </tr>\n",
       "    <tr>\n",
       "      <td>2</td>\n",
       "      <td>9</td>\n",
       "      <td>18</td>\n",
       "      <td>13</td>\n",
       "      <td>12</td>\n",
       "      <td>1</td>\n",
       "    </tr>\n",
       "    <tr>\n",
       "      <td>3</td>\n",
       "      <td>3</td>\n",
       "      <td>6</td>\n",
       "      <td>9</td>\n",
       "      <td>6</td>\n",
       "      <td>5</td>\n",
       "    </tr>\n",
       "  </tbody>\n",
       "</table>\n",
       "</div>"
      ],
      "text/plain": [
       "Pred    0   1   2   3  4\n",
       "slope                   \n",
       "0      36  27  16  19  4\n",
       "1       3   5   3   5  0\n",
       "2       9  18  13  12  1\n",
       "3       3   6   9   6  5"
      ]
     },
     "execution_count": 62,
     "metadata": {},
     "output_type": "execute_result"
    }
   ],
   "source": [
    "pd.crosstab(df['slope'],df['Pred'])"
   ]
  },
  {
   "cell_type": "code",
   "execution_count": 63,
   "metadata": {},
   "outputs": [
    {
     "data": {
      "text/html": [
       "<div>\n",
       "<style scoped>\n",
       "    .dataframe tbody tr th:only-of-type {\n",
       "        vertical-align: middle;\n",
       "    }\n",
       "\n",
       "    .dataframe tbody tr th {\n",
       "        vertical-align: top;\n",
       "    }\n",
       "\n",
       "    .dataframe thead th {\n",
       "        text-align: right;\n",
       "    }\n",
       "</style>\n",
       "<table border=\"1\" class=\"dataframe\">\n",
       "  <thead>\n",
       "    <tr style=\"text-align: right;\">\n",
       "      <th>Pred</th>\n",
       "      <th>0</th>\n",
       "      <th>1</th>\n",
       "      <th>2</th>\n",
       "      <th>3</th>\n",
       "      <th>4</th>\n",
       "    </tr>\n",
       "    <tr>\n",
       "      <th>ca</th>\n",
       "      <th></th>\n",
       "      <th></th>\n",
       "      <th></th>\n",
       "      <th></th>\n",
       "      <th></th>\n",
       "    </tr>\n",
       "  </thead>\n",
       "  <tbody>\n",
       "    <tr>\n",
       "      <td>0</td>\n",
       "      <td>50</td>\n",
       "      <td>55</td>\n",
       "      <td>41</td>\n",
       "      <td>42</td>\n",
       "      <td>10</td>\n",
       "    </tr>\n",
       "    <tr>\n",
       "      <td>0</td>\n",
       "      <td>1</td>\n",
       "      <td>1</td>\n",
       "      <td>0</td>\n",
       "      <td>0</td>\n",
       "      <td>0</td>\n",
       "    </tr>\n",
       "  </tbody>\n",
       "</table>\n",
       "</div>"
      ],
      "text/plain": [
       "Pred   0   1   2   3   4\n",
       "ca                      \n",
       "0     50  55  41  42  10\n",
       "0      1   1   0   0   0"
      ]
     },
     "execution_count": 63,
     "metadata": {},
     "output_type": "execute_result"
    }
   ],
   "source": [
    "pd.crosstab(df['ca'],df['Pred'])"
   ]
  },
  {
   "cell_type": "code",
   "execution_count": 64,
   "metadata": {},
   "outputs": [
    {
     "data": {
      "text/html": [
       "<div>\n",
       "<style scoped>\n",
       "    .dataframe tbody tr th:only-of-type {\n",
       "        vertical-align: middle;\n",
       "    }\n",
       "\n",
       "    .dataframe tbody tr th {\n",
       "        vertical-align: top;\n",
       "    }\n",
       "\n",
       "    .dataframe thead th {\n",
       "        text-align: right;\n",
       "    }\n",
       "</style>\n",
       "<table border=\"1\" class=\"dataframe\">\n",
       "  <thead>\n",
       "    <tr style=\"text-align: right;\">\n",
       "      <th>Pred</th>\n",
       "      <th>0</th>\n",
       "      <th>1</th>\n",
       "      <th>2</th>\n",
       "      <th>3</th>\n",
       "      <th>4</th>\n",
       "    </tr>\n",
       "    <tr>\n",
       "      <th>thal</th>\n",
       "      <th></th>\n",
       "      <th></th>\n",
       "      <th></th>\n",
       "      <th></th>\n",
       "      <th></th>\n",
       "    </tr>\n",
       "  </thead>\n",
       "  <tbody>\n",
       "    <tr>\n",
       "      <td>0</td>\n",
       "      <td>43</td>\n",
       "      <td>41</td>\n",
       "      <td>33</td>\n",
       "      <td>39</td>\n",
       "      <td>10</td>\n",
       "    </tr>\n",
       "    <tr>\n",
       "      <td>3</td>\n",
       "      <td>2</td>\n",
       "      <td>1</td>\n",
       "      <td>1</td>\n",
       "      <td>0</td>\n",
       "      <td>0</td>\n",
       "    </tr>\n",
       "    <tr>\n",
       "      <td>6</td>\n",
       "      <td>1</td>\n",
       "      <td>2</td>\n",
       "      <td>4</td>\n",
       "      <td>1</td>\n",
       "      <td>0</td>\n",
       "    </tr>\n",
       "    <tr>\n",
       "      <td>7</td>\n",
       "      <td>5</td>\n",
       "      <td>12</td>\n",
       "      <td>3</td>\n",
       "      <td>2</td>\n",
       "      <td>0</td>\n",
       "    </tr>\n",
       "  </tbody>\n",
       "</table>\n",
       "</div>"
      ],
      "text/plain": [
       "Pred   0   1   2   3   4\n",
       "thal                    \n",
       "0     43  41  33  39  10\n",
       "3      2   1   1   0   0\n",
       "6      1   2   4   1   0\n",
       "7      5  12   3   2   0"
      ]
     },
     "execution_count": 64,
     "metadata": {},
     "output_type": "execute_result"
    }
   ],
   "source": [
    "pd.crosstab(df['thal'],df['Pred'])"
   ]
  },
  {
   "cell_type": "code",
   "execution_count": 65,
   "metadata": {},
   "outputs": [],
   "source": [
    "from scipy.stats import chi2_contingency"
   ]
  },
  {
   "cell_type": "code",
   "execution_count": 67,
   "metadata": {},
   "outputs": [
    {
     "data": {
      "text/plain": [
       "(5.401542060123019,\n",
       " 0.2485205239227052,\n",
       " 4,\n",
       " array([[ 1.53,  1.68,  1.23,  1.26,  0.3 ],\n",
       "        [49.47, 54.32, 39.77, 40.74,  9.7 ]]))"
      ]
     },
     "execution_count": 67,
     "metadata": {},
     "output_type": "execute_result"
    }
   ],
   "source": [
    "chi2_contingency(pd.crosstab(df['sex'],df['Pred']))"
   ]
  },
  {
   "cell_type": "code",
   "execution_count": 68,
   "metadata": {},
   "outputs": [
    {
     "data": {
      "text/plain": [
       "(182.35748635497558,\n",
       " 0.10882544978236793,\n",
       " 160,\n",
       " array([[14.28 , 15.68 , 11.48 , 11.76 ,  2.8  ],\n",
       "        [ 0.255,  0.28 ,  0.205,  0.21 ,  0.05 ],\n",
       "        [ 0.255,  0.28 ,  0.205,  0.21 ,  0.05 ],\n",
       "        [ 0.255,  0.28 ,  0.205,  0.21 ,  0.05 ],\n",
       "        [ 0.51 ,  0.56 ,  0.41 ,  0.42 ,  0.1  ],\n",
       "        [ 0.255,  0.28 ,  0.205,  0.21 ,  0.05 ],\n",
       "        [ 2.295,  2.52 ,  1.845,  1.89 ,  0.45 ],\n",
       "        [ 0.51 ,  0.56 ,  0.41 ,  0.42 ,  0.1  ],\n",
       "        [ 0.255,  0.28 ,  0.205,  0.21 ,  0.05 ],\n",
       "        [ 0.51 ,  0.56 ,  0.41 ,  0.42 ,  0.1  ],\n",
       "        [ 0.255,  0.28 ,  0.205,  0.21 ,  0.05 ],\n",
       "        [ 4.08 ,  4.48 ,  3.28 ,  3.36 ,  0.8  ],\n",
       "        [ 1.53 ,  1.68 ,  1.23 ,  1.26 ,  0.3  ],\n",
       "        [ 1.02 ,  1.12 ,  0.82 ,  0.84 ,  0.2  ],\n",
       "        [ 0.51 ,  0.56 ,  0.41 ,  0.42 ,  0.1  ],\n",
       "        [ 1.02 ,  1.12 ,  0.82 ,  0.84 ,  0.2  ],\n",
       "        [ 0.255,  0.28 ,  0.205,  0.21 ,  0.05 ],\n",
       "        [ 1.02 ,  1.12 ,  0.82 ,  0.84 ,  0.2  ],\n",
       "        [ 3.825,  4.2  ,  3.075,  3.15 ,  0.75 ],\n",
       "        [ 0.765,  0.84 ,  0.615,  0.63 ,  0.15 ],\n",
       "        [ 1.02 ,  1.12 ,  0.82 ,  0.84 ,  0.2  ],\n",
       "        [ 0.255,  0.28 ,  0.205,  0.21 ,  0.05 ],\n",
       "        [ 1.02 ,  1.12 ,  0.82 ,  0.84 ,  0.2  ],\n",
       "        [ 0.51 ,  0.56 ,  0.41 ,  0.42 ,  0.1  ],\n",
       "        [ 2.55 ,  2.8  ,  2.05 ,  2.1  ,  0.5  ],\n",
       "        [ 1.275,  1.4  ,  1.025,  1.05 ,  0.25 ],\n",
       "        [ 1.02 ,  1.12 ,  0.82 ,  0.84 ,  0.2  ],\n",
       "        [ 0.255,  0.28 ,  0.205,  0.21 ,  0.05 ],\n",
       "        [ 2.295,  2.52 ,  1.845,  1.89 ,  0.45 ],\n",
       "        [ 0.51 ,  0.56 ,  0.41 ,  0.42 ,  0.1  ],\n",
       "        [ 0.51 ,  0.56 ,  0.41 ,  0.42 ,  0.1  ],\n",
       "        [ 0.51 ,  0.56 ,  0.41 ,  0.42 ,  0.1  ],\n",
       "        [ 0.255,  0.28 ,  0.205,  0.21 ,  0.05 ],\n",
       "        [ 0.765,  0.84 ,  0.615,  0.63 ,  0.15 ],\n",
       "        [ 2.04 ,  2.24 ,  1.64 ,  1.68 ,  0.4  ],\n",
       "        [ 1.02 ,  1.12 ,  0.82 ,  0.84 ,  0.2  ],\n",
       "        [ 0.255,  0.28 ,  0.205,  0.21 ,  0.05 ],\n",
       "        [ 0.255,  0.28 ,  0.205,  0.21 ,  0.05 ],\n",
       "        [ 0.51 ,  0.56 ,  0.41 ,  0.42 ,  0.1  ],\n",
       "        [ 0.255,  0.28 ,  0.205,  0.21 ,  0.05 ],\n",
       "        [ 0.255,  0.28 ,  0.205,  0.21 ,  0.05 ]]))"
      ]
     },
     "execution_count": 68,
     "metadata": {},
     "output_type": "execute_result"
    }
   ],
   "source": [
    "chi2_contingency(pd.crosstab(df['trestbps'],df['Pred']))"
   ]
  },
  {
   "cell_type": "code",
   "execution_count": 69,
   "metadata": {},
   "outputs": [
    {
     "data": {
      "text/plain": [
       "(423.0873737415988,\n",
       " 0.16728300013115363,\n",
       " 396,\n",
       " array([[ 1.785,  1.96 ,  1.435,  1.47 ,  0.35 ],\n",
       "        [12.495, 13.72 , 10.045, 10.29 ,  2.45 ],\n",
       "        [ 0.255,  0.28 ,  0.205,  0.21 ,  0.05 ],\n",
       "        [ 0.255,  0.28 ,  0.205,  0.21 ,  0.05 ],\n",
       "        [ 0.255,  0.28 ,  0.205,  0.21 ,  0.05 ],\n",
       "        [ 0.255,  0.28 ,  0.205,  0.21 ,  0.05 ],\n",
       "        [ 0.255,  0.28 ,  0.205,  0.21 ,  0.05 ],\n",
       "        [ 0.255,  0.28 ,  0.205,  0.21 ,  0.05 ],\n",
       "        [ 0.255,  0.28 ,  0.205,  0.21 ,  0.05 ],\n",
       "        [ 0.255,  0.28 ,  0.205,  0.21 ,  0.05 ],\n",
       "        [ 0.51 ,  0.56 ,  0.41 ,  0.42 ,  0.1  ],\n",
       "        [ 0.51 ,  0.56 ,  0.41 ,  0.42 ,  0.1  ],\n",
       "        [ 0.255,  0.28 ,  0.205,  0.21 ,  0.05 ],\n",
       "        [ 0.255,  0.28 ,  0.205,  0.21 ,  0.05 ],\n",
       "        [ 0.255,  0.28 ,  0.205,  0.21 ,  0.05 ],\n",
       "        [ 0.255,  0.28 ,  0.205,  0.21 ,  0.05 ],\n",
       "        [ 0.255,  0.28 ,  0.205,  0.21 ,  0.05 ],\n",
       "        [ 0.765,  0.84 ,  0.615,  0.63 ,  0.15 ],\n",
       "        [ 0.255,  0.28 ,  0.205,  0.21 ,  0.05 ],\n",
       "        [ 0.255,  0.28 ,  0.205,  0.21 ,  0.05 ],\n",
       "        [ 0.51 ,  0.56 ,  0.41 ,  0.42 ,  0.1  ],\n",
       "        [ 0.255,  0.28 ,  0.205,  0.21 ,  0.05 ],\n",
       "        [ 0.255,  0.28 ,  0.205,  0.21 ,  0.05 ],\n",
       "        [ 0.255,  0.28 ,  0.205,  0.21 ,  0.05 ],\n",
       "        [ 0.255,  0.28 ,  0.205,  0.21 ,  0.05 ],\n",
       "        [ 1.02 ,  1.12 ,  0.82 ,  0.84 ,  0.2  ],\n",
       "        [ 0.51 ,  0.56 ,  0.41 ,  0.42 ,  0.1  ],\n",
       "        [ 0.255,  0.28 ,  0.205,  0.21 ,  0.05 ],\n",
       "        [ 0.51 ,  0.56 ,  0.41 ,  0.42 ,  0.1  ],\n",
       "        [ 0.255,  0.28 ,  0.205,  0.21 ,  0.05 ],\n",
       "        [ 0.51 ,  0.56 ,  0.41 ,  0.42 ,  0.1  ],\n",
       "        [ 0.255,  0.28 ,  0.205,  0.21 ,  0.05 ],\n",
       "        [ 0.51 ,  0.56 ,  0.41 ,  0.42 ,  0.1  ],\n",
       "        [ 0.765,  0.84 ,  0.615,  0.63 ,  0.15 ],\n",
       "        [ 0.765,  0.84 ,  0.615,  0.63 ,  0.15 ],\n",
       "        [ 0.51 ,  0.56 ,  0.41 ,  0.42 ,  0.1  ],\n",
       "        [ 0.765,  0.84 ,  0.615,  0.63 ,  0.15 ],\n",
       "        [ 0.765,  0.84 ,  0.615,  0.63 ,  0.15 ],\n",
       "        [ 1.02 ,  1.12 ,  0.82 ,  0.84 ,  0.2  ],\n",
       "        [ 0.51 ,  0.56 ,  0.41 ,  0.42 ,  0.1  ],\n",
       "        [ 0.255,  0.28 ,  0.205,  0.21 ,  0.05 ],\n",
       "        [ 0.765,  0.84 ,  0.615,  0.63 ,  0.15 ],\n",
       "        [ 0.255,  0.28 ,  0.205,  0.21 ,  0.05 ],\n",
       "        [ 0.255,  0.28 ,  0.205,  0.21 ,  0.05 ],\n",
       "        [ 0.255,  0.28 ,  0.205,  0.21 ,  0.05 ],\n",
       "        [ 0.255,  0.28 ,  0.205,  0.21 ,  0.05 ],\n",
       "        [ 0.51 ,  0.56 ,  0.41 ,  0.42 ,  0.1  ],\n",
       "        [ 0.255,  0.28 ,  0.205,  0.21 ,  0.05 ],\n",
       "        [ 0.255,  0.28 ,  0.205,  0.21 ,  0.05 ],\n",
       "        [ 0.255,  0.28 ,  0.205,  0.21 ,  0.05 ],\n",
       "        [ 0.255,  0.28 ,  0.205,  0.21 ,  0.05 ],\n",
       "        [ 0.765,  0.84 ,  0.615,  0.63 ,  0.15 ],\n",
       "        [ 0.255,  0.28 ,  0.205,  0.21 ,  0.05 ],\n",
       "        [ 0.765,  0.84 ,  0.615,  0.63 ,  0.15 ],\n",
       "        [ 0.255,  0.28 ,  0.205,  0.21 ,  0.05 ],\n",
       "        [ 0.255,  0.28 ,  0.205,  0.21 ,  0.05 ],\n",
       "        [ 0.255,  0.28 ,  0.205,  0.21 ,  0.05 ],\n",
       "        [ 0.255,  0.28 ,  0.205,  0.21 ,  0.05 ],\n",
       "        [ 0.255,  0.28 ,  0.205,  0.21 ,  0.05 ],\n",
       "        [ 0.51 ,  0.56 ,  0.41 ,  0.42 ,  0.1  ],\n",
       "        [ 0.765,  0.84 ,  0.615,  0.63 ,  0.15 ],\n",
       "        [ 0.255,  0.28 ,  0.205,  0.21 ,  0.05 ],\n",
       "        [ 1.02 ,  1.12 ,  0.82 ,  0.84 ,  0.2  ],\n",
       "        [ 0.51 ,  0.56 ,  0.41 ,  0.42 ,  0.1  ],\n",
       "        [ 0.255,  0.28 ,  0.205,  0.21 ,  0.05 ],\n",
       "        [ 0.255,  0.28 ,  0.205,  0.21 ,  0.05 ],\n",
       "        [ 0.51 ,  0.56 ,  0.41 ,  0.42 ,  0.1  ],\n",
       "        [ 0.51 ,  0.56 ,  0.41 ,  0.42 ,  0.1  ],\n",
       "        [ 0.255,  0.28 ,  0.205,  0.21 ,  0.05 ],\n",
       "        [ 0.255,  0.28 ,  0.205,  0.21 ,  0.05 ],\n",
       "        [ 0.255,  0.28 ,  0.205,  0.21 ,  0.05 ],\n",
       "        [ 0.51 ,  0.56 ,  0.41 ,  0.42 ,  0.1  ],\n",
       "        [ 0.255,  0.28 ,  0.205,  0.21 ,  0.05 ],\n",
       "        [ 0.255,  0.28 ,  0.205,  0.21 ,  0.05 ],\n",
       "        [ 0.255,  0.28 ,  0.205,  0.21 ,  0.05 ],\n",
       "        [ 0.51 ,  0.56 ,  0.41 ,  0.42 ,  0.1  ],\n",
       "        [ 0.255,  0.28 ,  0.205,  0.21 ,  0.05 ],\n",
       "        [ 0.255,  0.28 ,  0.205,  0.21 ,  0.05 ],\n",
       "        [ 0.255,  0.28 ,  0.205,  0.21 ,  0.05 ],\n",
       "        [ 0.255,  0.28 ,  0.205,  0.21 ,  0.05 ],\n",
       "        [ 0.51 ,  0.56 ,  0.41 ,  0.42 ,  0.1  ],\n",
       "        [ 0.255,  0.28 ,  0.205,  0.21 ,  0.05 ],\n",
       "        [ 0.255,  0.28 ,  0.205,  0.21 ,  0.05 ],\n",
       "        [ 0.255,  0.28 ,  0.205,  0.21 ,  0.05 ],\n",
       "        [ 0.255,  0.28 ,  0.205,  0.21 ,  0.05 ],\n",
       "        [ 0.255,  0.28 ,  0.205,  0.21 ,  0.05 ],\n",
       "        [ 0.255,  0.28 ,  0.205,  0.21 ,  0.05 ],\n",
       "        [ 0.255,  0.28 ,  0.205,  0.21 ,  0.05 ],\n",
       "        [ 0.765,  0.84 ,  0.615,  0.63 ,  0.15 ],\n",
       "        [ 0.255,  0.28 ,  0.205,  0.21 ,  0.05 ],\n",
       "        [ 0.255,  0.28 ,  0.205,  0.21 ,  0.05 ],\n",
       "        [ 0.255,  0.28 ,  0.205,  0.21 ,  0.05 ],\n",
       "        [ 0.255,  0.28 ,  0.205,  0.21 ,  0.05 ],\n",
       "        [ 0.255,  0.28 ,  0.205,  0.21 ,  0.05 ],\n",
       "        [ 0.255,  0.28 ,  0.205,  0.21 ,  0.05 ],\n",
       "        [ 0.255,  0.28 ,  0.205,  0.21 ,  0.05 ],\n",
       "        [ 0.255,  0.28 ,  0.205,  0.21 ,  0.05 ],\n",
       "        [ 0.255,  0.28 ,  0.205,  0.21 ,  0.05 ],\n",
       "        [ 0.255,  0.28 ,  0.205,  0.21 ,  0.05 ],\n",
       "        [ 0.255,  0.28 ,  0.205,  0.21 ,  0.05 ]]))"
      ]
     },
     "execution_count": 69,
     "metadata": {},
     "output_type": "execute_result"
    }
   ],
   "source": [
    "chi2_contingency(pd.crosstab(df['chol'],df['Pred']))"
   ]
  },
  {
   "cell_type": "code",
   "execution_count": 70,
   "metadata": {},
   "outputs": [
    {
     "data": {
      "text/plain": [
       "(4.680764518145852,\n",
       " 0.7910876125635928,\n",
       " 8,\n",
       " array([[ 1.785,  1.96 ,  1.435,  1.47 ,  0.35 ],\n",
       "        [31.875, 35.   , 25.625, 26.25 ,  6.25 ],\n",
       "        [17.34 , 19.04 , 13.94 , 14.28 ,  3.4  ]]))"
      ]
     },
     "execution_count": 70,
     "metadata": {},
     "output_type": "execute_result"
    }
   ],
   "source": [
    "chi2_contingency(pd.crosstab(df['fbs'],df['Pred']))"
   ]
  },
  {
   "cell_type": "code",
   "execution_count": 71,
   "metadata": {},
   "outputs": [
    {
     "data": {
      "text/plain": [
       "(252.86762208334784,\n",
       " 0.2150132308857281,\n",
       " 236,\n",
       " array([[13.515, 14.84 , 10.865, 11.13 ,  2.65 ],\n",
       "        [ 1.02 ,  1.12 ,  0.82 ,  0.84 ,  0.2  ],\n",
       "        [ 0.765,  0.84 ,  0.615,  0.63 ,  0.15 ],\n",
       "        [ 1.02 ,  1.12 ,  0.82 ,  0.84 ,  0.2  ],\n",
       "        [ 0.765,  0.84 ,  0.615,  0.63 ,  0.15 ],\n",
       "        [ 0.255,  0.28 ,  0.205,  0.21 ,  0.05 ],\n",
       "        [ 0.765,  0.84 ,  0.615,  0.63 ,  0.15 ],\n",
       "        [ 2.04 ,  2.24 ,  1.64 ,  1.68 ,  0.4  ],\n",
       "        [ 0.51 ,  0.56 ,  0.41 ,  0.42 ,  0.1  ],\n",
       "        [ 1.53 ,  1.68 ,  1.23 ,  1.26 ,  0.3  ],\n",
       "        [ 0.255,  0.28 ,  0.205,  0.21 ,  0.05 ],\n",
       "        [ 0.255,  0.28 ,  0.205,  0.21 ,  0.05 ],\n",
       "        [ 0.765,  0.84 ,  0.615,  0.63 ,  0.15 ],\n",
       "        [ 1.02 ,  1.12 ,  0.82 ,  0.84 ,  0.2  ],\n",
       "        [ 0.51 ,  0.56 ,  0.41 ,  0.42 ,  0.1  ],\n",
       "        [ 3.06 ,  3.36 ,  2.46 ,  2.52 ,  0.6  ],\n",
       "        [ 0.255,  0.28 ,  0.205,  0.21 ,  0.05 ],\n",
       "        [ 0.765,  0.84 ,  0.615,  0.63 ,  0.15 ],\n",
       "        [ 0.255,  0.28 ,  0.205,  0.21 ,  0.05 ],\n",
       "        [ 0.255,  0.28 ,  0.205,  0.21 ,  0.05 ],\n",
       "        [ 0.765,  0.84 ,  0.615,  0.63 ,  0.15 ],\n",
       "        [ 0.255,  0.28 ,  0.205,  0.21 ,  0.05 ],\n",
       "        [ 0.51 ,  0.56 ,  0.41 ,  0.42 ,  0.1  ],\n",
       "        [ 1.02 ,  1.12 ,  0.82 ,  0.84 ,  0.2  ],\n",
       "        [ 0.51 ,  0.56 ,  0.41 ,  0.42 ,  0.1  ],\n",
       "        [ 1.53 ,  1.68 ,  1.23 ,  1.26 ,  0.3  ],\n",
       "        [ 0.255,  0.28 ,  0.205,  0.21 ,  0.05 ],\n",
       "        [ 0.255,  0.28 ,  0.205,  0.21 ,  0.05 ],\n",
       "        [ 0.255,  0.28 ,  0.205,  0.21 ,  0.05 ],\n",
       "        [ 0.765,  0.84 ,  0.615,  0.63 ,  0.15 ],\n",
       "        [ 0.51 ,  0.56 ,  0.41 ,  0.42 ,  0.1  ],\n",
       "        [ 3.06 ,  3.36 ,  2.46 ,  2.52 ,  0.6  ],\n",
       "        [ 0.255,  0.28 ,  0.205,  0.21 ,  0.05 ],\n",
       "        [ 0.255,  0.28 ,  0.205,  0.21 ,  0.05 ],\n",
       "        [ 0.255,  0.28 ,  0.205,  0.21 ,  0.05 ],\n",
       "        [ 0.765,  0.84 ,  0.615,  0.63 ,  0.15 ],\n",
       "        [ 0.255,  0.28 ,  0.205,  0.21 ,  0.05 ],\n",
       "        [ 1.02 ,  1.12 ,  0.82 ,  0.84 ,  0.2  ],\n",
       "        [ 0.255,  0.28 ,  0.205,  0.21 ,  0.05 ],\n",
       "        [ 0.51 ,  0.56 ,  0.41 ,  0.42 ,  0.1  ],\n",
       "        [ 0.255,  0.28 ,  0.205,  0.21 ,  0.05 ],\n",
       "        [ 0.255,  0.28 ,  0.205,  0.21 ,  0.05 ],\n",
       "        [ 0.255,  0.28 ,  0.205,  0.21 ,  0.05 ],\n",
       "        [ 1.02 ,  1.12 ,  0.82 ,  0.84 ,  0.2  ],\n",
       "        [ 0.255,  0.28 ,  0.205,  0.21 ,  0.05 ],\n",
       "        [ 0.255,  0.28 ,  0.205,  0.21 ,  0.05 ],\n",
       "        [ 0.51 ,  0.56 ,  0.41 ,  0.42 ,  0.1  ],\n",
       "        [ 0.51 ,  0.56 ,  0.41 ,  0.42 ,  0.1  ],\n",
       "        [ 0.255,  0.28 ,  0.205,  0.21 ,  0.05 ],\n",
       "        [ 0.255,  0.28 ,  0.205,  0.21 ,  0.05 ],\n",
       "        [ 0.51 ,  0.56 ,  0.41 ,  0.42 ,  0.1  ],\n",
       "        [ 0.765,  0.84 ,  0.615,  0.63 ,  0.15 ],\n",
       "        [ 0.765,  0.84 ,  0.615,  0.63 ,  0.15 ],\n",
       "        [ 0.255,  0.28 ,  0.205,  0.21 ,  0.05 ],\n",
       "        [ 0.255,  0.28 ,  0.205,  0.21 ,  0.05 ],\n",
       "        [ 0.255,  0.28 ,  0.205,  0.21 ,  0.05 ],\n",
       "        [ 0.51 ,  0.56 ,  0.41 ,  0.42 ,  0.1  ],\n",
       "        [ 0.255,  0.28 ,  0.205,  0.21 ,  0.05 ],\n",
       "        [ 0.51 ,  0.56 ,  0.41 ,  0.42 ,  0.1  ],\n",
       "        [ 0.255,  0.28 ,  0.205,  0.21 ,  0.05 ]]))"
      ]
     },
     "execution_count": 71,
     "metadata": {},
     "output_type": "execute_result"
    }
   ],
   "source": [
    "chi2_contingency(pd.crosstab(df['thalach'],df['Pred']))"
   ]
  },
  {
   "cell_type": "code",
   "execution_count": 72,
   "metadata": {},
   "outputs": [
    {
     "data": {
      "text/plain": [
       "(19.920232951927517,\n",
       " 0.0106420852494012,\n",
       " 8,\n",
       " array([[13.515, 14.84 , 10.865, 11.13 ,  2.65 ],\n",
       "        [13.26 , 14.56 , 10.66 , 10.92 ,  2.6  ],\n",
       "        [24.225, 26.6  , 19.475, 19.95 ,  4.75 ]]))"
      ]
     },
     "execution_count": 72,
     "metadata": {},
     "output_type": "execute_result"
    }
   ],
   "source": [
    "chi2_contingency(pd.crosstab(df['exang'],df['Pred']))"
   ]
  },
  {
   "cell_type": "code",
   "execution_count": 73,
   "metadata": {},
   "outputs": [
    {
     "data": {
      "text/plain": [
       "(97.51466026477298,\n",
       " 0.0004953733070422378,\n",
       " 56,\n",
       " array([[14.28 , 15.68 , 11.48 , 11.76 ,  2.8  ],\n",
       "        [ 0.255,  0.28 ,  0.205,  0.21 ,  0.05 ],\n",
       "        [10.2  , 11.2  ,  8.2  ,  8.4  ,  2.   ],\n",
       "        [ 1.785,  1.96 ,  1.435,  1.47 ,  0.35 ],\n",
       "        [ 0.255,  0.28 ,  0.205,  0.21 ,  0.05 ],\n",
       "        [ 4.59 ,  5.04 ,  3.69 ,  3.78 ,  0.9  ],\n",
       "        [ 0.51 ,  0.56 ,  0.41 ,  0.42 ,  0.1  ],\n",
       "        [ 5.355,  5.88 ,  4.305,  4.41 ,  1.05 ],\n",
       "        [ 0.255,  0.28 ,  0.205,  0.21 ,  0.05 ],\n",
       "        [ 0.255,  0.28 ,  0.205,  0.21 ,  0.05 ],\n",
       "        [ 6.375,  7.   ,  5.125,  5.25 ,  1.25 ],\n",
       "        [ 2.295,  2.52 ,  1.845,  1.89 ,  0.45 ],\n",
       "        [ 3.315,  3.64 ,  2.665,  2.73 ,  0.65 ],\n",
       "        [ 0.255,  0.28 ,  0.205,  0.21 ,  0.05 ],\n",
       "        [ 1.02 ,  1.12 ,  0.82 ,  0.84 ,  0.2  ]]))"
      ]
     },
     "execution_count": 73,
     "metadata": {},
     "output_type": "execute_result"
    }
   ],
   "source": [
    "chi2_contingency(pd.crosstab(df['oldpeak'],df['Pred']))"
   ]
  },
  {
   "cell_type": "code",
   "execution_count": 74,
   "metadata": {},
   "outputs": [
    {
     "data": {
      "text/plain": [
       "(24.68068863993994,\n",
       " 0.0164106118556651,\n",
       " 12,\n",
       " array([[26.01 , 28.56 , 20.91 , 21.42 ,  5.1  ],\n",
       "        [ 4.08 ,  4.48 ,  3.28 ,  3.36 ,  0.8  ],\n",
       "        [13.515, 14.84 , 10.865, 11.13 ,  2.65 ],\n",
       "        [ 7.395,  8.12 ,  5.945,  6.09 ,  1.45 ]]))"
      ]
     },
     "execution_count": 74,
     "metadata": {},
     "output_type": "execute_result"
    }
   ],
   "source": [
    "chi2_contingency(pd.crosstab(df['slope'],df['Pred']))"
   ]
  },
  {
   "cell_type": "code",
   "execution_count": 75,
   "metadata": {},
   "outputs": [
    {
     "data": {
      "text/plain": [
       "(1.7641399994341167,\n",
       " 0.7790361995606387,\n",
       " 4,\n",
       " array([[50.49, 55.44, 40.59, 41.58,  9.9 ],\n",
       "        [ 0.51,  0.56,  0.41,  0.42,  0.1 ]]))"
      ]
     },
     "execution_count": 75,
     "metadata": {},
     "output_type": "execute_result"
    }
   ],
   "source": [
    "chi2_contingency(pd.crosstab(df['ca'],df['Pred']))"
   ]
  },
  {
   "cell_type": "code",
   "execution_count": 76,
   "metadata": {},
   "outputs": [
    {
     "data": {
      "text/plain": [
       "(16.88323707919307,\n",
       " 0.15404258426008385,\n",
       " 12,\n",
       " array([[42.33, 46.48, 34.03, 34.86,  8.3 ],\n",
       "        [ 1.02,  1.12,  0.82,  0.84,  0.2 ],\n",
       "        [ 2.04,  2.24,  1.64,  1.68,  0.4 ],\n",
       "        [ 5.61,  6.16,  4.51,  4.62,  1.1 ]]))"
      ]
     },
     "execution_count": 76,
     "metadata": {},
     "output_type": "execute_result"
    }
   ],
   "source": [
    "chi2_contingency(pd.crosstab(df['thal'],df['Pred']))"
   ]
  },
  {
   "cell_type": "code",
   "execution_count": 77,
   "metadata": {},
   "outputs": [
    {
     "data": {
      "text/plain": [
       "<matplotlib.axes._subplots.AxesSubplot at 0x1d91cd3c088>"
      ]
     },
     "execution_count": 77,
     "metadata": {},
     "output_type": "execute_result"
    },
    {
     "data": {
      "image/png": "[encoded data removed]",
      "text/plain": [
       "<Figure size 432x288 with 1 Axes>"
      ]
     },
     "metadata": {
      "needs_background": "light"
     },
     "output_type": "display_data"
    }
   ],
   "source": [
    "#Univariate Outlier Detection\n",
    "\n",
    "df['Age'].plot.box()"
   ]
  },
  {
   "cell_type": "code",
   "execution_count": 75,
   "metadata": {},
   "outputs": [
    {
     "name": "stdout",
     "output_type": "stream",
     "text": [
      "First Quartile 56.0\n",
      "Second Quartile 60.0\n",
      "Third Quartile 64.0\n",
      "Fourth Quartile 77.0\n",
      "8.0\n",
      "LR= 44.0\n",
      "UR= 76.0\n"
     ]
    },
    {
     "data": {
      "text/plain": [
       "<matplotlib.axes._subplots.AxesSubplot at 0x228f2683fc8>"
      ]
     },
     "execution_count": 75,
     "metadata": {},
     "output_type": "execute_result"
    },
    {
     "data": {
      "image/png": "[encoded data removed]",
      "text/plain": [
       "<Figure size 432x288 with 1 Axes>"
      ]
     },
     "metadata": {
      "needs_background": "light"
     },
     "output_type": "display_data"
    }
   ],
   "source": [
    "Q1=df['Age'].quantile(0.25)\n",
    "Q2=df['Age'].quantile(0.50)\n",
    "Q3=df['Age'].quantile(0.75)\n",
    "Q4=df['Age'].quantile(1)\n",
    "print(\"First Quartile\",Q1)\n",
    "print(\"Second Quartile\",Q2)\n",
    "print(\"Third Quartile\",Q3)\n",
    "print(\"Fourth Quartile\",Q4)\n",
    "IQR=Q3-Q1\n",
    "print(IQR)\n",
    "LR=Q1-1.5*IQR\n",
    "UR=Q3+1.5*IQR\n",
    "print('LR=',LR)\n",
    "print('UR=',UR)\n",
    "df.loc[df['Age']<=LR,'Age']=np.mean(df['Age'])\n",
    "#Verifying\n",
    "df['Age'].plot.box()"
   ]
  },
  {
   "cell_type": "code",
   "execution_count": 88,
   "metadata": {},
   "outputs": [
    {
     "data": {
      "text/plain": [
       "<matplotlib.axes._subplots.AxesSubplot at 0x1d91d1a79c8>"
      ]
     },
     "execution_count": 88,
     "metadata": {},
     "output_type": "execute_result"
    },
    {
     "data": {
      "image/png": "[encoded data removed]",
      "text/plain": [
       "<Figure size 432x288 with 1 Axes>"
      ]
     },
     "metadata": {
      "needs_background": "light"
     },
     "output_type": "display_data"
    }
   ],
   "source": [
    "df['cp'].plot.box()"
   ]
  },
  {
   "cell_type": "code",
   "execution_count": 76,
   "metadata": {},
   "outputs": [
    {
     "name": "stdout",
     "output_type": "stream",
     "text": [
      "First Quartile 3.0\n",
      "Second Quartile 4.0\n",
      "Third Quartile 4.0\n",
      "Fourth Quartile 4.0\n",
      "1.0\n",
      "LR= 1.5\n",
      "UR= 5.5\n"
     ]
    },
    {
     "data": {
      "text/plain": [
       "<matplotlib.axes._subplots.AxesSubplot at 0x228f26cb388>"
      ]
     },
     "execution_count": 76,
     "metadata": {},
     "output_type": "execute_result"
    },
    {
     "data": {
      "image/png": "[encoded data removed]",
      "text/plain": [
       "<Figure size 432x288 with 1 Axes>"
      ]
     },
     "metadata": {
      "needs_background": "light"
     },
     "output_type": "display_data"
    }
   ],
   "source": [
    "Q1=df['cp'].quantile(0.25)\n",
    "Q2=df['cp'].quantile(0.50)\n",
    "Q3=df['cp'].quantile(0.75)\n",
    "Q4=df['cp'].quantile(1)\n",
    "print(\"First Quartile\",Q1)\n",
    "print(\"Second Quartile\",Q2)\n",
    "print(\"Third Quartile\",Q3)\n",
    "print(\"Fourth Quartile\",Q4)\n",
    "IQR=Q3-Q1\n",
    "print(IQR)\n",
    "LR=Q1-1.5*IQR\n",
    "UR=Q3+1.5*IQR\n",
    "print('LR=',LR)\n",
    "print('UR=',UR)\n",
    "df.loc[df['cp']<=LR,'cp']=np.mean(df['cp'])\n",
    "#Verifying\n",
    "df['cp'].plot.box()"
   ]
  },
  {
   "cell_type": "code",
   "execution_count": 90,
   "metadata": {},
   "outputs": [
    {
     "data": {
      "text/plain": [
       "<matplotlib.axes._subplots.AxesSubplot at 0x1d91d27e188>"
      ]
     },
     "execution_count": 90,
     "metadata": {},
     "output_type": "execute_result"
    },
    {
     "data": {
      "image/png": "[encoded data removed]",
      "text/plain": [
       "<Figure size 432x288 with 1 Axes>"
      ]
     },
     "metadata": {
      "needs_background": "light"
     },
     "output_type": "display_data"
    }
   ],
   "source": [
    "df['restecg'].plot.box()"
   ]
  },
  {
   "cell_type": "code",
   "execution_count": 92,
   "metadata": {},
   "outputs": [
    {
     "data": {
      "text/html": [
       "<div>\n",
       "<style scoped>\n",
       "    .dataframe tbody tr th:only-of-type {\n",
       "        vertical-align: middle;\n",
       "    }\n",
       "\n",
       "    .dataframe tbody tr th {\n",
       "        vertical-align: top;\n",
       "    }\n",
       "\n",
       "    .dataframe thead th {\n",
       "        text-align: right;\n",
       "    }\n",
       "</style>\n",
       "<table border=\"1\" class=\"dataframe\">\n",
       "  <thead>\n",
       "    <tr style=\"text-align: right;\">\n",
       "      <th></th>\n",
       "      <th>Age</th>\n",
       "      <th>sex</th>\n",
       "      <th>cp</th>\n",
       "      <th>restecg</th>\n",
       "      <th>Pred</th>\n",
       "    </tr>\n",
       "  </thead>\n",
       "  <tbody>\n",
       "    <tr>\n",
       "      <td>Age</td>\n",
       "      <td>1.000000</td>\n",
       "      <td>0.068465</td>\n",
       "      <td>0.036743</td>\n",
       "      <td>-0.042488</td>\n",
       "      <td>0.196985</td>\n",
       "    </tr>\n",
       "    <tr>\n",
       "      <td>sex</td>\n",
       "      <td>0.068465</td>\n",
       "      <td>1.000000</td>\n",
       "      <td>0.078715</td>\n",
       "      <td>0.060621</td>\n",
       "      <td>0.147470</td>\n",
       "    </tr>\n",
       "    <tr>\n",
       "      <td>cp</td>\n",
       "      <td>0.036743</td>\n",
       "      <td>0.078715</td>\n",
       "      <td>1.000000</td>\n",
       "      <td>0.018844</td>\n",
       "      <td>0.217094</td>\n",
       "    </tr>\n",
       "    <tr>\n",
       "      <td>restecg</td>\n",
       "      <td>-0.042488</td>\n",
       "      <td>0.060621</td>\n",
       "      <td>0.018844</td>\n",
       "      <td>1.000000</td>\n",
       "      <td>-0.032800</td>\n",
       "    </tr>\n",
       "    <tr>\n",
       "      <td>Pred</td>\n",
       "      <td>0.196985</td>\n",
       "      <td>0.147470</td>\n",
       "      <td>0.217094</td>\n",
       "      <td>-0.032800</td>\n",
       "      <td>1.000000</td>\n",
       "    </tr>\n",
       "  </tbody>\n",
       "</table>\n",
       "</div>"
      ],
      "text/plain": [
       "              Age       sex        cp   restecg      Pred\n",
       "Age      1.000000  0.068465  0.036743 -0.042488  0.196985\n",
       "sex      0.068465  1.000000  0.078715  0.060621  0.147470\n",
       "cp       0.036743  0.078715  1.000000  0.018844  0.217094\n",
       "restecg -0.042488  0.060621  0.018844  1.000000 -0.032800\n",
       "Pred     0.196985  0.147470  0.217094 -0.032800  1.000000"
      ]
     },
     "execution_count": 92,
     "metadata": {},
     "output_type": "execute_result"
    }
   ],
   "source": [
    "df.corr()"
   ]
  },
  {
   "cell_type": "code",
   "execution_count": 77,
   "metadata": {},
   "outputs": [
    {
     "data": {
      "text/plain": [
       "((200, 13), (200,))"
      ]
     },
     "execution_count": 77,
     "metadata": {},
     "output_type": "execute_result"
    }
   ],
   "source": [
    "x=df.drop(['Pred'],axis=1)\n",
    "y=df['Pred']\n",
    "x.shape,y.shape"
   ]
  },
  {
   "cell_type": "code",
   "execution_count": 78,
   "metadata": {},
   "outputs": [],
   "source": [
    "from sklearn.preprocessing import MinMaxScaler\n",
    "scaler=MinMaxScaler()\n",
    "x_scaled=scaler.fit_transform(x)"
   ]
  },
  {
   "cell_type": "code",
   "execution_count": 79,
   "metadata": {},
   "outputs": [],
   "source": [
    "x=pd.DataFrame(x_scaled,columns=x.columns)"
   ]
  },
  {
   "cell_type": "code",
   "execution_count": 80,
   "metadata": {},
   "outputs": [
    {
     "data": {
      "text/html": [
       "<div>\n",
       "<style scoped>\n",
       "    .dataframe tbody tr th:only-of-type {\n",
       "        vertical-align: middle;\n",
       "    }\n",
       "\n",
       "    .dataframe tbody tr th {\n",
       "        vertical-align: top;\n",
       "    }\n",
       "\n",
       "    .dataframe thead th {\n",
       "        text-align: right;\n",
       "    }\n",
       "</style>\n",
       "<table border=\"1\" class=\"dataframe\">\n",
       "  <thead>\n",
       "    <tr style=\"text-align: right;\">\n",
       "      <th></th>\n",
       "      <th>Age</th>\n",
       "      <th>sex</th>\n",
       "      <th>cp</th>\n",
       "      <th>trestbps</th>\n",
       "      <th>chol</th>\n",
       "      <th>fbs</th>\n",
       "      <th>restecg</th>\n",
       "      <th>thalach</th>\n",
       "      <th>exang</th>\n",
       "      <th>oldpeak</th>\n",
       "      <th>slope</th>\n",
       "      <th>ca</th>\n",
       "      <th>thal</th>\n",
       "    </tr>\n",
       "  </thead>\n",
       "  <tbody>\n",
       "    <tr>\n",
       "      <td>0</td>\n",
       "      <td>0.562500</td>\n",
       "      <td>1.0</td>\n",
       "      <td>1.0</td>\n",
       "      <td>0.736842</td>\n",
       "      <td>0.567686</td>\n",
       "      <td>0.0</td>\n",
       "      <td>0.5</td>\n",
       "      <td>0.622222</td>\n",
       "      <td>1.0</td>\n",
       "      <td>0.777778</td>\n",
       "      <td>0.666667</td>\n",
       "      <td>0.0</td>\n",
       "      <td>0.0</td>\n",
       "    </tr>\n",
       "    <tr>\n",
       "      <td>1</td>\n",
       "      <td>0.470852</td>\n",
       "      <td>1.0</td>\n",
       "      <td>1.0</td>\n",
       "      <td>0.684211</td>\n",
       "      <td>0.456332</td>\n",
       "      <td>0.0</td>\n",
       "      <td>0.5</td>\n",
       "      <td>0.705556</td>\n",
       "      <td>0.0</td>\n",
       "      <td>0.111111</td>\n",
       "      <td>0.000000</td>\n",
       "      <td>0.0</td>\n",
       "      <td>0.0</td>\n",
       "    </tr>\n",
       "    <tr>\n",
       "      <td>2</td>\n",
       "      <td>0.468750</td>\n",
       "      <td>1.0</td>\n",
       "      <td>1.0</td>\n",
       "      <td>0.694737</td>\n",
       "      <td>0.475983</td>\n",
       "      <td>0.0</td>\n",
       "      <td>0.5</td>\n",
       "      <td>0.777778</td>\n",
       "      <td>1.0</td>\n",
       "      <td>0.444444</td>\n",
       "      <td>1.000000</td>\n",
       "      <td>0.0</td>\n",
       "      <td>0.0</td>\n",
       "    </tr>\n",
       "    <tr>\n",
       "      <td>3</td>\n",
       "      <td>0.312500</td>\n",
       "      <td>1.0</td>\n",
       "      <td>1.0</td>\n",
       "      <td>0.747368</td>\n",
       "      <td>0.497817</td>\n",
       "      <td>0.0</td>\n",
       "      <td>0.5</td>\n",
       "      <td>0.827778</td>\n",
       "      <td>1.0</td>\n",
       "      <td>0.666667</td>\n",
       "      <td>0.333333</td>\n",
       "      <td>0.0</td>\n",
       "      <td>0.0</td>\n",
       "    </tr>\n",
       "    <tr>\n",
       "      <td>4</td>\n",
       "      <td>0.656250</td>\n",
       "      <td>1.0</td>\n",
       "      <td>0.5</td>\n",
       "      <td>0.578947</td>\n",
       "      <td>0.465066</td>\n",
       "      <td>1.0</td>\n",
       "      <td>1.0</td>\n",
       "      <td>0.550000</td>\n",
       "      <td>1.0</td>\n",
       "      <td>0.400000</td>\n",
       "      <td>0.666667</td>\n",
       "      <td>0.0</td>\n",
       "      <td>0.0</td>\n",
       "    </tr>\n",
       "  </tbody>\n",
       "</table>\n",
       "</div>"
      ],
      "text/plain": [
       "        Age  sex   cp  trestbps      chol  fbs  restecg   thalach  exang  \\\n",
       "0  0.562500  1.0  1.0  0.736842  0.567686  0.0      0.5  0.622222    1.0   \n",
       "1  0.470852  1.0  1.0  0.684211  0.456332  0.0      0.5  0.705556    0.0   \n",
       "2  0.468750  1.0  1.0  0.694737  0.475983  0.0      0.5  0.777778    1.0   \n",
       "3  0.312500  1.0  1.0  0.747368  0.497817  0.0      0.5  0.827778    1.0   \n",
       "4  0.656250  1.0  0.5  0.578947  0.465066  1.0      1.0  0.550000    1.0   \n",
       "\n",
       "    oldpeak     slope   ca  thal  \n",
       "0  0.777778  0.666667  0.0   0.0  \n",
       "1  0.111111  0.000000  0.0   0.0  \n",
       "2  0.444444  1.000000  0.0   0.0  \n",
       "3  0.666667  0.333333  0.0   0.0  \n",
       "4  0.400000  0.666667  0.0   0.0  "
      ]
     },
     "execution_count": 80,
     "metadata": {},
     "output_type": "execute_result"
    }
   ],
   "source": [
    "x.head()"
   ]
  },
  {
   "cell_type": "code",
   "execution_count": 81,
   "metadata": {},
   "outputs": [],
   "source": [
    "from sklearn.model_selection import train_test_split\n",
    "train_x,test_x,train_y,test_y=train_test_split(x,y, random_state=56,stratify=y,test_size=0.25)"
   ]
  },
  {
   "cell_type": "code",
   "execution_count": 82,
   "metadata": {},
   "outputs": [],
   "source": [
    "from sklearn.neighbors import KNeighborsClassifier as KNN\n",
    "from sklearn.metrics import accuracy_score"
   ]
  },
  {
   "cell_type": "code",
   "execution_count": 83,
   "metadata": {},
   "outputs": [
    {
     "data": {
      "text/plain": [
       "KNeighborsClassifier(algorithm='auto', leaf_size=30, metric='minkowski',\n",
       "                     metric_params=None, n_jobs=None, n_neighbors=12, p=2,\n",
       "                     weights='uniform')"
      ]
     },
     "execution_count": 83,
     "metadata": {},
     "output_type": "execute_result"
    }
   ],
   "source": [
    "clf=KNN(n_neighbors=12)\n",
    "clf.fit(train_x,train_y)"
   ]
  },
  {
   "cell_type": "code",
   "execution_count": 84,
   "metadata": {},
   "outputs": [],
   "source": [
    "from sklearn.model_selection import GridSearchCV"
   ]
  },
  {
   "cell_type": "code",
   "execution_count": 85,
   "metadata": {},
   "outputs": [],
   "source": [
    "clf=KNN()"
   ]
  },
  {
   "cell_type": "code",
   "execution_count": 86,
   "metadata": {},
   "outputs": [],
   "source": [
    "from sklearn.model_selection import cross_val_score\n",
    "from sklearn.model_selection import cross_val_predict\n",
    "from sklearn.metrics import confusion_matrix\n",
    "from sklearn.metrics import f1_score"
   ]
  },
  {
   "cell_type": "code",
   "execution_count": 112,
   "metadata": {},
   "outputs": [
    {
     "name": "stdout",
     "output_type": "stream",
     "text": [
      "Score: [0.34285714 0.31428571 0.26470588 0.36363636 0.3125     0.32258065]\n",
      "Mean Scores 0.32009429138224205\n",
      "Standard deviation 0.030494617292368086\n"
     ]
    }
   ],
   "source": [
    "score=cross_val_score(clf,x,y,cv=6)\n",
    "print('Score:',score)\n",
    "print('Mean Scores',score.mean())\n",
    "print('Standard deviation',score.std())"
   ]
  },
  {
   "cell_type": "code",
   "execution_count": 113,
   "metadata": {},
   "outputs": [],
   "source": [
    "def Val_score(k):\n",
    "    avg=[]\n",
    "    std=[]\n",
    "    for i in k:\n",
    "        score=cross_val_score(clf,X=train_x,y=train_y,cv=i)\n",
    "        avg.append(score.mean())\n",
    "        std.append(score.std())\n",
    "        return avg, std"
   ]
  },
  {
   "cell_type": "code",
   "execution_count": 114,
   "metadata": {},
   "outputs": [],
   "source": [
    "k=range(5,10)\n",
    "mean,std=Val_score(k)"
   ]
  },
  {
   "cell_type": "code",
   "execution_count": 115,
   "metadata": {},
   "outputs": [
    {
     "data": {
      "text/html": [
       "<div>\n",
       "<style scoped>\n",
       "    .dataframe tbody tr th:only-of-type {\n",
       "        vertical-align: middle;\n",
       "    }\n",
       "\n",
       "    .dataframe tbody tr th {\n",
       "        vertical-align: top;\n",
       "    }\n",
       "\n",
       "    .dataframe thead th {\n",
       "        text-align: right;\n",
       "    }\n",
       "</style>\n",
       "<table border=\"1\" class=\"dataframe\">\n",
       "  <thead>\n",
       "    <tr style=\"text-align: right;\">\n",
       "      <th></th>\n",
       "      <th>Avg_cv_score</th>\n",
       "      <th>Std_cv_score</th>\n",
       "    </tr>\n",
       "  </thead>\n",
       "  <tbody>\n",
       "    <tr>\n",
       "      <td>5</td>\n",
       "      <td>0.259242</td>\n",
       "      <td>0.084059</td>\n",
       "    </tr>\n",
       "    <tr>\n",
       "      <td>6</td>\n",
       "      <td>0.259242</td>\n",
       "      <td>0.084059</td>\n",
       "    </tr>\n",
       "    <tr>\n",
       "      <td>7</td>\n",
       "      <td>0.259242</td>\n",
       "      <td>0.084059</td>\n",
       "    </tr>\n",
       "    <tr>\n",
       "      <td>8</td>\n",
       "      <td>0.259242</td>\n",
       "      <td>0.084059</td>\n",
       "    </tr>\n",
       "    <tr>\n",
       "      <td>9</td>\n",
       "      <td>0.259242</td>\n",
       "      <td>0.084059</td>\n",
       "    </tr>\n",
       "  </tbody>\n",
       "</table>\n",
       "</div>"
      ],
      "text/plain": [
       "   Avg_cv_score  Std_cv_score\n",
       "5      0.259242      0.084059\n",
       "6      0.259242      0.084059\n",
       "7      0.259242      0.084059\n",
       "8      0.259242      0.084059\n",
       "9      0.259242      0.084059"
      ]
     },
     "execution_count": 115,
     "metadata": {},
     "output_type": "execute_result"
    }
   ],
   "source": [
    "score=pd.DataFrame({'Avg_cv_score':mean,'Std_cv_score':std},index=k)\n",
    "score"
   ]
  },
  {
   "cell_type": "code",
   "execution_count": 116,
   "metadata": {},
   "outputs": [],
   "source": [
    "#We can see that at cv=6 we get the maximum cross validation score i.e. 0.32009429138224205.\n",
    "\n",
    "grid_params={\n",
    "    'metric':['manhattan','euclidean','minkowski','hamming'],\n",
    "    'n_neighbors':[5,6,7,8,9,10,11,12,13,14,15,16,17,18,19,20,21],\n",
    "    'weights':['uniform','distance']\n",
    "}"
   ]
  },
  {
   "cell_type": "code",
   "execution_count": 117,
   "metadata": {},
   "outputs": [],
   "source": [
    "grid_search=GridSearchCV(estimator=clf,\n",
    "                        param_grid=grid_params,\n",
    "                        scoring='accuracy',\n",
    "                        cv=6,\n",
    "                        n_jobs=-1)"
   ]
  },
  {
   "cell_type": "code",
   "execution_count": 118,
   "metadata": {},
   "outputs": [
    {
     "name": "stderr",
     "output_type": "stream",
     "text": [
      "C:\\Users\\acer\\Anaconda3\\lib\\site-packages\\sklearn\\model_selection\\_search.py:814: DeprecationWarning: The default of the `iid` parameter will change from True to False in version 0.22 and will be removed in 0.24. This will change numeric results when test-set sizes are unequal.\n",
      "  DeprecationWarning)\n"
     ]
    }
   ],
   "source": [
    "grid_search=grid_search.fit(train_x,train_y)"
   ]
  },
  {
   "cell_type": "code",
   "execution_count": 119,
   "metadata": {},
   "outputs": [
    {
     "name": "stdout",
     "output_type": "stream",
     "text": [
      "{'metric': 'manhattan', 'n_neighbors': 15, 'weights': 'uniform'}\n"
     ]
    }
   ],
   "source": [
    "best_parameters=grid_search.best_params_\n",
    "\n",
    "print(best_parameters)"
   ]
  },
  {
   "cell_type": "code",
   "execution_count": 120,
   "metadata": {},
   "outputs": [
    {
     "name": "stdout",
     "output_type": "stream",
     "text": [
      "0.38\n"
     ]
    }
   ],
   "source": [
    "best_result=grid_search.best_score_\n",
    "print(best_result)"
   ]
  },
  {
   "cell_type": "code",
   "execution_count": 121,
   "metadata": {},
   "outputs": [],
   "source": [
    "clf=KNN(n_neighbors= 15,metric='manhattan',weights='uniform')"
   ]
  },
  {
   "cell_type": "code",
   "execution_count": 134,
   "metadata": {},
   "outputs": [],
   "source": [
    "score=cross_val_score(clf,x,y,cv=9,scoring='accuracy')"
   ]
  },
  {
   "cell_type": "code",
   "execution_count": 135,
   "metadata": {},
   "outputs": [
    {
     "name": "stdout",
     "output_type": "stream",
     "text": [
      "Cross Val Score = [0.4        0.375      0.43478261 0.26086957 0.43478261 0.31818182\n",
      " 0.25       0.3        0.3       ]\n",
      "Cross Val Score Mean Scores =  0.3415129556433904\n",
      "Cross Val Score Standard deviation =  0.06733790683810219\n",
      "Y Prediction values\n",
      "[2 0 2 2 3 0 3 2 2 0 0 2 2 0 1 0 2 1 2 1 0 2 3 0 0 1 2 3 1 0 0 2 3 0 1 2 0\n",
      " 2 0 1 3 1 1 0 0 1 2 0 2 0 1 0 1 1 0 2 2 1 0 1 1 2 2 1 1 0 1 1 3 0 1 1 1 2\n",
      " 3 2 0 0 1 1 1 2 3 1 2 1 2 0 3 2 2 0 1 0 1 3 0 1 0 2 1 2 2 1 0 2 1 1 0 0 0\n",
      " 0 0 3 3 0 0 2 2 0 2 2 1 0 0 0 1 2 1 0 1 0 0 1 0 0 0 1 1 1 3 1 0 2 0 0 2 0\n",
      " 1 0 2 0 2 2 2 0 2 3 1 0 2 0 2 0 2 1 0 0 1 0 2 0 2 1 0 0 3 1 1 3 0 0 1 1 2\n",
      " 0 3 0 2 1 0 1 1 3 0 0 0 0 1 0]\n",
      "Accuracy Score Mean = 0.345\n"
     ]
    }
   ],
   "source": [
    "print('Cross Val Score =',score)\n",
    "print('Cross Val Score Mean Scores = ',score.mean())\n",
    "print('Cross Val Score Standard deviation = ',score.std())\n",
    "\n",
    "y_pred=cross_val_predict(clf,x,y,cv=9)\n",
    "print('Y Prediction values')\n",
    "print(y_pred)\n",
    "conf_mat=confusion_matrix(y,y_pred)\n",
    "conf_mat\n",
    "\n",
    "from sklearn.metrics import accuracy_score\n",
    "score1=accuracy_score(y,y_pred)\n",
    "print('Accuracy Score Mean =',score1.mean())"
   ]
  },
  {
   "cell_type": "code",
   "execution_count": 136,
   "metadata": {},
   "outputs": [
    {
     "data": {
      "text/plain": [
       "array([2, 0, 2, 2, 3, 0, 3, 2, 2, 0, 0, 2, 2, 0, 1, 0, 2, 1, 2, 1, 0, 2,\n",
       "       3, 0, 0, 1, 2, 3, 1, 0, 0, 2, 3, 0, 1, 2, 0, 2, 0, 1, 3, 1, 1, 0,\n",
       "       0, 1, 2, 0, 2, 0, 1, 0, 1, 1, 0, 2, 2, 1, 0, 1, 1, 2, 2, 1, 1, 0,\n",
       "       1, 1, 3, 0, 1, 1, 1, 2, 3, 2, 0, 0, 1, 1, 1, 2, 3, 1, 2, 1, 2, 0,\n",
       "       3, 2, 2, 0, 1, 0, 1, 3, 0, 1, 0, 2, 1, 2, 2, 1, 0, 2, 1, 1, 0, 0,\n",
       "       0, 0, 0, 3, 3, 0, 0, 2, 2, 0, 2, 2, 1, 0, 0, 0, 1, 2, 1, 0, 1, 0,\n",
       "       0, 1, 0, 0, 0, 1, 1, 1, 3, 1, 0, 2, 0, 0, 2, 0, 1, 0, 2, 0, 2, 2,\n",
       "       2, 0, 2, 3, 1, 0, 2, 0, 2, 0, 2, 1, 0, 0, 1, 0, 2, 0, 2, 1, 0, 0,\n",
       "       3, 1, 1, 3, 0, 0, 1, 1, 2, 0, 3, 0, 2, 1, 0, 1, 1, 3, 0, 0, 0, 0,\n",
       "       1, 0], dtype=int64)"
      ]
     },
     "execution_count": 136,
     "metadata": {},
     "output_type": "execute_result"
    }
   ],
   "source": [
    "#We will use cv=9 for which we are getting the maximum Cross Val Score = 0.3415129556433904 and Maximum Accuracy Score = 0.345. \n",
    "\n",
    "y_pred"
   ]
  },
  {
   "cell_type": "code",
   "execution_count": 87,
   "metadata": {},
   "outputs": [],
   "source": [
    "M1Pred=[2, 0, 2, 2, 3, 0, 3, 2, 2, 0, 0, 2, 2, 0, 1, 0, 2, 1, 2, 1, 0, 2,\n",
    "       3, 0, 0, 1, 2, 3, 1, 0, 0, 2, 3, 0, 1, 2, 0, 2, 0, 1, 3, 1, 1, 0,\n",
    "       0, 1, 2, 0, 2, 0, 1, 0, 1, 1, 0, 2, 2, 1, 0, 1, 1, 2, 2, 1, 1, 0,\n",
    "       1, 1, 3, 0, 1, 1, 1, 2, 3, 2, 0, 0, 1, 1, 1, 2, 3, 1, 2, 1, 2, 0,\n",
    "       3, 2, 2, 0, 1, 0, 1, 3, 0, 1, 0, 2, 1, 2, 2, 1, 0, 2, 1, 1, 0, 0,\n",
    "       0, 0, 0, 3, 3, 0, 0, 2, 2, 0, 2, 2, 1, 0, 0, 0, 1, 2, 1, 0, 1, 0,\n",
    "       0, 1, 0, 0, 0, 1, 1, 1, 3, 1, 0, 2, 0, 0, 2, 0, 1, 0, 2, 0, 2, 2,\n",
    "       2, 0, 2, 3, 1, 0, 2, 0, 2, 0, 2, 1, 0, 0, 1, 0, 2, 0, 2, 1, 0, 0,\n",
    "       3, 1, 1, 3, 0, 0, 1, 1, 2, 0, 3, 0, 2, 1, 0, 1, 1, 3, 0, 0, 0, 0,\n",
    "       1, 0]"
   ]
  },
  {
   "cell_type": "code",
   "execution_count": 88,
   "metadata": {},
   "outputs": [],
   "source": [
    "from sklearn.model_selection import train_test_split\n",
    "train_x,test_x,train_y,test_y=train_test_split(x,y, random_state=56,stratify=y,test_size=0.25)"
   ]
  },
  {
   "cell_type": "code",
   "execution_count": 89,
   "metadata": {},
   "outputs": [],
   "source": [
    "from sklearn.tree import DecisionTreeClassifier as DTC\n",
    "from sklearn.metrics import accuracy_score"
   ]
  },
  {
   "cell_type": "code",
   "execution_count": 90,
   "metadata": {},
   "outputs": [
    {
     "data": {
      "text/plain": [
       "DecisionTreeClassifier(class_weight=None, criterion='gini', max_depth=None,\n",
       "                       max_features=None, max_leaf_nodes=None,\n",
       "                       min_impurity_decrease=0.0, min_impurity_split=None,\n",
       "                       min_samples_leaf=1, min_samples_split=2,\n",
       "                       min_weight_fraction_leaf=0.0, presort=False,\n",
       "                       random_state=None, splitter='best')"
      ]
     },
     "execution_count": 90,
     "metadata": {},
     "output_type": "execute_result"
    }
   ],
   "source": [
    "dt_model=DTC()\n",
    "dt_model.fit(train_x,train_y)"
   ]
  },
  {
   "cell_type": "code",
   "execution_count": 91,
   "metadata": {},
   "outputs": [],
   "source": [
    "from sklearn.model_selection import GridSearchCV"
   ]
  },
  {
   "cell_type": "code",
   "execution_count": 92,
   "metadata": {},
   "outputs": [],
   "source": [
    "from sklearn.model_selection import cross_val_score\n",
    "from sklearn.model_selection import cross_val_predict\n",
    "from sklearn.metrics import confusion_matrix\n",
    "from sklearn.metrics import f1_score"
   ]
  },
  {
   "cell_type": "code",
   "execution_count": 155,
   "metadata": {},
   "outputs": [
    {
     "name": "stdout",
     "output_type": "stream",
     "text": [
      "Score: [0.34883721 0.35       0.25641026 0.23076923 0.38461538]\n",
      "Mean Scores 0.3141264162194395\n",
      "Standard deviation 0.05956512957180238\n"
     ]
    }
   ],
   "source": [
    "score=cross_val_score(dt_model,x,y,cv=5)\n",
    "print('Score:',score)\n",
    "print('Mean Scores',score.mean())\n",
    "print('Standard deviation',score.std())"
   ]
  },
  {
   "cell_type": "code",
   "execution_count": 146,
   "metadata": {},
   "outputs": [],
   "source": [
    "def Val_score(k):\n",
    "    avg=[]\n",
    "    std=[]\n",
    "    for i in k:\n",
    "        score=cross_val_score(dt_model,X=train_x,y=train_y,cv=i)\n",
    "        avg.append(score.mean())\n",
    "        std.append(score.std())\n",
    "        return avg, std"
   ]
  },
  {
   "cell_type": "code",
   "execution_count": 147,
   "metadata": {},
   "outputs": [],
   "source": [
    "k=range(5,10)\n",
    "mean,std=Val_score(k)"
   ]
  },
  {
   "cell_type": "code",
   "execution_count": 148,
   "metadata": {},
   "outputs": [
    {
     "data": {
      "text/html": [
       "<div>\n",
       "<style scoped>\n",
       "    .dataframe tbody tr th:only-of-type {\n",
       "        vertical-align: middle;\n",
       "    }\n",
       "\n",
       "    .dataframe tbody tr th {\n",
       "        vertical-align: top;\n",
       "    }\n",
       "\n",
       "    .dataframe thead th {\n",
       "        text-align: right;\n",
       "    }\n",
       "</style>\n",
       "<table border=\"1\" class=\"dataframe\">\n",
       "  <thead>\n",
       "    <tr style=\"text-align: right;\">\n",
       "      <th></th>\n",
       "      <th>Avg_cv_score</th>\n",
       "      <th>Std_cv_score</th>\n",
       "    </tr>\n",
       "  </thead>\n",
       "  <tbody>\n",
       "    <tr>\n",
       "      <td>5</td>\n",
       "      <td>0.27731</td>\n",
       "      <td>0.071028</td>\n",
       "    </tr>\n",
       "    <tr>\n",
       "      <td>6</td>\n",
       "      <td>0.27731</td>\n",
       "      <td>0.071028</td>\n",
       "    </tr>\n",
       "    <tr>\n",
       "      <td>7</td>\n",
       "      <td>0.27731</td>\n",
       "      <td>0.071028</td>\n",
       "    </tr>\n",
       "    <tr>\n",
       "      <td>8</td>\n",
       "      <td>0.27731</td>\n",
       "      <td>0.071028</td>\n",
       "    </tr>\n",
       "    <tr>\n",
       "      <td>9</td>\n",
       "      <td>0.27731</td>\n",
       "      <td>0.071028</td>\n",
       "    </tr>\n",
       "  </tbody>\n",
       "</table>\n",
       "</div>"
      ],
      "text/plain": [
       "   Avg_cv_score  Std_cv_score\n",
       "5       0.27731      0.071028\n",
       "6       0.27731      0.071028\n",
       "7       0.27731      0.071028\n",
       "8       0.27731      0.071028\n",
       "9       0.27731      0.071028"
      ]
     },
     "execution_count": 148,
     "metadata": {},
     "output_type": "execute_result"
    }
   ],
   "source": [
    "score=pd.DataFrame({'Avg_cv_score':mean,'Std_cv_score':std},index=k)\n",
    "score"
   ]
  },
  {
   "cell_type": "code",
   "execution_count": 156,
   "metadata": {},
   "outputs": [],
   "source": [
    "#We can see that at cv=5 we get the maximum cross validation score i.e. 0.33807990459153253.\n",
    "\n",
    "grid_params={\n",
    "    'criterion':['gini','entropy'],\n",
    "    'max_depth':[1,2,3,4,5,6,7,8,9,10,11,12],\n",
    "    'random_state':[25,30,35,40,45,50,55,60,65,70,75,80,85,90,95,100,105,110]\n",
    "}"
   ]
  },
  {
   "cell_type": "code",
   "execution_count": 157,
   "metadata": {},
   "outputs": [],
   "source": [
    "grid_search=GridSearchCV(estimator=dt_model,\n",
    "                        param_grid=grid_params,\n",
    "                        scoring='accuracy',\n",
    "                        cv=5,\n",
    "                        n_jobs=-1)"
   ]
  },
  {
   "cell_type": "code",
   "execution_count": 158,
   "metadata": {},
   "outputs": [
    {
     "name": "stderr",
     "output_type": "stream",
     "text": [
      "C:\\Users\\acer\\Anaconda3\\lib\\site-packages\\sklearn\\model_selection\\_search.py:814: DeprecationWarning: The default of the `iid` parameter will change from True to False in version 0.22 and will be removed in 0.24. This will change numeric results when test-set sizes are unequal.\n",
      "  DeprecationWarning)\n"
     ]
    }
   ],
   "source": [
    "grid_search=grid_search.fit(train_x,train_y)"
   ]
  },
  {
   "cell_type": "code",
   "execution_count": 159,
   "metadata": {},
   "outputs": [
    {
     "name": "stdout",
     "output_type": "stream",
     "text": [
      "{'criterion': 'gini', 'max_depth': 12, 'random_state': 95}\n"
     ]
    }
   ],
   "source": [
    "best_parameters=grid_search.best_params_\n",
    "print(best_parameters)"
   ]
  },
  {
   "cell_type": "code",
   "execution_count": 160,
   "metadata": {},
   "outputs": [
    {
     "name": "stdout",
     "output_type": "stream",
     "text": [
      "0.34\n"
     ]
    }
   ],
   "source": [
    "best_result=grid_search.best_score_\n",
    "print(best_result)"
   ]
  },
  {
   "cell_type": "code",
   "execution_count": 93,
   "metadata": {},
   "outputs": [],
   "source": [
    "dt_model=DTC(max_depth= 12,criterion= 'gini',random_state= 95)"
   ]
  },
  {
   "cell_type": "code",
   "execution_count": 106,
   "metadata": {},
   "outputs": [],
   "source": [
    "score=cross_val_score(dt_model,x,y,cv=7,scoring='accuracy')"
   ]
  },
  {
   "cell_type": "code",
   "execution_count": 107,
   "metadata": {},
   "outputs": [
    {
     "name": "stdout",
     "output_type": "stream",
     "text": [
      "Cross Val Score = [0.3        0.33333333 0.27586207 0.35714286 0.35714286 0.39285714\n",
      " 0.2962963 ]\n",
      "Cross Val Score Mean Scores =  0.33037636510542917\n",
      "Cross Val Score Standard deviation =  0.03854767840373205\n",
      "Y Prediction values\n",
      "[3 0 2 3 3 0 2 2 0 1 0 1 2 0 1 0 3 3 2 2 1 2 2 1 3 2 0 1 1 2 0 2 0 2 2 1 0\n",
      " 2 1 0 1 0 4 3 1 1 1 3 4 0 2 0 2 2 3 3 3 3 2 0 0 0 1 2 1 0 0 1 2 0 3 2 0 3\n",
      " 3 3 3 2 3 1 1 4 2 2 3 2 2 1 4 3 4 1 1 1 1 4 0 0 1 2 0 3 3 2 3 2 3 1 1 3 3\n",
      " 0 0 1 0 3 1 2 1 0 2 4 1 0 0 1 3 4 2 0 1 0 2 2 2 0 0 1 1 2 4 3 0 2 0 0 2 1\n",
      " 3 3 2 2 2 2 1 0 0 3 1 4 1 0 2 2 2 0 2 0 1 1 1 1 2 1 0 0 0 2 0 1 0 1 1 0 1\n",
      " 0 3 2 3 1 0 1 1 2 0 4 0 0 4 0]\n",
      "Accuracy Score Mean = 0.33\n"
     ]
    }
   ],
   "source": [
    "print('Cross Val Score =',score)\n",
    "print('Cross Val Score Mean Scores = ',score.mean())\n",
    "print('Cross Val Score Standard deviation = ',score.std())\n",
    "\n",
    "y_pred1=cross_val_predict(dt_model,x,y,cv=7)\n",
    "print('Y Prediction values')\n",
    "print(y_pred1)\n",
    "conf_mat=confusion_matrix(y,y_pred1)\n",
    "conf_mat\n",
    "\n",
    "from sklearn.metrics import accuracy_score\n",
    "score1=accuracy_score(y,y_pred1)\n",
    "print('Accuracy Score Mean =',score1.mean())"
   ]
  },
  {
   "cell_type": "code",
   "execution_count": 108,
   "metadata": {},
   "outputs": [
    {
     "data": {
      "text/plain": [
       "array([3, 0, 2, 3, 3, 0, 2, 2, 0, 1, 0, 1, 2, 0, 1, 0, 3, 3, 2, 2, 1, 2,\n",
       "       2, 1, 3, 2, 0, 1, 1, 2, 0, 2, 0, 2, 2, 1, 0, 2, 1, 0, 1, 0, 4, 3,\n",
       "       1, 1, 1, 3, 4, 0, 2, 0, 2, 2, 3, 3, 3, 3, 2, 0, 0, 0, 1, 2, 1, 0,\n",
       "       0, 1, 2, 0, 3, 2, 0, 3, 3, 3, 3, 2, 3, 1, 1, 4, 2, 2, 3, 2, 2, 1,\n",
       "       4, 3, 4, 1, 1, 1, 1, 4, 0, 0, 1, 2, 0, 3, 3, 2, 3, 2, 3, 1, 1, 3,\n",
       "       3, 0, 0, 1, 0, 3, 1, 2, 1, 0, 2, 4, 1, 0, 0, 1, 3, 4, 2, 0, 1, 0,\n",
       "       2, 2, 2, 0, 0, 1, 1, 2, 4, 3, 0, 2, 0, 0, 2, 1, 3, 3, 2, 2, 2, 2,\n",
       "       1, 0, 0, 3, 1, 4, 1, 0, 2, 2, 2, 0, 2, 0, 1, 1, 1, 1, 2, 1, 0, 0,\n",
       "       0, 2, 0, 1, 0, 1, 1, 0, 1, 0, 3, 2, 3, 1, 0, 1, 1, 2, 0, 4, 0, 0,\n",
       "       4, 0], dtype=int64)"
      ]
     },
     "execution_count": 108,
     "metadata": {},
     "output_type": "execute_result"
    }
   ],
   "source": [
    "#We will use cv=7 for which we are getting the maximum Cross Val Score = 0.33037636510542917 and Maximum Accuracy Score = 0.33. \n",
    "\n",
    "y_pred1"
   ]
  },
  {
   "cell_type": "code",
   "execution_count": null,
   "metadata": {},
   "outputs": [],
   "source": []
  }
 ],
 "metadata": {
  "kernelspec": {
   "display_name": "Python 3",
   "language": "python",
   "name": "python3"
  },
  "language_info": {
   "codemirror_mode": {
    "name": "ipython",
    "version": 3
   },
   "file_extension": ".py",
   "mimetype": "text/x-python",
   "name": "python",
   "nbconvert_exporter": "python",
   "pygments_lexer": "ipython3",
   "version": "3.7.4"
  }
 },
 "nbformat": 4,
 "nbformat_minor": 2
}
